{
 "cells": [
  {
   "cell_type": "markdown",
   "source": [
    "# This script is for averaging the second column \"Percentage of occurrence in the last 50ns\" of each sheet in the excel file \"SaltBridges54Conditions271123\" and save the sheet name & the average values in a dataframe with pandas"
   ],
   "metadata": {
    "collapsed": false
   }
  },
  {
   "cell_type": "code",
   "execution_count": 3,
   "outputs": [
    {
     "name": "stdout",
     "output_type": "stream",
     "text": [
      "         Condition  Salt bridge average\n",
      "0        3_5_277_0             0.051053\n",
      "1          8_338_0             0.042971\n",
      "2      3_5_338_100             0.047955\n",
      "3      3_5_338_200             0.041181\n",
      "4      5_5_296_250             0.054834\n",
      "5        9_338_200             0.041188\n",
      "6      318K_7_250M             0.050938\n",
      "7       3_5_277_50             0.048486\n",
      "8       296K_7_50M             0.054602\n",
      "9      4_5_296_250             0.052252\n",
      "10    318_4_5_150M             0.169203\n",
      "11       7_296_250             0.050654\n",
      "12       8_338_500             0.043772\n",
      "13         7_338_0             0.044333\n",
      "14       9_338_100             0.050454\n",
      "15    277_3_5_150M             0.058059\n",
      "16     3_5_338_250             0.040954\n",
      "17       9_338_500             0.042319\n",
      "18     3_5_338_150             0.047399\n",
      "19     5_5_296_100             0.058806\n",
      "20       4_5_338_0             0.042583\n",
      "21     4_5_338_200             0.042192\n",
      "22       9_338_400             0.046053\n",
      "23  318_4_5_150M_2             0.185653\n",
      "24    338_4_5_250M             0.196939\n",
      "25         9_338_0             0.045823\n",
      "26       5_5_296_0             0.066858\n",
      "27       8_338_400             0.043095\n",
      "28  338_4_5_250M_2             0.203397\n",
      "29     5_5_296_200             0.061232\n",
      "30     318K_7_150M             0.051987\n",
      "31      338K_7_50M             0.045252\n",
      "32       9_338_300             0.041793\n",
      "33       8_277_100             0.062949\n",
      "34       8_338_300             0.037570\n",
      "35     318_4_5_50M             0.208625\n",
      "36     338_3_5_50M             0.055593\n",
      "37     5_5_296_150             0.058432\n",
      "38  318_4_5_150M_3             0.193118\n",
      "39      5_5_296_50             0.055770\n",
      "40     277K_7_250M             0.050520\n",
      "41    318_3_5_250M             0.052533\n",
      "42        7_296_50             0.064482\n",
      "43     296_4_5_50M             0.206604\n",
      "44      4_5_338_50             0.043942\n",
      "45   296_4_5_50M_2             0.202716\n",
      "46     277K_7_150M             0.060991\n",
      "47    296_3_5_250M             0.052870\n",
      "48     4_5_338_100             0.047351\n",
      "49       7_296_150             0.055802\n",
      "50  318_4_5_150M_4             0.212684\n",
      "51       8_338_200             0.054819\n",
      "52     4_5_338_150             0.038929\n",
      "53    277_4_5_250M             0.220106\n"
     ]
    }
   ],
   "source": [
    "import pandas as pd\n",
    "\n",
    "# Replace 'your_excel_file.xlsx' with the actual name of your Excel file\n",
    "excel_file_path = 'SaltBridges54Conditions271123.xlsx'\n",
    "\n",
    "# Create an empty list to store the results\n",
    "averages_data = []\n",
    "\n",
    "# Load each sheet and calculate the average for the second column\n",
    "xl = pd.ExcelFile(excel_file_path)\n",
    "for sheet_name in xl.sheet_names:\n",
    "    df = pd.read_excel(excel_file_path, sheet_name)\n",
    "    avg = df.iloc[:, 1].mean()  # Assuming the second column is indexed at 1 (0-indexed)\n",
    "    averages_data.append([sheet_name, avg])\n",
    "\n",
    "# Create a DataFrame from the results\n",
    "result_df = pd.DataFrame(averages_data, columns=['Condition', 'Salt bridge average'])\n",
    "\n",
    "# Print or further process the result DataFrame\n",
    "print(result_df)\n",
    "\n",
    "# save the dataframe\n",
    "#result_df.to_excel(\"AverageSaltBridge230124.xlsx\")\n"
   ],
   "metadata": {
    "collapsed": false,
    "ExecuteTime": {
     "end_time": "2024-01-23T17:06:45.588155Z",
     "start_time": "2024-01-23T17:06:44.278692Z"
    }
   }
  },
  {
   "cell_type": "code",
   "execution_count": null,
   "outputs": [],
   "source": [],
   "metadata": {
    "collapsed": false
   }
  }
 ],
 "metadata": {
  "kernelspec": {
   "display_name": "Python 3",
   "language": "python",
   "name": "python3"
  },
  "language_info": {
   "codemirror_mode": {
    "name": "ipython",
    "version": 2
   },
   "file_extension": ".py",
   "mimetype": "text/x-python",
   "name": "python",
   "nbconvert_exporter": "python",
   "pygments_lexer": "ipython2",
   "version": "2.7.6"
  }
 },
 "nbformat": 4,
 "nbformat_minor": 0
}
