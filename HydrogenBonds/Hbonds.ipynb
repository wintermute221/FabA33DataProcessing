{
 "cells": [
  {
   "cell_type": "markdown",
   "id": "be2ff730",
   "metadata": {},
   "source": [
    "# For processing HBond xvg files"
   ]
  },
  {
   "cell_type": "code",
   "execution_count": 1,
   "id": "0c86fa7f",
   "metadata": {
    "ExecuteTime": {
     "end_time": "2023-11-01T19:30:55.925530Z",
     "start_time": "2023-11-01T19:30:55.459383Z"
    }
   },
   "outputs": [],
   "source": [
    "# Define a function to read xvg files\n",
    "\n",
    "import pandas as pd\n",
    "\n",
    "def read_xvg(file_path):\n",
    "    data = []\n",
    "\n",
    "    with open(file_path, 'r') as f:\n",
    "        for line in f:\n",
    "            if not line.startswith(\"#\") and not line.startswith('@'):\n",
    "                new_list = [elem for elem in line.split()]\n",
    "                data.append(new_list)\n",
    "    # Convert the list of lists into a Pandas DataFrame\n",
    "    df = pd.DataFrame(data)\n",
    "    return df"
   ]
  },
  {
   "cell_type": "code",
   "execution_count": 8,
   "id": "851c70c8",
   "metadata": {
    "ExecuteTime": {
     "end_time": "2023-11-01T19:41:17.965136Z",
     "start_time": "2023-11-01T19:41:17.396567Z"
    }
   },
   "outputs": [],
   "source": [
    "import os\n",
    "import pandas as pd\n",
    "import fnmatch # looking for a specific string in a file name\n",
    "import re \n",
    "import numpy as np\n",
    "\n",
    "## Read the xvg files for Hbonds and save them to dictionaries\n",
    "\n",
    "xvgpath = 'HBonds300823/'\n",
    "\n",
    "directory = xvgpath\n",
    "\n",
    "# hbond files\n",
    "hbond = [x for x in os.listdir(directory) if fnmatch.fnmatch(x, '*hbond.xvg')] # fnmatch look for rmsd filename specifically\n",
    "\n",
    "## example for fnmatch: the files that start with hello and end with .js `if fnmatch.fnmatch(file, \"hello*.js\"):`\n",
    "d_hbond = {} # dictionary that will hold them \n",
    "\n",
    "for file_name in hbond: # loop over files\n",
    "    \n",
    "   # read data into a dataframe and add it to dict with file_name as it key\n",
    "    d_hbond[file_name] = read_xvg(os.path.join(directory,file_name)) # to note, directory and file_name need to be joint or else the file can't be found\n",
    "    \n",
    "    \n",
    "## Drop the first 500 frames and calculate the average \n",
    "\n",
    "avg = []\n",
    "\n",
    "# loop over the dictionary. df is the key of the dictionary https://www.w3schools.com/python/python_dictionaries_loop.aspb\n",
    "for df in d_hbond: \n",
    "    \n",
    "    # drop frames\n",
    "    drop = d_hbond[df].drop(range(0,501))\n",
    "    \n",
    "    # convert all the data to numeric\n",
    "    drop = drop.apply(pd.to_numeric)\n",
    "    \n",
    "    # calculate mean\n",
    "    mean = drop.mean(axis = 0)\n",
    "    \n",
    "    # assign mean values and condition into a list\n",
    "    avg.append([df,mean[1]])\n",
    "\n",
    "# convert into a dataframe\n",
    "\n",
    "df_avg = pd.DataFrame(avg)\n",
    "\n",
    "# Assign names\n",
    "df_avg.columns = ['Condition','Number of hydrogen bonds in the last 50ns']\n",
    "\n",
    "\n",
    "# set conditions as index \n",
    "df_avg.set_index('Condition', inplace=True)\n",
    "    \n",
    "# Read the 54 condition names \n",
    "\n",
    "run54 = pd.read_excel(\"54ConditionName120923.xlsx\",index_col=0)\n",
    "\n",
    "# and convert it into a list\n",
    "run54 = list(run54['Condition'])\n",
    "\n",
    "\n",
    "## calculate the mean of 6 replicas\n",
    "\n",
    "hbond_avg = []\n",
    "\n",
    "for i in run54:\n",
    "\n",
    "    avg = []\n",
    "    \n",
    "    # loop over the rows in a dataframe\n",
    "    for index, row in df_avg.iterrows():\n",
    "        \n",
    "        # search for any matching\n",
    "        if re.search(i, index):\n",
    "            \n",
    "            data = row['Number of hydrogen bonds in the last 50ns']\n",
    "            \n",
    "            avg.append(data)\n",
    "            \n",
    "    # calculate the mean value of the six replicas for each condition\n",
    "    avg = np.mean(avg)\n",
    "    \n",
    "    # append the condition info as well as the calculated mean native contacts into a list\n",
    "    hbond_avg.append([i,avg])\n",
    "    \n",
    "    \n",
    "    \n",
    "# convert the list to a dataframe   \n",
    "df_hbond_avg = pd.DataFrame(hbond_avg)\n",
    "\n",
    "# assign column names\n",
    "df_hbond_avg.columns = ['Condition','Number of hydrogen bonds in the last 50ns']\n",
    "\n",
    "# save to an excel file\n",
    "#df_hbond_avg.to_excel(\"AvgHbondsNumberLast50ns.xlsx\")"
   ]
  }
 ],
 "metadata": {
  "kernelspec": {
   "display_name": "Python 3 (ipykernel)",
   "language": "python",
   "name": "python3"
  },
  "language_info": {
   "codemirror_mode": {
    "name": "ipython",
    "version": 3
   },
   "file_extension": ".py",
   "mimetype": "text/x-python",
   "name": "python",
   "nbconvert_exporter": "python",
   "pygments_lexer": "ipython3",
   "version": "3.8.16"
  },
  "nbTranslate": {
   "displayLangs": [
    "*"
   ],
   "hotkey": "alt-t",
   "langInMainMenu": true,
   "sourceLang": "en",
   "targetLang": "fr",
   "useGoogleTranslate": true
  },
  "toc": {
   "base_numbering": 1,
   "nav_menu": {},
   "number_sections": true,
   "sideBar": true,
   "skip_h1_title": false,
   "title_cell": "Table of Contents",
   "title_sidebar": "Contents",
   "toc_cell": false,
   "toc_position": {},
   "toc_section_display": true,
   "toc_window_display": false
  }
 },
 "nbformat": 4,
 "nbformat_minor": 5
}
