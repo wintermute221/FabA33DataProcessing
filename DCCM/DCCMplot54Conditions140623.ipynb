{
 "cells": [
  {
   "cell_type": "markdown",
   "id": "a3989130",
   "metadata": {},
   "source": [
    "The purpose of this script is to generate DCCM for each condition with a for loop\n",
    "\n",
    "\n",
    "It was written in the R script"
   ]
  },
  {
   "cell_type": "code",
   "execution_count": 11,
   "id": "62d1e8df",
   "metadata": {
    "ExecuteTime": {
     "end_time": "2023-06-30T13:09:03.128901Z",
     "start_time": "2023-06-30T13:09:03.111Z"
    }
   },
   "outputs": [
    {
     "data": {
      "text/html": [
       "'/Users/wintermute/Library/CloudStorage/GoogleDrive-wintermute.backup@gmail.com/My Drive/MacbookPro/GoogleDrive/UCL/PaulGroup/MolecularDynamics/Gromacs/FabA33/DataAnalysisAll200323/DCCM170423/DCCMplots54runs_140623'"
      ],
      "text/latex": [
       "'/Users/wintermute/Library/CloudStorage/GoogleDrive-wintermute.backup@gmail.com/My Drive/MacbookPro/GoogleDrive/UCL/PaulGroup/MolecularDynamics/Gromacs/FabA33/DataAnalysisAll200323/DCCM170423/DCCMplots54runs\\_140623'"
      ],
      "text/markdown": [
       "'/Users/wintermute/Library/CloudStorage/GoogleDrive-wintermute.backup@gmail.com/My Drive/MacbookPro/GoogleDrive/UCL/PaulGroup/MolecularDynamics/Gromacs/FabA33/DataAnalysisAll200323/DCCM170423/DCCMplots54runs_140623'"
      ],
      "text/plain": [
       "[1] \"/Users/wintermute/Library/CloudStorage/GoogleDrive-wintermute.backup@gmail.com/My Drive/MacbookPro/GoogleDrive/UCL/PaulGroup/MolecularDynamics/Gromacs/FabA33/DataAnalysisAll200323/DCCM170423/DCCMplots54runs_140623\""
      ]
     },
     "metadata": {},
     "output_type": "display_data"
    }
   ],
   "source": [
    "getwd()"
   ]
  },
  {
   "cell_type": "code",
   "execution_count": 2,
   "id": "f150b7ec",
   "metadata": {
    "ExecuteTime": {
     "end_time": "2023-06-30T13:06:22.232676Z",
     "start_time": "2023-06-30T13:06:22.002Z"
    }
   },
   "outputs": [],
   "source": [
    "library(bio3d) "
   ]
  },
  {
   "cell_type": "code",
   "execution_count": 13,
   "id": "dfdc607d",
   "metadata": {
    "ExecuteTime": {
     "end_time": "2023-06-30T13:09:39.588529Z",
     "start_time": "2023-06-30T13:09:39.566Z"
    }
   },
   "outputs": [],
   "source": [
    "setwd('/Users/wintermute/Library/CloudStorage/GoogleDrive-wintermute.backup@gmail.com/My Drive/MacbookPro/GoogleDrive/UCL/PaulGroup/MolecularDynamics/Gromacs/FabA33/DataAnalysisAll200323/DCCM170423/DCCMplots54runs_140623/54DCD300623')"
   ]
  },
  {
   "cell_type": "code",
   "execution_count": 14,
   "id": "a966e701",
   "metadata": {
    "ExecuteTime": {
     "end_time": "2023-06-30T13:09:41.446717Z",
     "start_time": "2023-06-30T13:09:41.430Z"
    }
   },
   "outputs": [
    {
     "data": {
      "text/html": [
       "'/Users/wintermute/Library/CloudStorage/GoogleDrive-wintermute.backup@gmail.com/My Drive/MacbookPro/GoogleDrive/UCL/PaulGroup/MolecularDynamics/Gromacs/FabA33/DataAnalysisAll200323/DCCM170423/DCCMplots54runs_140623/54DCD300623'"
      ],
      "text/latex": [
       "'/Users/wintermute/Library/CloudStorage/GoogleDrive-wintermute.backup@gmail.com/My Drive/MacbookPro/GoogleDrive/UCL/PaulGroup/MolecularDynamics/Gromacs/FabA33/DataAnalysisAll200323/DCCM170423/DCCMplots54runs\\_140623/54DCD300623'"
      ],
      "text/markdown": [
       "'/Users/wintermute/Library/CloudStorage/GoogleDrive-wintermute.backup@gmail.com/My Drive/MacbookPro/GoogleDrive/UCL/PaulGroup/MolecularDynamics/Gromacs/FabA33/DataAnalysisAll200323/DCCM170423/DCCMplots54runs_140623/54DCD300623'"
      ],
      "text/plain": [
       "[1] \"/Users/wintermute/Library/CloudStorage/GoogleDrive-wintermute.backup@gmail.com/My Drive/MacbookPro/GoogleDrive/UCL/PaulGroup/MolecularDynamics/Gromacs/FabA33/DataAnalysisAll200323/DCCM170423/DCCMplots54runs_140623/54DCD300623\""
      ]
     },
     "metadata": {},
     "output_type": "display_data"
    }
   ],
   "source": [
    "getwd()"
   ]
  },
  {
   "cell_type": "code",
   "execution_count": 13,
   "id": "f0cba552",
   "metadata": {
    "ExecuteTime": {
     "end_time": "2023-06-14T12:48:36.677229Z",
     "start_time": "2023-06-14T12:48:36.623Z"
    },
    "code_folding": [
     0
    ],
    "collapsed": true
   },
   "outputs": [
    {
     "name": "stdout",
     "output_type": "stream",
     "text": [
      "[1] \"/Users/wintermute/Library/CloudStorage/GoogleDrive-wintermute.backup@gmail.com/My Drive/MacbookPro/GoogleDrive/UCL/PaulGroup/MolecularDynamics/Gromacs/FabA33/DataAnalysisAll200323/DCCM170423/ConvertDCD140623/54DCD140623\"\n",
      "[1] \"/Users/wintermute/Library/CloudStorage/GoogleDrive-wintermute.backup@gmail.com/My Drive/MacbookPro/GoogleDrive/UCL/PaulGroup/MolecularDynamics/Gromacs/FabA33/DataAnalysisAll200323/DCCM170423/ConvertDCD140623/54DCD140623\"\n",
      "[1] \"/Users/wintermute/Library/CloudStorage/GoogleDrive-wintermute.backup@gmail.com/My Drive/MacbookPro/GoogleDrive/UCL/PaulGroup/MolecularDynamics/Gromacs/FabA33/DataAnalysisAll200323/DCCM170423/ConvertDCD140623/54DCD140623\"\n",
      "[1] \"/Users/wintermute/Library/CloudStorage/GoogleDrive-wintermute.backup@gmail.com/My Drive/MacbookPro/GoogleDrive/UCL/PaulGroup/MolecularDynamics/Gromacs/FabA33/DataAnalysisAll200323/DCCM170423/ConvertDCD140623/54DCD140623\"\n",
      "[1] \"/Users/wintermute/Library/CloudStorage/GoogleDrive-wintermute.backup@gmail.com/My Drive/MacbookPro/GoogleDrive/UCL/PaulGroup/MolecularDynamics/Gromacs/FabA33/DataAnalysisAll200323/DCCM170423/ConvertDCD140623/54DCD140623\"\n",
      "[1] \"/Users/wintermute/Library/CloudStorage/GoogleDrive-wintermute.backup@gmail.com/My Drive/MacbookPro/GoogleDrive/UCL/PaulGroup/MolecularDynamics/Gromacs/FabA33/DataAnalysisAll200323/DCCM170423/ConvertDCD140623/54DCD140623\"\n",
      "[1] \"/Users/wintermute/Library/CloudStorage/GoogleDrive-wintermute.backup@gmail.com/My Drive/MacbookPro/GoogleDrive/UCL/PaulGroup/MolecularDynamics/Gromacs/FabA33/DataAnalysisAll200323/DCCM170423/ConvertDCD140623/54DCD140623\"\n",
      "[1] \"/Users/wintermute/Library/CloudStorage/GoogleDrive-wintermute.backup@gmail.com/My Drive/MacbookPro/GoogleDrive/UCL/PaulGroup/MolecularDynamics/Gromacs/FabA33/DataAnalysisAll200323/DCCM170423/ConvertDCD140623/54DCD140623\"\n",
      "[1] \"/Users/wintermute/Library/CloudStorage/GoogleDrive-wintermute.backup@gmail.com/My Drive/MacbookPro/GoogleDrive/UCL/PaulGroup/MolecularDynamics/Gromacs/FabA33/DataAnalysisAll200323/DCCM170423/ConvertDCD140623/54DCD140623\"\n",
      "[1] \"/Users/wintermute/Library/CloudStorage/GoogleDrive-wintermute.backup@gmail.com/My Drive/MacbookPro/GoogleDrive/UCL/PaulGroup/MolecularDynamics/Gromacs/FabA33/DataAnalysisAll200323/DCCM170423/ConvertDCD140623/54DCD140623\"\n",
      "[1] \"/Users/wintermute/Library/CloudStorage/GoogleDrive-wintermute.backup@gmail.com/My Drive/MacbookPro/GoogleDrive/UCL/PaulGroup/MolecularDynamics/Gromacs/FabA33/DataAnalysisAll200323/DCCM170423/ConvertDCD140623/54DCD140623\"\n",
      "[1] \"/Users/wintermute/Library/CloudStorage/GoogleDrive-wintermute.backup@gmail.com/My Drive/MacbookPro/GoogleDrive/UCL/PaulGroup/MolecularDynamics/Gromacs/FabA33/DataAnalysisAll200323/DCCM170423/ConvertDCD140623/54DCD140623\"\n",
      "[1] \"/Users/wintermute/Library/CloudStorage/GoogleDrive-wintermute.backup@gmail.com/My Drive/MacbookPro/GoogleDrive/UCL/PaulGroup/MolecularDynamics/Gromacs/FabA33/DataAnalysisAll200323/DCCM170423/ConvertDCD140623/54DCD140623\"\n",
      "[1] \"/Users/wintermute/Library/CloudStorage/GoogleDrive-wintermute.backup@gmail.com/My Drive/MacbookPro/GoogleDrive/UCL/PaulGroup/MolecularDynamics/Gromacs/FabA33/DataAnalysisAll200323/DCCM170423/ConvertDCD140623/54DCD140623\"\n",
      "[1] \"/Users/wintermute/Library/CloudStorage/GoogleDrive-wintermute.backup@gmail.com/My Drive/MacbookPro/GoogleDrive/UCL/PaulGroup/MolecularDynamics/Gromacs/FabA33/DataAnalysisAll200323/DCCM170423/ConvertDCD140623/54DCD140623\"\n",
      "[1] \"/Users/wintermute/Library/CloudStorage/GoogleDrive-wintermute.backup@gmail.com/My Drive/MacbookPro/GoogleDrive/UCL/PaulGroup/MolecularDynamics/Gromacs/FabA33/DataAnalysisAll200323/DCCM170423/ConvertDCD140623/54DCD140623\"\n",
      "[1] \"/Users/wintermute/Library/CloudStorage/GoogleDrive-wintermute.backup@gmail.com/My Drive/MacbookPro/GoogleDrive/UCL/PaulGroup/MolecularDynamics/Gromacs/FabA33/DataAnalysisAll200323/DCCM170423/ConvertDCD140623/54DCD140623\"\n",
      "[1] \"/Users/wintermute/Library/CloudStorage/GoogleDrive-wintermute.backup@gmail.com/My Drive/MacbookPro/GoogleDrive/UCL/PaulGroup/MolecularDynamics/Gromacs/FabA33/DataAnalysisAll200323/DCCM170423/ConvertDCD140623/54DCD140623\"\n",
      "[1] \"/Users/wintermute/Library/CloudStorage/GoogleDrive-wintermute.backup@gmail.com/My Drive/MacbookPro/GoogleDrive/UCL/PaulGroup/MolecularDynamics/Gromacs/FabA33/DataAnalysisAll200323/DCCM170423/ConvertDCD140623/54DCD140623\"\n",
      "[1] \"/Users/wintermute/Library/CloudStorage/GoogleDrive-wintermute.backup@gmail.com/My Drive/MacbookPro/GoogleDrive/UCL/PaulGroup/MolecularDynamics/Gromacs/FabA33/DataAnalysisAll200323/DCCM170423/ConvertDCD140623/54DCD140623\"\n",
      "[1] \"/Users/wintermute/Library/CloudStorage/GoogleDrive-wintermute.backup@gmail.com/My Drive/MacbookPro/GoogleDrive/UCL/PaulGroup/MolecularDynamics/Gromacs/FabA33/DataAnalysisAll200323/DCCM170423/ConvertDCD140623/54DCD140623\"\n",
      "[1] \"/Users/wintermute/Library/CloudStorage/GoogleDrive-wintermute.backup@gmail.com/My Drive/MacbookPro/GoogleDrive/UCL/PaulGroup/MolecularDynamics/Gromacs/FabA33/DataAnalysisAll200323/DCCM170423/ConvertDCD140623/54DCD140623\"\n",
      "[1] \"/Users/wintermute/Library/CloudStorage/GoogleDrive-wintermute.backup@gmail.com/My Drive/MacbookPro/GoogleDrive/UCL/PaulGroup/MolecularDynamics/Gromacs/FabA33/DataAnalysisAll200323/DCCM170423/ConvertDCD140623/54DCD140623\"\n",
      "[1] \"/Users/wintermute/Library/CloudStorage/GoogleDrive-wintermute.backup@gmail.com/My Drive/MacbookPro/GoogleDrive/UCL/PaulGroup/MolecularDynamics/Gromacs/FabA33/DataAnalysisAll200323/DCCM170423/ConvertDCD140623/54DCD140623\"\n",
      "[1] \"/Users/wintermute/Library/CloudStorage/GoogleDrive-wintermute.backup@gmail.com/My Drive/MacbookPro/GoogleDrive/UCL/PaulGroup/MolecularDynamics/Gromacs/FabA33/DataAnalysisAll200323/DCCM170423/ConvertDCD140623/54DCD140623\"\n",
      "[1] \"/Users/wintermute/Library/CloudStorage/GoogleDrive-wintermute.backup@gmail.com/My Drive/MacbookPro/GoogleDrive/UCL/PaulGroup/MolecularDynamics/Gromacs/FabA33/DataAnalysisAll200323/DCCM170423/ConvertDCD140623/54DCD140623\"\n",
      "[1] \"/Users/wintermute/Library/CloudStorage/GoogleDrive-wintermute.backup@gmail.com/My Drive/MacbookPro/GoogleDrive/UCL/PaulGroup/MolecularDynamics/Gromacs/FabA33/DataAnalysisAll200323/DCCM170423/ConvertDCD140623/54DCD140623\"\n",
      "[1] \"/Users/wintermute/Library/CloudStorage/GoogleDrive-wintermute.backup@gmail.com/My Drive/MacbookPro/GoogleDrive/UCL/PaulGroup/MolecularDynamics/Gromacs/FabA33/DataAnalysisAll200323/DCCM170423/ConvertDCD140623/54DCD140623\"\n",
      "[1] \"/Users/wintermute/Library/CloudStorage/GoogleDrive-wintermute.backup@gmail.com/My Drive/MacbookPro/GoogleDrive/UCL/PaulGroup/MolecularDynamics/Gromacs/FabA33/DataAnalysisAll200323/DCCM170423/ConvertDCD140623/54DCD140623\"\n",
      "[1] \"/Users/wintermute/Library/CloudStorage/GoogleDrive-wintermute.backup@gmail.com/My Drive/MacbookPro/GoogleDrive/UCL/PaulGroup/MolecularDynamics/Gromacs/FabA33/DataAnalysisAll200323/DCCM170423/ConvertDCD140623/54DCD140623\"\n",
      "[1] \"/Users/wintermute/Library/CloudStorage/GoogleDrive-wintermute.backup@gmail.com/My Drive/MacbookPro/GoogleDrive/UCL/PaulGroup/MolecularDynamics/Gromacs/FabA33/DataAnalysisAll200323/DCCM170423/ConvertDCD140623/54DCD140623\"\n",
      "[1] \"/Users/wintermute/Library/CloudStorage/GoogleDrive-wintermute.backup@gmail.com/My Drive/MacbookPro/GoogleDrive/UCL/PaulGroup/MolecularDynamics/Gromacs/FabA33/DataAnalysisAll200323/DCCM170423/ConvertDCD140623/54DCD140623\"\n",
      "[1] \"/Users/wintermute/Library/CloudStorage/GoogleDrive-wintermute.backup@gmail.com/My Drive/MacbookPro/GoogleDrive/UCL/PaulGroup/MolecularDynamics/Gromacs/FabA33/DataAnalysisAll200323/DCCM170423/ConvertDCD140623/54DCD140623\"\n",
      "[1] \"/Users/wintermute/Library/CloudStorage/GoogleDrive-wintermute.backup@gmail.com/My Drive/MacbookPro/GoogleDrive/UCL/PaulGroup/MolecularDynamics/Gromacs/FabA33/DataAnalysisAll200323/DCCM170423/ConvertDCD140623/54DCD140623\"\n",
      "[1] \"/Users/wintermute/Library/CloudStorage/GoogleDrive-wintermute.backup@gmail.com/My Drive/MacbookPro/GoogleDrive/UCL/PaulGroup/MolecularDynamics/Gromacs/FabA33/DataAnalysisAll200323/DCCM170423/ConvertDCD140623/54DCD140623\"\n",
      "[1] \"/Users/wintermute/Library/CloudStorage/GoogleDrive-wintermute.backup@gmail.com/My Drive/MacbookPro/GoogleDrive/UCL/PaulGroup/MolecularDynamics/Gromacs/FabA33/DataAnalysisAll200323/DCCM170423/ConvertDCD140623/54DCD140623\"\n",
      "[1] \"/Users/wintermute/Library/CloudStorage/GoogleDrive-wintermute.backup@gmail.com/My Drive/MacbookPro/GoogleDrive/UCL/PaulGroup/MolecularDynamics/Gromacs/FabA33/DataAnalysisAll200323/DCCM170423/ConvertDCD140623/54DCD140623\"\n",
      "[1] \"/Users/wintermute/Library/CloudStorage/GoogleDrive-wintermute.backup@gmail.com/My Drive/MacbookPro/GoogleDrive/UCL/PaulGroup/MolecularDynamics/Gromacs/FabA33/DataAnalysisAll200323/DCCM170423/ConvertDCD140623/54DCD140623\"\n",
      "[1] \"/Users/wintermute/Library/CloudStorage/GoogleDrive-wintermute.backup@gmail.com/My Drive/MacbookPro/GoogleDrive/UCL/PaulGroup/MolecularDynamics/Gromacs/FabA33/DataAnalysisAll200323/DCCM170423/ConvertDCD140623/54DCD140623\"\n",
      "[1] \"/Users/wintermute/Library/CloudStorage/GoogleDrive-wintermute.backup@gmail.com/My Drive/MacbookPro/GoogleDrive/UCL/PaulGroup/MolecularDynamics/Gromacs/FabA33/DataAnalysisAll200323/DCCM170423/ConvertDCD140623/54DCD140623\"\n",
      "[1] \"/Users/wintermute/Library/CloudStorage/GoogleDrive-wintermute.backup@gmail.com/My Drive/MacbookPro/GoogleDrive/UCL/PaulGroup/MolecularDynamics/Gromacs/FabA33/DataAnalysisAll200323/DCCM170423/ConvertDCD140623/54DCD140623\"\n",
      "[1] \"/Users/wintermute/Library/CloudStorage/GoogleDrive-wintermute.backup@gmail.com/My Drive/MacbookPro/GoogleDrive/UCL/PaulGroup/MolecularDynamics/Gromacs/FabA33/DataAnalysisAll200323/DCCM170423/ConvertDCD140623/54DCD140623\"\n",
      "[1] \"/Users/wintermute/Library/CloudStorage/GoogleDrive-wintermute.backup@gmail.com/My Drive/MacbookPro/GoogleDrive/UCL/PaulGroup/MolecularDynamics/Gromacs/FabA33/DataAnalysisAll200323/DCCM170423/ConvertDCD140623/54DCD140623\"\n",
      "[1] \"/Users/wintermute/Library/CloudStorage/GoogleDrive-wintermute.backup@gmail.com/My Drive/MacbookPro/GoogleDrive/UCL/PaulGroup/MolecularDynamics/Gromacs/FabA33/DataAnalysisAll200323/DCCM170423/ConvertDCD140623/54DCD140623\"\n",
      "[1] \"/Users/wintermute/Library/CloudStorage/GoogleDrive-wintermute.backup@gmail.com/My Drive/MacbookPro/GoogleDrive/UCL/PaulGroup/MolecularDynamics/Gromacs/FabA33/DataAnalysisAll200323/DCCM170423/ConvertDCD140623/54DCD140623\"\n",
      "[1] \"/Users/wintermute/Library/CloudStorage/GoogleDrive-wintermute.backup@gmail.com/My Drive/MacbookPro/GoogleDrive/UCL/PaulGroup/MolecularDynamics/Gromacs/FabA33/DataAnalysisAll200323/DCCM170423/ConvertDCD140623/54DCD140623\"\n",
      "[1] \"/Users/wintermute/Library/CloudStorage/GoogleDrive-wintermute.backup@gmail.com/My Drive/MacbookPro/GoogleDrive/UCL/PaulGroup/MolecularDynamics/Gromacs/FabA33/DataAnalysisAll200323/DCCM170423/ConvertDCD140623/54DCD140623\"\n",
      "[1] \"/Users/wintermute/Library/CloudStorage/GoogleDrive-wintermute.backup@gmail.com/My Drive/MacbookPro/GoogleDrive/UCL/PaulGroup/MolecularDynamics/Gromacs/FabA33/DataAnalysisAll200323/DCCM170423/ConvertDCD140623/54DCD140623\"\n",
      "[1] \"/Users/wintermute/Library/CloudStorage/GoogleDrive-wintermute.backup@gmail.com/My Drive/MacbookPro/GoogleDrive/UCL/PaulGroup/MolecularDynamics/Gromacs/FabA33/DataAnalysisAll200323/DCCM170423/ConvertDCD140623/54DCD140623\"\n",
      "[1] \"/Users/wintermute/Library/CloudStorage/GoogleDrive-wintermute.backup@gmail.com/My Drive/MacbookPro/GoogleDrive/UCL/PaulGroup/MolecularDynamics/Gromacs/FabA33/DataAnalysisAll200323/DCCM170423/ConvertDCD140623/54DCD140623\"\n",
      "[1] \"/Users/wintermute/Library/CloudStorage/GoogleDrive-wintermute.backup@gmail.com/My Drive/MacbookPro/GoogleDrive/UCL/PaulGroup/MolecularDynamics/Gromacs/FabA33/DataAnalysisAll200323/DCCM170423/ConvertDCD140623/54DCD140623\"\n",
      "[1] \"/Users/wintermute/Library/CloudStorage/GoogleDrive-wintermute.backup@gmail.com/My Drive/MacbookPro/GoogleDrive/UCL/PaulGroup/MolecularDynamics/Gromacs/FabA33/DataAnalysisAll200323/DCCM170423/ConvertDCD140623/54DCD140623\"\n",
      "[1] \"/Users/wintermute/Library/CloudStorage/GoogleDrive-wintermute.backup@gmail.com/My Drive/MacbookPro/GoogleDrive/UCL/PaulGroup/MolecularDynamics/Gromacs/FabA33/DataAnalysisAll200323/DCCM170423/ConvertDCD140623/54DCD140623\"\n",
      "[1] \"/Users/wintermute/Library/CloudStorage/GoogleDrive-wintermute.backup@gmail.com/My Drive/MacbookPro/GoogleDrive/UCL/PaulGroup/MolecularDynamics/Gromacs/FabA33/DataAnalysisAll200323/DCCM170423/ConvertDCD140623/54DCD140623\"\n",
      "[1] \"/Users/wintermute/Library/CloudStorage/GoogleDrive-wintermute.backup@gmail.com/My Drive/MacbookPro/GoogleDrive/UCL/PaulGroup/MolecularDynamics/Gromacs/FabA33/DataAnalysisAll200323/DCCM170423/ConvertDCD140623/54DCD140623\"\n",
      "[1] \"/Users/wintermute/Library/CloudStorage/GoogleDrive-wintermute.backup@gmail.com/My Drive/MacbookPro/GoogleDrive/UCL/PaulGroup/MolecularDynamics/Gromacs/FabA33/DataAnalysisAll200323/DCCM170423/ConvertDCD140623/54DCD140623\"\n",
      "[1] \"/Users/wintermute/Library/CloudStorage/GoogleDrive-wintermute.backup@gmail.com/My Drive/MacbookPro/GoogleDrive/UCL/PaulGroup/MolecularDynamics/Gromacs/FabA33/DataAnalysisAll200323/DCCM170423/ConvertDCD140623/54DCD140623\"\n",
      "[1] \"/Users/wintermute/Library/CloudStorage/GoogleDrive-wintermute.backup@gmail.com/My Drive/MacbookPro/GoogleDrive/UCL/PaulGroup/MolecularDynamics/Gromacs/FabA33/DataAnalysisAll200323/DCCM170423/ConvertDCD140623/54DCD140623\"\n",
      "[1] \"/Users/wintermute/Library/CloudStorage/GoogleDrive-wintermute.backup@gmail.com/My Drive/MacbookPro/GoogleDrive/UCL/PaulGroup/MolecularDynamics/Gromacs/FabA33/DataAnalysisAll200323/DCCM170423/ConvertDCD140623/54DCD140623\"\n",
      "[1] \"/Users/wintermute/Library/CloudStorage/GoogleDrive-wintermute.backup@gmail.com/My Drive/MacbookPro/GoogleDrive/UCL/PaulGroup/MolecularDynamics/Gromacs/FabA33/DataAnalysisAll200323/DCCM170423/ConvertDCD140623/54DCD140623\"\n",
      "[1] \"/Users/wintermute/Library/CloudStorage/GoogleDrive-wintermute.backup@gmail.com/My Drive/MacbookPro/GoogleDrive/UCL/PaulGroup/MolecularDynamics/Gromacs/FabA33/DataAnalysisAll200323/DCCM170423/ConvertDCD140623/54DCD140623\"\n",
      "[1] \"/Users/wintermute/Library/CloudStorage/GoogleDrive-wintermute.backup@gmail.com/My Drive/MacbookPro/GoogleDrive/UCL/PaulGroup/MolecularDynamics/Gromacs/FabA33/DataAnalysisAll200323/DCCM170423/ConvertDCD140623/54DCD140623\"\n",
      "[1] \"/Users/wintermute/Library/CloudStorage/GoogleDrive-wintermute.backup@gmail.com/My Drive/MacbookPro/GoogleDrive/UCL/PaulGroup/MolecularDynamics/Gromacs/FabA33/DataAnalysisAll200323/DCCM170423/ConvertDCD140623/54DCD140623\"\n",
      "[1] \"/Users/wintermute/Library/CloudStorage/GoogleDrive-wintermute.backup@gmail.com/My Drive/MacbookPro/GoogleDrive/UCL/PaulGroup/MolecularDynamics/Gromacs/FabA33/DataAnalysisAll200323/DCCM170423/ConvertDCD140623/54DCD140623\"\n",
      "[1] \"/Users/wintermute/Library/CloudStorage/GoogleDrive-wintermute.backup@gmail.com/My Drive/MacbookPro/GoogleDrive/UCL/PaulGroup/MolecularDynamics/Gromacs/FabA33/DataAnalysisAll200323/DCCM170423/ConvertDCD140623/54DCD140623\"\n",
      "[1] \"/Users/wintermute/Library/CloudStorage/GoogleDrive-wintermute.backup@gmail.com/My Drive/MacbookPro/GoogleDrive/UCL/PaulGroup/MolecularDynamics/Gromacs/FabA33/DataAnalysisAll200323/DCCM170423/ConvertDCD140623/54DCD140623\"\n",
      "[1] \"/Users/wintermute/Library/CloudStorage/GoogleDrive-wintermute.backup@gmail.com/My Drive/MacbookPro/GoogleDrive/UCL/PaulGroup/MolecularDynamics/Gromacs/FabA33/DataAnalysisAll200323/DCCM170423/ConvertDCD140623/54DCD140623\"\n",
      "[1] \"/Users/wintermute/Library/CloudStorage/GoogleDrive-wintermute.backup@gmail.com/My Drive/MacbookPro/GoogleDrive/UCL/PaulGroup/MolecularDynamics/Gromacs/FabA33/DataAnalysisAll200323/DCCM170423/ConvertDCD140623/54DCD140623\"\n",
      "[1] \"/Users/wintermute/Library/CloudStorage/GoogleDrive-wintermute.backup@gmail.com/My Drive/MacbookPro/GoogleDrive/UCL/PaulGroup/MolecularDynamics/Gromacs/FabA33/DataAnalysisAll200323/DCCM170423/ConvertDCD140623/54DCD140623\"\n",
      "[1] \"/Users/wintermute/Library/CloudStorage/GoogleDrive-wintermute.backup@gmail.com/My Drive/MacbookPro/GoogleDrive/UCL/PaulGroup/MolecularDynamics/Gromacs/FabA33/DataAnalysisAll200323/DCCM170423/ConvertDCD140623/54DCD140623\"\n",
      "[1] \"/Users/wintermute/Library/CloudStorage/GoogleDrive-wintermute.backup@gmail.com/My Drive/MacbookPro/GoogleDrive/UCL/PaulGroup/MolecularDynamics/Gromacs/FabA33/DataAnalysisAll200323/DCCM170423/ConvertDCD140623/54DCD140623\"\n",
      "[1] \"/Users/wintermute/Library/CloudStorage/GoogleDrive-wintermute.backup@gmail.com/My Drive/MacbookPro/GoogleDrive/UCL/PaulGroup/MolecularDynamics/Gromacs/FabA33/DataAnalysisAll200323/DCCM170423/ConvertDCD140623/54DCD140623\"\n",
      "[1] \"/Users/wintermute/Library/CloudStorage/GoogleDrive-wintermute.backup@gmail.com/My Drive/MacbookPro/GoogleDrive/UCL/PaulGroup/MolecularDynamics/Gromacs/FabA33/DataAnalysisAll200323/DCCM170423/ConvertDCD140623/54DCD140623\"\n",
      "[1] \"/Users/wintermute/Library/CloudStorage/GoogleDrive-wintermute.backup@gmail.com/My Drive/MacbookPro/GoogleDrive/UCL/PaulGroup/MolecularDynamics/Gromacs/FabA33/DataAnalysisAll200323/DCCM170423/ConvertDCD140623/54DCD140623\"\n",
      "[1] \"/Users/wintermute/Library/CloudStorage/GoogleDrive-wintermute.backup@gmail.com/My Drive/MacbookPro/GoogleDrive/UCL/PaulGroup/MolecularDynamics/Gromacs/FabA33/DataAnalysisAll200323/DCCM170423/ConvertDCD140623/54DCD140623\"\n",
      "[1] \"/Users/wintermute/Library/CloudStorage/GoogleDrive-wintermute.backup@gmail.com/My Drive/MacbookPro/GoogleDrive/UCL/PaulGroup/MolecularDynamics/Gromacs/FabA33/DataAnalysisAll200323/DCCM170423/ConvertDCD140623/54DCD140623\"\n",
      "[1] \"/Users/wintermute/Library/CloudStorage/GoogleDrive-wintermute.backup@gmail.com/My Drive/MacbookPro/GoogleDrive/UCL/PaulGroup/MolecularDynamics/Gromacs/FabA33/DataAnalysisAll200323/DCCM170423/ConvertDCD140623/54DCD140623\"\n",
      "[1] \"/Users/wintermute/Library/CloudStorage/GoogleDrive-wintermute.backup@gmail.com/My Drive/MacbookPro/GoogleDrive/UCL/PaulGroup/MolecularDynamics/Gromacs/FabA33/DataAnalysisAll200323/DCCM170423/ConvertDCD140623/54DCD140623\"\n",
      "[1] \"/Users/wintermute/Library/CloudStorage/GoogleDrive-wintermute.backup@gmail.com/My Drive/MacbookPro/GoogleDrive/UCL/PaulGroup/MolecularDynamics/Gromacs/FabA33/DataAnalysisAll200323/DCCM170423/ConvertDCD140623/54DCD140623\"\n",
      "[1] \"/Users/wintermute/Library/CloudStorage/GoogleDrive-wintermute.backup@gmail.com/My Drive/MacbookPro/GoogleDrive/UCL/PaulGroup/MolecularDynamics/Gromacs/FabA33/DataAnalysisAll200323/DCCM170423/ConvertDCD140623/54DCD140623\"\n",
      "[1] \"/Users/wintermute/Library/CloudStorage/GoogleDrive-wintermute.backup@gmail.com/My Drive/MacbookPro/GoogleDrive/UCL/PaulGroup/MolecularDynamics/Gromacs/FabA33/DataAnalysisAll200323/DCCM170423/ConvertDCD140623/54DCD140623\"\n",
      "[1] \"/Users/wintermute/Library/CloudStorage/GoogleDrive-wintermute.backup@gmail.com/My Drive/MacbookPro/GoogleDrive/UCL/PaulGroup/MolecularDynamics/Gromacs/FabA33/DataAnalysisAll200323/DCCM170423/ConvertDCD140623/54DCD140623\"\n",
      "[1] \"/Users/wintermute/Library/CloudStorage/GoogleDrive-wintermute.backup@gmail.com/My Drive/MacbookPro/GoogleDrive/UCL/PaulGroup/MolecularDynamics/Gromacs/FabA33/DataAnalysisAll200323/DCCM170423/ConvertDCD140623/54DCD140623\"\n",
      "[1] \"/Users/wintermute/Library/CloudStorage/GoogleDrive-wintermute.backup@gmail.com/My Drive/MacbookPro/GoogleDrive/UCL/PaulGroup/MolecularDynamics/Gromacs/FabA33/DataAnalysisAll200323/DCCM170423/ConvertDCD140623/54DCD140623\"\n",
      "[1] \"/Users/wintermute/Library/CloudStorage/GoogleDrive-wintermute.backup@gmail.com/My Drive/MacbookPro/GoogleDrive/UCL/PaulGroup/MolecularDynamics/Gromacs/FabA33/DataAnalysisAll200323/DCCM170423/ConvertDCD140623/54DCD140623\"\n",
      "[1] \"/Users/wintermute/Library/CloudStorage/GoogleDrive-wintermute.backup@gmail.com/My Drive/MacbookPro/GoogleDrive/UCL/PaulGroup/MolecularDynamics/Gromacs/FabA33/DataAnalysisAll200323/DCCM170423/ConvertDCD140623/54DCD140623\"\n",
      "[1] \"/Users/wintermute/Library/CloudStorage/GoogleDrive-wintermute.backup@gmail.com/My Drive/MacbookPro/GoogleDrive/UCL/PaulGroup/MolecularDynamics/Gromacs/FabA33/DataAnalysisAll200323/DCCM170423/ConvertDCD140623/54DCD140623\"\n",
      "[1] \"/Users/wintermute/Library/CloudStorage/GoogleDrive-wintermute.backup@gmail.com/My Drive/MacbookPro/GoogleDrive/UCL/PaulGroup/MolecularDynamics/Gromacs/FabA33/DataAnalysisAll200323/DCCM170423/ConvertDCD140623/54DCD140623\"\n",
      "[1] \"/Users/wintermute/Library/CloudStorage/GoogleDrive-wintermute.backup@gmail.com/My Drive/MacbookPro/GoogleDrive/UCL/PaulGroup/MolecularDynamics/Gromacs/FabA33/DataAnalysisAll200323/DCCM170423/ConvertDCD140623/54DCD140623\"\n",
      "[1] \"/Users/wintermute/Library/CloudStorage/GoogleDrive-wintermute.backup@gmail.com/My Drive/MacbookPro/GoogleDrive/UCL/PaulGroup/MolecularDynamics/Gromacs/FabA33/DataAnalysisAll200323/DCCM170423/ConvertDCD140623/54DCD140623\"\n",
      "[1] \"/Users/wintermute/Library/CloudStorage/GoogleDrive-wintermute.backup@gmail.com/My Drive/MacbookPro/GoogleDrive/UCL/PaulGroup/MolecularDynamics/Gromacs/FabA33/DataAnalysisAll200323/DCCM170423/ConvertDCD140623/54DCD140623\"\n",
      "[1] \"/Users/wintermute/Library/CloudStorage/GoogleDrive-wintermute.backup@gmail.com/My Drive/MacbookPro/GoogleDrive/UCL/PaulGroup/MolecularDynamics/Gromacs/FabA33/DataAnalysisAll200323/DCCM170423/ConvertDCD140623/54DCD140623\"\n",
      "[1] \"/Users/wintermute/Library/CloudStorage/GoogleDrive-wintermute.backup@gmail.com/My Drive/MacbookPro/GoogleDrive/UCL/PaulGroup/MolecularDynamics/Gromacs/FabA33/DataAnalysisAll200323/DCCM170423/ConvertDCD140623/54DCD140623\"\n",
      "[1] \"/Users/wintermute/Library/CloudStorage/GoogleDrive-wintermute.backup@gmail.com/My Drive/MacbookPro/GoogleDrive/UCL/PaulGroup/MolecularDynamics/Gromacs/FabA33/DataAnalysisAll200323/DCCM170423/ConvertDCD140623/54DCD140623\"\n",
      "[1] \"/Users/wintermute/Library/CloudStorage/GoogleDrive-wintermute.backup@gmail.com/My Drive/MacbookPro/GoogleDrive/UCL/PaulGroup/MolecularDynamics/Gromacs/FabA33/DataAnalysisAll200323/DCCM170423/ConvertDCD140623/54DCD140623\"\n",
      "[1] \"/Users/wintermute/Library/CloudStorage/GoogleDrive-wintermute.backup@gmail.com/My Drive/MacbookPro/GoogleDrive/UCL/PaulGroup/MolecularDynamics/Gromacs/FabA33/DataAnalysisAll200323/DCCM170423/ConvertDCD140623/54DCD140623\"\n",
      "[1] \"/Users/wintermute/Library/CloudStorage/GoogleDrive-wintermute.backup@gmail.com/My Drive/MacbookPro/GoogleDrive/UCL/PaulGroup/MolecularDynamics/Gromacs/FabA33/DataAnalysisAll200323/DCCM170423/ConvertDCD140623/54DCD140623\"\n",
      "[1] \"/Users/wintermute/Library/CloudStorage/GoogleDrive-wintermute.backup@gmail.com/My Drive/MacbookPro/GoogleDrive/UCL/PaulGroup/MolecularDynamics/Gromacs/FabA33/DataAnalysisAll200323/DCCM170423/ConvertDCD140623/54DCD140623\"\n",
      "[1] \"/Users/wintermute/Library/CloudStorage/GoogleDrive-wintermute.backup@gmail.com/My Drive/MacbookPro/GoogleDrive/UCL/PaulGroup/MolecularDynamics/Gromacs/FabA33/DataAnalysisAll200323/DCCM170423/ConvertDCD140623/54DCD140623\"\n",
      "[1] \"/Users/wintermute/Library/CloudStorage/GoogleDrive-wintermute.backup@gmail.com/My Drive/MacbookPro/GoogleDrive/UCL/PaulGroup/MolecularDynamics/Gromacs/FabA33/DataAnalysisAll200323/DCCM170423/ConvertDCD140623/54DCD140623\"\n",
      "[1] \"/Users/wintermute/Library/CloudStorage/GoogleDrive-wintermute.backup@gmail.com/My Drive/MacbookPro/GoogleDrive/UCL/PaulGroup/MolecularDynamics/Gromacs/FabA33/DataAnalysisAll200323/DCCM170423/ConvertDCD140623/54DCD140623\"\n",
      "[1] \"/Users/wintermute/Library/CloudStorage/GoogleDrive-wintermute.backup@gmail.com/My Drive/MacbookPro/GoogleDrive/UCL/PaulGroup/MolecularDynamics/Gromacs/FabA33/DataAnalysisAll200323/DCCM170423/ConvertDCD140623/54DCD140623\"\n",
      "[1] \"/Users/wintermute/Library/CloudStorage/GoogleDrive-wintermute.backup@gmail.com/My Drive/MacbookPro/GoogleDrive/UCL/PaulGroup/MolecularDynamics/Gromacs/FabA33/DataAnalysisAll200323/DCCM170423/ConvertDCD140623/54DCD140623\"\n",
      "[1] \"/Users/wintermute/Library/CloudStorage/GoogleDrive-wintermute.backup@gmail.com/My Drive/MacbookPro/GoogleDrive/UCL/PaulGroup/MolecularDynamics/Gromacs/FabA33/DataAnalysisAll200323/DCCM170423/ConvertDCD140623/54DCD140623\"\n",
      "[1] \"/Users/wintermute/Library/CloudStorage/GoogleDrive-wintermute.backup@gmail.com/My Drive/MacbookPro/GoogleDrive/UCL/PaulGroup/MolecularDynamics/Gromacs/FabA33/DataAnalysisAll200323/DCCM170423/ConvertDCD140623/54DCD140623\"\n",
      "[1] \"/Users/wintermute/Library/CloudStorage/GoogleDrive-wintermute.backup@gmail.com/My Drive/MacbookPro/GoogleDrive/UCL/PaulGroup/MolecularDynamics/Gromacs/FabA33/DataAnalysisAll200323/DCCM170423/ConvertDCD140623/54DCD140623\"\n",
      "[1] \"/Users/wintermute/Library/CloudStorage/GoogleDrive-wintermute.backup@gmail.com/My Drive/MacbookPro/GoogleDrive/UCL/PaulGroup/MolecularDynamics/Gromacs/FabA33/DataAnalysisAll200323/DCCM170423/ConvertDCD140623/54DCD140623\"\n",
      "[1] \"/Users/wintermute/Library/CloudStorage/GoogleDrive-wintermute.backup@gmail.com/My Drive/MacbookPro/GoogleDrive/UCL/PaulGroup/MolecularDynamics/Gromacs/FabA33/DataAnalysisAll200323/DCCM170423/ConvertDCD140623/54DCD140623\"\n",
      "[1] \"/Users/wintermute/Library/CloudStorage/GoogleDrive-wintermute.backup@gmail.com/My Drive/MacbookPro/GoogleDrive/UCL/PaulGroup/MolecularDynamics/Gromacs/FabA33/DataAnalysisAll200323/DCCM170423/ConvertDCD140623/54DCD140623\"\n",
      "[1] \"/Users/wintermute/Library/CloudStorage/GoogleDrive-wintermute.backup@gmail.com/My Drive/MacbookPro/GoogleDrive/UCL/PaulGroup/MolecularDynamics/Gromacs/FabA33/DataAnalysisAll200323/DCCM170423/ConvertDCD140623/54DCD140623\"\n",
      "[1] \"/Users/wintermute/Library/CloudStorage/GoogleDrive-wintermute.backup@gmail.com/My Drive/MacbookPro/GoogleDrive/UCL/PaulGroup/MolecularDynamics/Gromacs/FabA33/DataAnalysisAll200323/DCCM170423/ConvertDCD140623/54DCD140623\"\n",
      "[1] \"/Users/wintermute/Library/CloudStorage/GoogleDrive-wintermute.backup@gmail.com/My Drive/MacbookPro/GoogleDrive/UCL/PaulGroup/MolecularDynamics/Gromacs/FabA33/DataAnalysisAll200323/DCCM170423/ConvertDCD140623/54DCD140623\"\n",
      "[1] \"/Users/wintermute/Library/CloudStorage/GoogleDrive-wintermute.backup@gmail.com/My Drive/MacbookPro/GoogleDrive/UCL/PaulGroup/MolecularDynamics/Gromacs/FabA33/DataAnalysisAll200323/DCCM170423/ConvertDCD140623/54DCD140623\"\n",
      "[1] \"/Users/wintermute/Library/CloudStorage/GoogleDrive-wintermute.backup@gmail.com/My Drive/MacbookPro/GoogleDrive/UCL/PaulGroup/MolecularDynamics/Gromacs/FabA33/DataAnalysisAll200323/DCCM170423/ConvertDCD140623/54DCD140623\"\n",
      "[1] \"/Users/wintermute/Library/CloudStorage/GoogleDrive-wintermute.backup@gmail.com/My Drive/MacbookPro/GoogleDrive/UCL/PaulGroup/MolecularDynamics/Gromacs/FabA33/DataAnalysisAll200323/DCCM170423/ConvertDCD140623/54DCD140623\"\n",
      "[1] \"/Users/wintermute/Library/CloudStorage/GoogleDrive-wintermute.backup@gmail.com/My Drive/MacbookPro/GoogleDrive/UCL/PaulGroup/MolecularDynamics/Gromacs/FabA33/DataAnalysisAll200323/DCCM170423/ConvertDCD140623/54DCD140623\"\n",
      "[1] \"/Users/wintermute/Library/CloudStorage/GoogleDrive-wintermute.backup@gmail.com/My Drive/MacbookPro/GoogleDrive/UCL/PaulGroup/MolecularDynamics/Gromacs/FabA33/DataAnalysisAll200323/DCCM170423/ConvertDCD140623/54DCD140623\"\n",
      "[1] \"/Users/wintermute/Library/CloudStorage/GoogleDrive-wintermute.backup@gmail.com/My Drive/MacbookPro/GoogleDrive/UCL/PaulGroup/MolecularDynamics/Gromacs/FabA33/DataAnalysisAll200323/DCCM170423/ConvertDCD140623/54DCD140623\"\n",
      "[1] \"/Users/wintermute/Library/CloudStorage/GoogleDrive-wintermute.backup@gmail.com/My Drive/MacbookPro/GoogleDrive/UCL/PaulGroup/MolecularDynamics/Gromacs/FabA33/DataAnalysisAll200323/DCCM170423/ConvertDCD140623/54DCD140623\"\n",
      "[1] \"/Users/wintermute/Library/CloudStorage/GoogleDrive-wintermute.backup@gmail.com/My Drive/MacbookPro/GoogleDrive/UCL/PaulGroup/MolecularDynamics/Gromacs/FabA33/DataAnalysisAll200323/DCCM170423/ConvertDCD140623/54DCD140623\"\n",
      "[1] \"/Users/wintermute/Library/CloudStorage/GoogleDrive-wintermute.backup@gmail.com/My Drive/MacbookPro/GoogleDrive/UCL/PaulGroup/MolecularDynamics/Gromacs/FabA33/DataAnalysisAll200323/DCCM170423/ConvertDCD140623/54DCD140623\"\n",
      "[1] \"/Users/wintermute/Library/CloudStorage/GoogleDrive-wintermute.backup@gmail.com/My Drive/MacbookPro/GoogleDrive/UCL/PaulGroup/MolecularDynamics/Gromacs/FabA33/DataAnalysisAll200323/DCCM170423/ConvertDCD140623/54DCD140623\"\n",
      "[1] \"/Users/wintermute/Library/CloudStorage/GoogleDrive-wintermute.backup@gmail.com/My Drive/MacbookPro/GoogleDrive/UCL/PaulGroup/MolecularDynamics/Gromacs/FabA33/DataAnalysisAll200323/DCCM170423/ConvertDCD140623/54DCD140623\"\n",
      "[1] \"/Users/wintermute/Library/CloudStorage/GoogleDrive-wintermute.backup@gmail.com/My Drive/MacbookPro/GoogleDrive/UCL/PaulGroup/MolecularDynamics/Gromacs/FabA33/DataAnalysisAll200323/DCCM170423/ConvertDCD140623/54DCD140623\"\n",
      "[1] \"/Users/wintermute/Library/CloudStorage/GoogleDrive-wintermute.backup@gmail.com/My Drive/MacbookPro/GoogleDrive/UCL/PaulGroup/MolecularDynamics/Gromacs/FabA33/DataAnalysisAll200323/DCCM170423/ConvertDCD140623/54DCD140623\"\n",
      "[1] \"/Users/wintermute/Library/CloudStorage/GoogleDrive-wintermute.backup@gmail.com/My Drive/MacbookPro/GoogleDrive/UCL/PaulGroup/MolecularDynamics/Gromacs/FabA33/DataAnalysisAll200323/DCCM170423/ConvertDCD140623/54DCD140623\"\n",
      "[1] \"/Users/wintermute/Library/CloudStorage/GoogleDrive-wintermute.backup@gmail.com/My Drive/MacbookPro/GoogleDrive/UCL/PaulGroup/MolecularDynamics/Gromacs/FabA33/DataAnalysisAll200323/DCCM170423/ConvertDCD140623/54DCD140623\"\n",
      "[1] \"/Users/wintermute/Library/CloudStorage/GoogleDrive-wintermute.backup@gmail.com/My Drive/MacbookPro/GoogleDrive/UCL/PaulGroup/MolecularDynamics/Gromacs/FabA33/DataAnalysisAll200323/DCCM170423/ConvertDCD140623/54DCD140623\"\n",
      "[1] \"/Users/wintermute/Library/CloudStorage/GoogleDrive-wintermute.backup@gmail.com/My Drive/MacbookPro/GoogleDrive/UCL/PaulGroup/MolecularDynamics/Gromacs/FabA33/DataAnalysisAll200323/DCCM170423/ConvertDCD140623/54DCD140623\"\n",
      "[1] \"/Users/wintermute/Library/CloudStorage/GoogleDrive-wintermute.backup@gmail.com/My Drive/MacbookPro/GoogleDrive/UCL/PaulGroup/MolecularDynamics/Gromacs/FabA33/DataAnalysisAll200323/DCCM170423/ConvertDCD140623/54DCD140623\"\n",
      "[1] \"/Users/wintermute/Library/CloudStorage/GoogleDrive-wintermute.backup@gmail.com/My Drive/MacbookPro/GoogleDrive/UCL/PaulGroup/MolecularDynamics/Gromacs/FabA33/DataAnalysisAll200323/DCCM170423/ConvertDCD140623/54DCD140623\"\n",
      "[1] \"/Users/wintermute/Library/CloudStorage/GoogleDrive-wintermute.backup@gmail.com/My Drive/MacbookPro/GoogleDrive/UCL/PaulGroup/MolecularDynamics/Gromacs/FabA33/DataAnalysisAll200323/DCCM170423/ConvertDCD140623/54DCD140623\"\n",
      "[1] \"/Users/wintermute/Library/CloudStorage/GoogleDrive-wintermute.backup@gmail.com/My Drive/MacbookPro/GoogleDrive/UCL/PaulGroup/MolecularDynamics/Gromacs/FabA33/DataAnalysisAll200323/DCCM170423/ConvertDCD140623/54DCD140623\"\n",
      "[1] \"/Users/wintermute/Library/CloudStorage/GoogleDrive-wintermute.backup@gmail.com/My Drive/MacbookPro/GoogleDrive/UCL/PaulGroup/MolecularDynamics/Gromacs/FabA33/DataAnalysisAll200323/DCCM170423/ConvertDCD140623/54DCD140623\"\n",
      "[1] \"/Users/wintermute/Library/CloudStorage/GoogleDrive-wintermute.backup@gmail.com/My Drive/MacbookPro/GoogleDrive/UCL/PaulGroup/MolecularDynamics/Gromacs/FabA33/DataAnalysisAll200323/DCCM170423/ConvertDCD140623/54DCD140623\"\n",
      "[1] \"/Users/wintermute/Library/CloudStorage/GoogleDrive-wintermute.backup@gmail.com/My Drive/MacbookPro/GoogleDrive/UCL/PaulGroup/MolecularDynamics/Gromacs/FabA33/DataAnalysisAll200323/DCCM170423/ConvertDCD140623/54DCD140623\"\n",
      "[1] \"/Users/wintermute/Library/CloudStorage/GoogleDrive-wintermute.backup@gmail.com/My Drive/MacbookPro/GoogleDrive/UCL/PaulGroup/MolecularDynamics/Gromacs/FabA33/DataAnalysisAll200323/DCCM170423/ConvertDCD140623/54DCD140623\"\n",
      "[1] \"/Users/wintermute/Library/CloudStorage/GoogleDrive-wintermute.backup@gmail.com/My Drive/MacbookPro/GoogleDrive/UCL/PaulGroup/MolecularDynamics/Gromacs/FabA33/DataAnalysisAll200323/DCCM170423/ConvertDCD140623/54DCD140623\"\n",
      "[1] \"/Users/wintermute/Library/CloudStorage/GoogleDrive-wintermute.backup@gmail.com/My Drive/MacbookPro/GoogleDrive/UCL/PaulGroup/MolecularDynamics/Gromacs/FabA33/DataAnalysisAll200323/DCCM170423/ConvertDCD140623/54DCD140623\"\n",
      "[1] \"/Users/wintermute/Library/CloudStorage/GoogleDrive-wintermute.backup@gmail.com/My Drive/MacbookPro/GoogleDrive/UCL/PaulGroup/MolecularDynamics/Gromacs/FabA33/DataAnalysisAll200323/DCCM170423/ConvertDCD140623/54DCD140623\"\n",
      "[1] \"/Users/wintermute/Library/CloudStorage/GoogleDrive-wintermute.backup@gmail.com/My Drive/MacbookPro/GoogleDrive/UCL/PaulGroup/MolecularDynamics/Gromacs/FabA33/DataAnalysisAll200323/DCCM170423/ConvertDCD140623/54DCD140623\"\n",
      "[1] \"/Users/wintermute/Library/CloudStorage/GoogleDrive-wintermute.backup@gmail.com/My Drive/MacbookPro/GoogleDrive/UCL/PaulGroup/MolecularDynamics/Gromacs/FabA33/DataAnalysisAll200323/DCCM170423/ConvertDCD140623/54DCD140623\"\n",
      "[1] \"/Users/wintermute/Library/CloudStorage/GoogleDrive-wintermute.backup@gmail.com/My Drive/MacbookPro/GoogleDrive/UCL/PaulGroup/MolecularDynamics/Gromacs/FabA33/DataAnalysisAll200323/DCCM170423/ConvertDCD140623/54DCD140623\"\n",
      "[1] \"/Users/wintermute/Library/CloudStorage/GoogleDrive-wintermute.backup@gmail.com/My Drive/MacbookPro/GoogleDrive/UCL/PaulGroup/MolecularDynamics/Gromacs/FabA33/DataAnalysisAll200323/DCCM170423/ConvertDCD140623/54DCD140623\"\n",
      "[1] \"/Users/wintermute/Library/CloudStorage/GoogleDrive-wintermute.backup@gmail.com/My Drive/MacbookPro/GoogleDrive/UCL/PaulGroup/MolecularDynamics/Gromacs/FabA33/DataAnalysisAll200323/DCCM170423/ConvertDCD140623/54DCD140623\"\n",
      "[1] \"/Users/wintermute/Library/CloudStorage/GoogleDrive-wintermute.backup@gmail.com/My Drive/MacbookPro/GoogleDrive/UCL/PaulGroup/MolecularDynamics/Gromacs/FabA33/DataAnalysisAll200323/DCCM170423/ConvertDCD140623/54DCD140623\"\n",
      "[1] \"/Users/wintermute/Library/CloudStorage/GoogleDrive-wintermute.backup@gmail.com/My Drive/MacbookPro/GoogleDrive/UCL/PaulGroup/MolecularDynamics/Gromacs/FabA33/DataAnalysisAll200323/DCCM170423/ConvertDCD140623/54DCD140623\"\n",
      "[1] \"/Users/wintermute/Library/CloudStorage/GoogleDrive-wintermute.backup@gmail.com/My Drive/MacbookPro/GoogleDrive/UCL/PaulGroup/MolecularDynamics/Gromacs/FabA33/DataAnalysisAll200323/DCCM170423/ConvertDCD140623/54DCD140623\"\n",
      "[1] \"/Users/wintermute/Library/CloudStorage/GoogleDrive-wintermute.backup@gmail.com/My Drive/MacbookPro/GoogleDrive/UCL/PaulGroup/MolecularDynamics/Gromacs/FabA33/DataAnalysisAll200323/DCCM170423/ConvertDCD140623/54DCD140623\"\n",
      "[1] \"/Users/wintermute/Library/CloudStorage/GoogleDrive-wintermute.backup@gmail.com/My Drive/MacbookPro/GoogleDrive/UCL/PaulGroup/MolecularDynamics/Gromacs/FabA33/DataAnalysisAll200323/DCCM170423/ConvertDCD140623/54DCD140623\"\n",
      "[1] \"/Users/wintermute/Library/CloudStorage/GoogleDrive-wintermute.backup@gmail.com/My Drive/MacbookPro/GoogleDrive/UCL/PaulGroup/MolecularDynamics/Gromacs/FabA33/DataAnalysisAll200323/DCCM170423/ConvertDCD140623/54DCD140623\"\n",
      "[1] \"/Users/wintermute/Library/CloudStorage/GoogleDrive-wintermute.backup@gmail.com/My Drive/MacbookPro/GoogleDrive/UCL/PaulGroup/MolecularDynamics/Gromacs/FabA33/DataAnalysisAll200323/DCCM170423/ConvertDCD140623/54DCD140623\"\n",
      "[1] \"/Users/wintermute/Library/CloudStorage/GoogleDrive-wintermute.backup@gmail.com/My Drive/MacbookPro/GoogleDrive/UCL/PaulGroup/MolecularDynamics/Gromacs/FabA33/DataAnalysisAll200323/DCCM170423/ConvertDCD140623/54DCD140623\"\n",
      "[1] \"/Users/wintermute/Library/CloudStorage/GoogleDrive-wintermute.backup@gmail.com/My Drive/MacbookPro/GoogleDrive/UCL/PaulGroup/MolecularDynamics/Gromacs/FabA33/DataAnalysisAll200323/DCCM170423/ConvertDCD140623/54DCD140623\"\n",
      "[1] \"/Users/wintermute/Library/CloudStorage/GoogleDrive-wintermute.backup@gmail.com/My Drive/MacbookPro/GoogleDrive/UCL/PaulGroup/MolecularDynamics/Gromacs/FabA33/DataAnalysisAll200323/DCCM170423/ConvertDCD140623/54DCD140623\"\n",
      "[1] \"/Users/wintermute/Library/CloudStorage/GoogleDrive-wintermute.backup@gmail.com/My Drive/MacbookPro/GoogleDrive/UCL/PaulGroup/MolecularDynamics/Gromacs/FabA33/DataAnalysisAll200323/DCCM170423/ConvertDCD140623/54DCD140623\"\n",
      "[1] \"/Users/wintermute/Library/CloudStorage/GoogleDrive-wintermute.backup@gmail.com/My Drive/MacbookPro/GoogleDrive/UCL/PaulGroup/MolecularDynamics/Gromacs/FabA33/DataAnalysisAll200323/DCCM170423/ConvertDCD140623/54DCD140623\"\n",
      "[1] \"/Users/wintermute/Library/CloudStorage/GoogleDrive-wintermute.backup@gmail.com/My Drive/MacbookPro/GoogleDrive/UCL/PaulGroup/MolecularDynamics/Gromacs/FabA33/DataAnalysisAll200323/DCCM170423/ConvertDCD140623/54DCD140623\"\n",
      "[1] \"/Users/wintermute/Library/CloudStorage/GoogleDrive-wintermute.backup@gmail.com/My Drive/MacbookPro/GoogleDrive/UCL/PaulGroup/MolecularDynamics/Gromacs/FabA33/DataAnalysisAll200323/DCCM170423/ConvertDCD140623/54DCD140623\"\n",
      "[1] \"/Users/wintermute/Library/CloudStorage/GoogleDrive-wintermute.backup@gmail.com/My Drive/MacbookPro/GoogleDrive/UCL/PaulGroup/MolecularDynamics/Gromacs/FabA33/DataAnalysisAll200323/DCCM170423/ConvertDCD140623/54DCD140623\"\n",
      "[1] \"/Users/wintermute/Library/CloudStorage/GoogleDrive-wintermute.backup@gmail.com/My Drive/MacbookPro/GoogleDrive/UCL/PaulGroup/MolecularDynamics/Gromacs/FabA33/DataAnalysisAll200323/DCCM170423/ConvertDCD140623/54DCD140623\"\n",
      "[1] \"/Users/wintermute/Library/CloudStorage/GoogleDrive-wintermute.backup@gmail.com/My Drive/MacbookPro/GoogleDrive/UCL/PaulGroup/MolecularDynamics/Gromacs/FabA33/DataAnalysisAll200323/DCCM170423/ConvertDCD140623/54DCD140623\"\n",
      "[1] \"/Users/wintermute/Library/CloudStorage/GoogleDrive-wintermute.backup@gmail.com/My Drive/MacbookPro/GoogleDrive/UCL/PaulGroup/MolecularDynamics/Gromacs/FabA33/DataAnalysisAll200323/DCCM170423/ConvertDCD140623/54DCD140623\"\n",
      "[1] \"/Users/wintermute/Library/CloudStorage/GoogleDrive-wintermute.backup@gmail.com/My Drive/MacbookPro/GoogleDrive/UCL/PaulGroup/MolecularDynamics/Gromacs/FabA33/DataAnalysisAll200323/DCCM170423/ConvertDCD140623/54DCD140623\"\n",
      "[1] \"/Users/wintermute/Library/CloudStorage/GoogleDrive-wintermute.backup@gmail.com/My Drive/MacbookPro/GoogleDrive/UCL/PaulGroup/MolecularDynamics/Gromacs/FabA33/DataAnalysisAll200323/DCCM170423/ConvertDCD140623/54DCD140623\"\n",
      "[1] \"/Users/wintermute/Library/CloudStorage/GoogleDrive-wintermute.backup@gmail.com/My Drive/MacbookPro/GoogleDrive/UCL/PaulGroup/MolecularDynamics/Gromacs/FabA33/DataAnalysisAll200323/DCCM170423/ConvertDCD140623/54DCD140623\"\n",
      "[1] \"/Users/wintermute/Library/CloudStorage/GoogleDrive-wintermute.backup@gmail.com/My Drive/MacbookPro/GoogleDrive/UCL/PaulGroup/MolecularDynamics/Gromacs/FabA33/DataAnalysisAll200323/DCCM170423/ConvertDCD140623/54DCD140623\"\n",
      "[1] \"/Users/wintermute/Library/CloudStorage/GoogleDrive-wintermute.backup@gmail.com/My Drive/MacbookPro/GoogleDrive/UCL/PaulGroup/MolecularDynamics/Gromacs/FabA33/DataAnalysisAll200323/DCCM170423/ConvertDCD140623/54DCD140623\"\n",
      "[1] \"/Users/wintermute/Library/CloudStorage/GoogleDrive-wintermute.backup@gmail.com/My Drive/MacbookPro/GoogleDrive/UCL/PaulGroup/MolecularDynamics/Gromacs/FabA33/DataAnalysisAll200323/DCCM170423/ConvertDCD140623/54DCD140623\"\n",
      "[1] \"/Users/wintermute/Library/CloudStorage/GoogleDrive-wintermute.backup@gmail.com/My Drive/MacbookPro/GoogleDrive/UCL/PaulGroup/MolecularDynamics/Gromacs/FabA33/DataAnalysisAll200323/DCCM170423/ConvertDCD140623/54DCD140623\"\n",
      "[1] \"/Users/wintermute/Library/CloudStorage/GoogleDrive-wintermute.backup@gmail.com/My Drive/MacbookPro/GoogleDrive/UCL/PaulGroup/MolecularDynamics/Gromacs/FabA33/DataAnalysisAll200323/DCCM170423/ConvertDCD140623/54DCD140623\"\n",
      "[1] \"/Users/wintermute/Library/CloudStorage/GoogleDrive-wintermute.backup@gmail.com/My Drive/MacbookPro/GoogleDrive/UCL/PaulGroup/MolecularDynamics/Gromacs/FabA33/DataAnalysisAll200323/DCCM170423/ConvertDCD140623/54DCD140623\"\n",
      "[1] \"/Users/wintermute/Library/CloudStorage/GoogleDrive-wintermute.backup@gmail.com/My Drive/MacbookPro/GoogleDrive/UCL/PaulGroup/MolecularDynamics/Gromacs/FabA33/DataAnalysisAll200323/DCCM170423/ConvertDCD140623/54DCD140623\"\n",
      "[1] \"/Users/wintermute/Library/CloudStorage/GoogleDrive-wintermute.backup@gmail.com/My Drive/MacbookPro/GoogleDrive/UCL/PaulGroup/MolecularDynamics/Gromacs/FabA33/DataAnalysisAll200323/DCCM170423/ConvertDCD140623/54DCD140623\"\n",
      "[1] \"/Users/wintermute/Library/CloudStorage/GoogleDrive-wintermute.backup@gmail.com/My Drive/MacbookPro/GoogleDrive/UCL/PaulGroup/MolecularDynamics/Gromacs/FabA33/DataAnalysisAll200323/DCCM170423/ConvertDCD140623/54DCD140623\"\n",
      "[1] \"/Users/wintermute/Library/CloudStorage/GoogleDrive-wintermute.backup@gmail.com/My Drive/MacbookPro/GoogleDrive/UCL/PaulGroup/MolecularDynamics/Gromacs/FabA33/DataAnalysisAll200323/DCCM170423/ConvertDCD140623/54DCD140623\"\n",
      "[1] \"/Users/wintermute/Library/CloudStorage/GoogleDrive-wintermute.backup@gmail.com/My Drive/MacbookPro/GoogleDrive/UCL/PaulGroup/MolecularDynamics/Gromacs/FabA33/DataAnalysisAll200323/DCCM170423/ConvertDCD140623/54DCD140623\"\n",
      "[1] \"/Users/wintermute/Library/CloudStorage/GoogleDrive-wintermute.backup@gmail.com/My Drive/MacbookPro/GoogleDrive/UCL/PaulGroup/MolecularDynamics/Gromacs/FabA33/DataAnalysisAll200323/DCCM170423/ConvertDCD140623/54DCD140623\"\n",
      "[1] \"/Users/wintermute/Library/CloudStorage/GoogleDrive-wintermute.backup@gmail.com/My Drive/MacbookPro/GoogleDrive/UCL/PaulGroup/MolecularDynamics/Gromacs/FabA33/DataAnalysisAll200323/DCCM170423/ConvertDCD140623/54DCD140623\"\n",
      "[1] \"/Users/wintermute/Library/CloudStorage/GoogleDrive-wintermute.backup@gmail.com/My Drive/MacbookPro/GoogleDrive/UCL/PaulGroup/MolecularDynamics/Gromacs/FabA33/DataAnalysisAll200323/DCCM170423/ConvertDCD140623/54DCD140623\"\n",
      "[1] \"/Users/wintermute/Library/CloudStorage/GoogleDrive-wintermute.backup@gmail.com/My Drive/MacbookPro/GoogleDrive/UCL/PaulGroup/MolecularDynamics/Gromacs/FabA33/DataAnalysisAll200323/DCCM170423/ConvertDCD140623/54DCD140623\"\n",
      "[1] \"/Users/wintermute/Library/CloudStorage/GoogleDrive-wintermute.backup@gmail.com/My Drive/MacbookPro/GoogleDrive/UCL/PaulGroup/MolecularDynamics/Gromacs/FabA33/DataAnalysisAll200323/DCCM170423/ConvertDCD140623/54DCD140623\"\n",
      "[1] \"/Users/wintermute/Library/CloudStorage/GoogleDrive-wintermute.backup@gmail.com/My Drive/MacbookPro/GoogleDrive/UCL/PaulGroup/MolecularDynamics/Gromacs/FabA33/DataAnalysisAll200323/DCCM170423/ConvertDCD140623/54DCD140623\"\n",
      "[1] \"/Users/wintermute/Library/CloudStorage/GoogleDrive-wintermute.backup@gmail.com/My Drive/MacbookPro/GoogleDrive/UCL/PaulGroup/MolecularDynamics/Gromacs/FabA33/DataAnalysisAll200323/DCCM170423/ConvertDCD140623/54DCD140623\"\n",
      "[1] \"/Users/wintermute/Library/CloudStorage/GoogleDrive-wintermute.backup@gmail.com/My Drive/MacbookPro/GoogleDrive/UCL/PaulGroup/MolecularDynamics/Gromacs/FabA33/DataAnalysisAll200323/DCCM170423/ConvertDCD140623/54DCD140623\"\n",
      "[1] \"/Users/wintermute/Library/CloudStorage/GoogleDrive-wintermute.backup@gmail.com/My Drive/MacbookPro/GoogleDrive/UCL/PaulGroup/MolecularDynamics/Gromacs/FabA33/DataAnalysisAll200323/DCCM170423/ConvertDCD140623/54DCD140623\"\n",
      "[1] \"/Users/wintermute/Library/CloudStorage/GoogleDrive-wintermute.backup@gmail.com/My Drive/MacbookPro/GoogleDrive/UCL/PaulGroup/MolecularDynamics/Gromacs/FabA33/DataAnalysisAll200323/DCCM170423/ConvertDCD140623/54DCD140623\"\n",
      "[1] \"/Users/wintermute/Library/CloudStorage/GoogleDrive-wintermute.backup@gmail.com/My Drive/MacbookPro/GoogleDrive/UCL/PaulGroup/MolecularDynamics/Gromacs/FabA33/DataAnalysisAll200323/DCCM170423/ConvertDCD140623/54DCD140623\"\n",
      "[1] \"/Users/wintermute/Library/CloudStorage/GoogleDrive-wintermute.backup@gmail.com/My Drive/MacbookPro/GoogleDrive/UCL/PaulGroup/MolecularDynamics/Gromacs/FabA33/DataAnalysisAll200323/DCCM170423/ConvertDCD140623/54DCD140623\"\n",
      "[1] \"/Users/wintermute/Library/CloudStorage/GoogleDrive-wintermute.backup@gmail.com/My Drive/MacbookPro/GoogleDrive/UCL/PaulGroup/MolecularDynamics/Gromacs/FabA33/DataAnalysisAll200323/DCCM170423/ConvertDCD140623/54DCD140623\"\n",
      "[1] \"/Users/wintermute/Library/CloudStorage/GoogleDrive-wintermute.backup@gmail.com/My Drive/MacbookPro/GoogleDrive/UCL/PaulGroup/MolecularDynamics/Gromacs/FabA33/DataAnalysisAll200323/DCCM170423/ConvertDCD140623/54DCD140623\"\n",
      "[1] \"/Users/wintermute/Library/CloudStorage/GoogleDrive-wintermute.backup@gmail.com/My Drive/MacbookPro/GoogleDrive/UCL/PaulGroup/MolecularDynamics/Gromacs/FabA33/DataAnalysisAll200323/DCCM170423/ConvertDCD140623/54DCD140623\"\n",
      "[1] \"/Users/wintermute/Library/CloudStorage/GoogleDrive-wintermute.backup@gmail.com/My Drive/MacbookPro/GoogleDrive/UCL/PaulGroup/MolecularDynamics/Gromacs/FabA33/DataAnalysisAll200323/DCCM170423/ConvertDCD140623/54DCD140623\"\n",
      "[1] \"/Users/wintermute/Library/CloudStorage/GoogleDrive-wintermute.backup@gmail.com/My Drive/MacbookPro/GoogleDrive/UCL/PaulGroup/MolecularDynamics/Gromacs/FabA33/DataAnalysisAll200323/DCCM170423/ConvertDCD140623/54DCD140623\"\n",
      "[1] \"/Users/wintermute/Library/CloudStorage/GoogleDrive-wintermute.backup@gmail.com/My Drive/MacbookPro/GoogleDrive/UCL/PaulGroup/MolecularDynamics/Gromacs/FabA33/DataAnalysisAll200323/DCCM170423/ConvertDCD140623/54DCD140623\"\n",
      "[1] \"/Users/wintermute/Library/CloudStorage/GoogleDrive-wintermute.backup@gmail.com/My Drive/MacbookPro/GoogleDrive/UCL/PaulGroup/MolecularDynamics/Gromacs/FabA33/DataAnalysisAll200323/DCCM170423/ConvertDCD140623/54DCD140623\"\n",
      "[1] \"/Users/wintermute/Library/CloudStorage/GoogleDrive-wintermute.backup@gmail.com/My Drive/MacbookPro/GoogleDrive/UCL/PaulGroup/MolecularDynamics/Gromacs/FabA33/DataAnalysisAll200323/DCCM170423/ConvertDCD140623/54DCD140623\"\n",
      "[1] \"/Users/wintermute/Library/CloudStorage/GoogleDrive-wintermute.backup@gmail.com/My Drive/MacbookPro/GoogleDrive/UCL/PaulGroup/MolecularDynamics/Gromacs/FabA33/DataAnalysisAll200323/DCCM170423/ConvertDCD140623/54DCD140623\"\n",
      "[1] \"/Users/wintermute/Library/CloudStorage/GoogleDrive-wintermute.backup@gmail.com/My Drive/MacbookPro/GoogleDrive/UCL/PaulGroup/MolecularDynamics/Gromacs/FabA33/DataAnalysisAll200323/DCCM170423/ConvertDCD140623/54DCD140623\"\n",
      "[1] \"/Users/wintermute/Library/CloudStorage/GoogleDrive-wintermute.backup@gmail.com/My Drive/MacbookPro/GoogleDrive/UCL/PaulGroup/MolecularDynamics/Gromacs/FabA33/DataAnalysisAll200323/DCCM170423/ConvertDCD140623/54DCD140623\"\n",
      "[1] \"/Users/wintermute/Library/CloudStorage/GoogleDrive-wintermute.backup@gmail.com/My Drive/MacbookPro/GoogleDrive/UCL/PaulGroup/MolecularDynamics/Gromacs/FabA33/DataAnalysisAll200323/DCCM170423/ConvertDCD140623/54DCD140623\"\n",
      "[1] \"/Users/wintermute/Library/CloudStorage/GoogleDrive-wintermute.backup@gmail.com/My Drive/MacbookPro/GoogleDrive/UCL/PaulGroup/MolecularDynamics/Gromacs/FabA33/DataAnalysisAll200323/DCCM170423/ConvertDCD140623/54DCD140623\"\n",
      "[1] \"/Users/wintermute/Library/CloudStorage/GoogleDrive-wintermute.backup@gmail.com/My Drive/MacbookPro/GoogleDrive/UCL/PaulGroup/MolecularDynamics/Gromacs/FabA33/DataAnalysisAll200323/DCCM170423/ConvertDCD140623/54DCD140623\"\n",
      "[1] \"/Users/wintermute/Library/CloudStorage/GoogleDrive-wintermute.backup@gmail.com/My Drive/MacbookPro/GoogleDrive/UCL/PaulGroup/MolecularDynamics/Gromacs/FabA33/DataAnalysisAll200323/DCCM170423/ConvertDCD140623/54DCD140623\"\n",
      "[1] \"/Users/wintermute/Library/CloudStorage/GoogleDrive-wintermute.backup@gmail.com/My Drive/MacbookPro/GoogleDrive/UCL/PaulGroup/MolecularDynamics/Gromacs/FabA33/DataAnalysisAll200323/DCCM170423/ConvertDCD140623/54DCD140623\"\n",
      "[1] \"/Users/wintermute/Library/CloudStorage/GoogleDrive-wintermute.backup@gmail.com/My Drive/MacbookPro/GoogleDrive/UCL/PaulGroup/MolecularDynamics/Gromacs/FabA33/DataAnalysisAll200323/DCCM170423/ConvertDCD140623/54DCD140623\"\n",
      "[1] \"/Users/wintermute/Library/CloudStorage/GoogleDrive-wintermute.backup@gmail.com/My Drive/MacbookPro/GoogleDrive/UCL/PaulGroup/MolecularDynamics/Gromacs/FabA33/DataAnalysisAll200323/DCCM170423/ConvertDCD140623/54DCD140623\"\n",
      "[1] \"/Users/wintermute/Library/CloudStorage/GoogleDrive-wintermute.backup@gmail.com/My Drive/MacbookPro/GoogleDrive/UCL/PaulGroup/MolecularDynamics/Gromacs/FabA33/DataAnalysisAll200323/DCCM170423/ConvertDCD140623/54DCD140623\"\n",
      "[1] \"/Users/wintermute/Library/CloudStorage/GoogleDrive-wintermute.backup@gmail.com/My Drive/MacbookPro/GoogleDrive/UCL/PaulGroup/MolecularDynamics/Gromacs/FabA33/DataAnalysisAll200323/DCCM170423/ConvertDCD140623/54DCD140623\"\n",
      "[1] \"/Users/wintermute/Library/CloudStorage/GoogleDrive-wintermute.backup@gmail.com/My Drive/MacbookPro/GoogleDrive/UCL/PaulGroup/MolecularDynamics/Gromacs/FabA33/DataAnalysisAll200323/DCCM170423/ConvertDCD140623/54DCD140623\"\n",
      "[1] \"/Users/wintermute/Library/CloudStorage/GoogleDrive-wintermute.backup@gmail.com/My Drive/MacbookPro/GoogleDrive/UCL/PaulGroup/MolecularDynamics/Gromacs/FabA33/DataAnalysisAll200323/DCCM170423/ConvertDCD140623/54DCD140623\"\n",
      "[1] \"/Users/wintermute/Library/CloudStorage/GoogleDrive-wintermute.backup@gmail.com/My Drive/MacbookPro/GoogleDrive/UCL/PaulGroup/MolecularDynamics/Gromacs/FabA33/DataAnalysisAll200323/DCCM170423/ConvertDCD140623/54DCD140623\"\n",
      "[1] \"/Users/wintermute/Library/CloudStorage/GoogleDrive-wintermute.backup@gmail.com/My Drive/MacbookPro/GoogleDrive/UCL/PaulGroup/MolecularDynamics/Gromacs/FabA33/DataAnalysisAll200323/DCCM170423/ConvertDCD140623/54DCD140623\"\n",
      "[1] \"/Users/wintermute/Library/CloudStorage/GoogleDrive-wintermute.backup@gmail.com/My Drive/MacbookPro/GoogleDrive/UCL/PaulGroup/MolecularDynamics/Gromacs/FabA33/DataAnalysisAll200323/DCCM170423/ConvertDCD140623/54DCD140623\"\n",
      "[1] \"/Users/wintermute/Library/CloudStorage/GoogleDrive-wintermute.backup@gmail.com/My Drive/MacbookPro/GoogleDrive/UCL/PaulGroup/MolecularDynamics/Gromacs/FabA33/DataAnalysisAll200323/DCCM170423/ConvertDCD140623/54DCD140623\"\n",
      "[1] \"/Users/wintermute/Library/CloudStorage/GoogleDrive-wintermute.backup@gmail.com/My Drive/MacbookPro/GoogleDrive/UCL/PaulGroup/MolecularDynamics/Gromacs/FabA33/DataAnalysisAll200323/DCCM170423/ConvertDCD140623/54DCD140623\"\n",
      "[1] \"/Users/wintermute/Library/CloudStorage/GoogleDrive-wintermute.backup@gmail.com/My Drive/MacbookPro/GoogleDrive/UCL/PaulGroup/MolecularDynamics/Gromacs/FabA33/DataAnalysisAll200323/DCCM170423/ConvertDCD140623/54DCD140623\"\n",
      "[1] \"/Users/wintermute/Library/CloudStorage/GoogleDrive-wintermute.backup@gmail.com/My Drive/MacbookPro/GoogleDrive/UCL/PaulGroup/MolecularDynamics/Gromacs/FabA33/DataAnalysisAll200323/DCCM170423/ConvertDCD140623/54DCD140623\"\n",
      "[1] \"/Users/wintermute/Library/CloudStorage/GoogleDrive-wintermute.backup@gmail.com/My Drive/MacbookPro/GoogleDrive/UCL/PaulGroup/MolecularDynamics/Gromacs/FabA33/DataAnalysisAll200323/DCCM170423/ConvertDCD140623/54DCD140623\"\n",
      "[1] \"/Users/wintermute/Library/CloudStorage/GoogleDrive-wintermute.backup@gmail.com/My Drive/MacbookPro/GoogleDrive/UCL/PaulGroup/MolecularDynamics/Gromacs/FabA33/DataAnalysisAll200323/DCCM170423/ConvertDCD140623/54DCD140623\"\n",
      "[1] \"/Users/wintermute/Library/CloudStorage/GoogleDrive-wintermute.backup@gmail.com/My Drive/MacbookPro/GoogleDrive/UCL/PaulGroup/MolecularDynamics/Gromacs/FabA33/DataAnalysisAll200323/DCCM170423/ConvertDCD140623/54DCD140623\"\n",
      "[1] \"/Users/wintermute/Library/CloudStorage/GoogleDrive-wintermute.backup@gmail.com/My Drive/MacbookPro/GoogleDrive/UCL/PaulGroup/MolecularDynamics/Gromacs/FabA33/DataAnalysisAll200323/DCCM170423/ConvertDCD140623/54DCD140623\"\n",
      "[1] \"/Users/wintermute/Library/CloudStorage/GoogleDrive-wintermute.backup@gmail.com/My Drive/MacbookPro/GoogleDrive/UCL/PaulGroup/MolecularDynamics/Gromacs/FabA33/DataAnalysisAll200323/DCCM170423/ConvertDCD140623/54DCD140623\"\n",
      "[1] \"/Users/wintermute/Library/CloudStorage/GoogleDrive-wintermute.backup@gmail.com/My Drive/MacbookPro/GoogleDrive/UCL/PaulGroup/MolecularDynamics/Gromacs/FabA33/DataAnalysisAll200323/DCCM170423/ConvertDCD140623/54DCD140623\"\n",
      "[1] \"/Users/wintermute/Library/CloudStorage/GoogleDrive-wintermute.backup@gmail.com/My Drive/MacbookPro/GoogleDrive/UCL/PaulGroup/MolecularDynamics/Gromacs/FabA33/DataAnalysisAll200323/DCCM170423/ConvertDCD140623/54DCD140623\"\n",
      "[1] \"/Users/wintermute/Library/CloudStorage/GoogleDrive-wintermute.backup@gmail.com/My Drive/MacbookPro/GoogleDrive/UCL/PaulGroup/MolecularDynamics/Gromacs/FabA33/DataAnalysisAll200323/DCCM170423/ConvertDCD140623/54DCD140623\"\n",
      "[1] \"/Users/wintermute/Library/CloudStorage/GoogleDrive-wintermute.backup@gmail.com/My Drive/MacbookPro/GoogleDrive/UCL/PaulGroup/MolecularDynamics/Gromacs/FabA33/DataAnalysisAll200323/DCCM170423/ConvertDCD140623/54DCD140623\"\n",
      "[1] \"/Users/wintermute/Library/CloudStorage/GoogleDrive-wintermute.backup@gmail.com/My Drive/MacbookPro/GoogleDrive/UCL/PaulGroup/MolecularDynamics/Gromacs/FabA33/DataAnalysisAll200323/DCCM170423/ConvertDCD140623/54DCD140623\"\n",
      "[1] \"/Users/wintermute/Library/CloudStorage/GoogleDrive-wintermute.backup@gmail.com/My Drive/MacbookPro/GoogleDrive/UCL/PaulGroup/MolecularDynamics/Gromacs/FabA33/DataAnalysisAll200323/DCCM170423/ConvertDCD140623/54DCD140623\"\n",
      "[1] \"/Users/wintermute/Library/CloudStorage/GoogleDrive-wintermute.backup@gmail.com/My Drive/MacbookPro/GoogleDrive/UCL/PaulGroup/MolecularDynamics/Gromacs/FabA33/DataAnalysisAll200323/DCCM170423/ConvertDCD140623/54DCD140623\"\n",
      "[1] \"/Users/wintermute/Library/CloudStorage/GoogleDrive-wintermute.backup@gmail.com/My Drive/MacbookPro/GoogleDrive/UCL/PaulGroup/MolecularDynamics/Gromacs/FabA33/DataAnalysisAll200323/DCCM170423/ConvertDCD140623/54DCD140623\"\n",
      "[1] \"/Users/wintermute/Library/CloudStorage/GoogleDrive-wintermute.backup@gmail.com/My Drive/MacbookPro/GoogleDrive/UCL/PaulGroup/MolecularDynamics/Gromacs/FabA33/DataAnalysisAll200323/DCCM170423/ConvertDCD140623/54DCD140623\"\n",
      "[1] \"/Users/wintermute/Library/CloudStorage/GoogleDrive-wintermute.backup@gmail.com/My Drive/MacbookPro/GoogleDrive/UCL/PaulGroup/MolecularDynamics/Gromacs/FabA33/DataAnalysisAll200323/DCCM170423/ConvertDCD140623/54DCD140623\"\n",
      "[1] \"/Users/wintermute/Library/CloudStorage/GoogleDrive-wintermute.backup@gmail.com/My Drive/MacbookPro/GoogleDrive/UCL/PaulGroup/MolecularDynamics/Gromacs/FabA33/DataAnalysisAll200323/DCCM170423/ConvertDCD140623/54DCD140623\"\n",
      "[1] \"/Users/wintermute/Library/CloudStorage/GoogleDrive-wintermute.backup@gmail.com/My Drive/MacbookPro/GoogleDrive/UCL/PaulGroup/MolecularDynamics/Gromacs/FabA33/DataAnalysisAll200323/DCCM170423/ConvertDCD140623/54DCD140623\"\n",
      "[1] \"/Users/wintermute/Library/CloudStorage/GoogleDrive-wintermute.backup@gmail.com/My Drive/MacbookPro/GoogleDrive/UCL/PaulGroup/MolecularDynamics/Gromacs/FabA33/DataAnalysisAll200323/DCCM170423/ConvertDCD140623/54DCD140623\"\n",
      "[1] \"/Users/wintermute/Library/CloudStorage/GoogleDrive-wintermute.backup@gmail.com/My Drive/MacbookPro/GoogleDrive/UCL/PaulGroup/MolecularDynamics/Gromacs/FabA33/DataAnalysisAll200323/DCCM170423/ConvertDCD140623/54DCD140623\"\n",
      "[1] \"/Users/wintermute/Library/CloudStorage/GoogleDrive-wintermute.backup@gmail.com/My Drive/MacbookPro/GoogleDrive/UCL/PaulGroup/MolecularDynamics/Gromacs/FabA33/DataAnalysisAll200323/DCCM170423/ConvertDCD140623/54DCD140623\"\n",
      "[1] \"/Users/wintermute/Library/CloudStorage/GoogleDrive-wintermute.backup@gmail.com/My Drive/MacbookPro/GoogleDrive/UCL/PaulGroup/MolecularDynamics/Gromacs/FabA33/DataAnalysisAll200323/DCCM170423/ConvertDCD140623/54DCD140623\"\n",
      "[1] \"/Users/wintermute/Library/CloudStorage/GoogleDrive-wintermute.backup@gmail.com/My Drive/MacbookPro/GoogleDrive/UCL/PaulGroup/MolecularDynamics/Gromacs/FabA33/DataAnalysisAll200323/DCCM170423/ConvertDCD140623/54DCD140623\"\n",
      "[1] \"/Users/wintermute/Library/CloudStorage/GoogleDrive-wintermute.backup@gmail.com/My Drive/MacbookPro/GoogleDrive/UCL/PaulGroup/MolecularDynamics/Gromacs/FabA33/DataAnalysisAll200323/DCCM170423/ConvertDCD140623/54DCD140623\"\n",
      "[1] \"/Users/wintermute/Library/CloudStorage/GoogleDrive-wintermute.backup@gmail.com/My Drive/MacbookPro/GoogleDrive/UCL/PaulGroup/MolecularDynamics/Gromacs/FabA33/DataAnalysisAll200323/DCCM170423/ConvertDCD140623/54DCD140623\"\n",
      "[1] \"/Users/wintermute/Library/CloudStorage/GoogleDrive-wintermute.backup@gmail.com/My Drive/MacbookPro/GoogleDrive/UCL/PaulGroup/MolecularDynamics/Gromacs/FabA33/DataAnalysisAll200323/DCCM170423/ConvertDCD140623/54DCD140623\"\n",
      "[1] \"/Users/wintermute/Library/CloudStorage/GoogleDrive-wintermute.backup@gmail.com/My Drive/MacbookPro/GoogleDrive/UCL/PaulGroup/MolecularDynamics/Gromacs/FabA33/DataAnalysisAll200323/DCCM170423/ConvertDCD140623/54DCD140623\"\n",
      "[1] \"/Users/wintermute/Library/CloudStorage/GoogleDrive-wintermute.backup@gmail.com/My Drive/MacbookPro/GoogleDrive/UCL/PaulGroup/MolecularDynamics/Gromacs/FabA33/DataAnalysisAll200323/DCCM170423/ConvertDCD140623/54DCD140623\"\n",
      "[1] \"/Users/wintermute/Library/CloudStorage/GoogleDrive-wintermute.backup@gmail.com/My Drive/MacbookPro/GoogleDrive/UCL/PaulGroup/MolecularDynamics/Gromacs/FabA33/DataAnalysisAll200323/DCCM170423/ConvertDCD140623/54DCD140623\"\n",
      "[1] \"/Users/wintermute/Library/CloudStorage/GoogleDrive-wintermute.backup@gmail.com/My Drive/MacbookPro/GoogleDrive/UCL/PaulGroup/MolecularDynamics/Gromacs/FabA33/DataAnalysisAll200323/DCCM170423/ConvertDCD140623/54DCD140623\"\n",
      "[1] \"/Users/wintermute/Library/CloudStorage/GoogleDrive-wintermute.backup@gmail.com/My Drive/MacbookPro/GoogleDrive/UCL/PaulGroup/MolecularDynamics/Gromacs/FabA33/DataAnalysisAll200323/DCCM170423/ConvertDCD140623/54DCD140623\"\n",
      "[1] \"/Users/wintermute/Library/CloudStorage/GoogleDrive-wintermute.backup@gmail.com/My Drive/MacbookPro/GoogleDrive/UCL/PaulGroup/MolecularDynamics/Gromacs/FabA33/DataAnalysisAll200323/DCCM170423/ConvertDCD140623/54DCD140623\"\n",
      "[1] \"/Users/wintermute/Library/CloudStorage/GoogleDrive-wintermute.backup@gmail.com/My Drive/MacbookPro/GoogleDrive/UCL/PaulGroup/MolecularDynamics/Gromacs/FabA33/DataAnalysisAll200323/DCCM170423/ConvertDCD140623/54DCD140623\"\n",
      "[1] \"/Users/wintermute/Library/CloudStorage/GoogleDrive-wintermute.backup@gmail.com/My Drive/MacbookPro/GoogleDrive/UCL/PaulGroup/MolecularDynamics/Gromacs/FabA33/DataAnalysisAll200323/DCCM170423/ConvertDCD140623/54DCD140623\"\n",
      "[1] \"/Users/wintermute/Library/CloudStorage/GoogleDrive-wintermute.backup@gmail.com/My Drive/MacbookPro/GoogleDrive/UCL/PaulGroup/MolecularDynamics/Gromacs/FabA33/DataAnalysisAll200323/DCCM170423/ConvertDCD140623/54DCD140623\"\n",
      "[1] \"/Users/wintermute/Library/CloudStorage/GoogleDrive-wintermute.backup@gmail.com/My Drive/MacbookPro/GoogleDrive/UCL/PaulGroup/MolecularDynamics/Gromacs/FabA33/DataAnalysisAll200323/DCCM170423/ConvertDCD140623/54DCD140623\"\n",
      "[1] \"/Users/wintermute/Library/CloudStorage/GoogleDrive-wintermute.backup@gmail.com/My Drive/MacbookPro/GoogleDrive/UCL/PaulGroup/MolecularDynamics/Gromacs/FabA33/DataAnalysisAll200323/DCCM170423/ConvertDCD140623/54DCD140623\"\n",
      "[1] \"/Users/wintermute/Library/CloudStorage/GoogleDrive-wintermute.backup@gmail.com/My Drive/MacbookPro/GoogleDrive/UCL/PaulGroup/MolecularDynamics/Gromacs/FabA33/DataAnalysisAll200323/DCCM170423/ConvertDCD140623/54DCD140623\"\n",
      "[1] \"/Users/wintermute/Library/CloudStorage/GoogleDrive-wintermute.backup@gmail.com/My Drive/MacbookPro/GoogleDrive/UCL/PaulGroup/MolecularDynamics/Gromacs/FabA33/DataAnalysisAll200323/DCCM170423/ConvertDCD140623/54DCD140623\"\n",
      "[1] \"/Users/wintermute/Library/CloudStorage/GoogleDrive-wintermute.backup@gmail.com/My Drive/MacbookPro/GoogleDrive/UCL/PaulGroup/MolecularDynamics/Gromacs/FabA33/DataAnalysisAll200323/DCCM170423/ConvertDCD140623/54DCD140623\"\n",
      "[1] \"/Users/wintermute/Library/CloudStorage/GoogleDrive-wintermute.backup@gmail.com/My Drive/MacbookPro/GoogleDrive/UCL/PaulGroup/MolecularDynamics/Gromacs/FabA33/DataAnalysisAll200323/DCCM170423/ConvertDCD140623/54DCD140623\"\n",
      "[1] \"/Users/wintermute/Library/CloudStorage/GoogleDrive-wintermute.backup@gmail.com/My Drive/MacbookPro/GoogleDrive/UCL/PaulGroup/MolecularDynamics/Gromacs/FabA33/DataAnalysisAll200323/DCCM170423/ConvertDCD140623/54DCD140623\"\n",
      "[1] \"/Users/wintermute/Library/CloudStorage/GoogleDrive-wintermute.backup@gmail.com/My Drive/MacbookPro/GoogleDrive/UCL/PaulGroup/MolecularDynamics/Gromacs/FabA33/DataAnalysisAll200323/DCCM170423/ConvertDCD140623/54DCD140623\"\n",
      "[1] \"/Users/wintermute/Library/CloudStorage/GoogleDrive-wintermute.backup@gmail.com/My Drive/MacbookPro/GoogleDrive/UCL/PaulGroup/MolecularDynamics/Gromacs/FabA33/DataAnalysisAll200323/DCCM170423/ConvertDCD140623/54DCD140623\"\n",
      "[1] \"/Users/wintermute/Library/CloudStorage/GoogleDrive-wintermute.backup@gmail.com/My Drive/MacbookPro/GoogleDrive/UCL/PaulGroup/MolecularDynamics/Gromacs/FabA33/DataAnalysisAll200323/DCCM170423/ConvertDCD140623/54DCD140623\"\n",
      "[1] \"/Users/wintermute/Library/CloudStorage/GoogleDrive-wintermute.backup@gmail.com/My Drive/MacbookPro/GoogleDrive/UCL/PaulGroup/MolecularDynamics/Gromacs/FabA33/DataAnalysisAll200323/DCCM170423/ConvertDCD140623/54DCD140623\"\n",
      "[1] \"/Users/wintermute/Library/CloudStorage/GoogleDrive-wintermute.backup@gmail.com/My Drive/MacbookPro/GoogleDrive/UCL/PaulGroup/MolecularDynamics/Gromacs/FabA33/DataAnalysisAll200323/DCCM170423/ConvertDCD140623/54DCD140623\"\n",
      "[1] \"/Users/wintermute/Library/CloudStorage/GoogleDrive-wintermute.backup@gmail.com/My Drive/MacbookPro/GoogleDrive/UCL/PaulGroup/MolecularDynamics/Gromacs/FabA33/DataAnalysisAll200323/DCCM170423/ConvertDCD140623/54DCD140623\"\n",
      "[1] \"/Users/wintermute/Library/CloudStorage/GoogleDrive-wintermute.backup@gmail.com/My Drive/MacbookPro/GoogleDrive/UCL/PaulGroup/MolecularDynamics/Gromacs/FabA33/DataAnalysisAll200323/DCCM170423/ConvertDCD140623/54DCD140623\"\n",
      "[1] \"/Users/wintermute/Library/CloudStorage/GoogleDrive-wintermute.backup@gmail.com/My Drive/MacbookPro/GoogleDrive/UCL/PaulGroup/MolecularDynamics/Gromacs/FabA33/DataAnalysisAll200323/DCCM170423/ConvertDCD140623/54DCD140623\"\n",
      "[1] \"/Users/wintermute/Library/CloudStorage/GoogleDrive-wintermute.backup@gmail.com/My Drive/MacbookPro/GoogleDrive/UCL/PaulGroup/MolecularDynamics/Gromacs/FabA33/DataAnalysisAll200323/DCCM170423/ConvertDCD140623/54DCD140623\"\n",
      "[1] \"/Users/wintermute/Library/CloudStorage/GoogleDrive-wintermute.backup@gmail.com/My Drive/MacbookPro/GoogleDrive/UCL/PaulGroup/MolecularDynamics/Gromacs/FabA33/DataAnalysisAll200323/DCCM170423/ConvertDCD140623/54DCD140623\"\n",
      "[1] \"/Users/wintermute/Library/CloudStorage/GoogleDrive-wintermute.backup@gmail.com/My Drive/MacbookPro/GoogleDrive/UCL/PaulGroup/MolecularDynamics/Gromacs/FabA33/DataAnalysisAll200323/DCCM170423/ConvertDCD140623/54DCD140623\"\n",
      "[1] \"/Users/wintermute/Library/CloudStorage/GoogleDrive-wintermute.backup@gmail.com/My Drive/MacbookPro/GoogleDrive/UCL/PaulGroup/MolecularDynamics/Gromacs/FabA33/DataAnalysisAll200323/DCCM170423/ConvertDCD140623/54DCD140623\"\n",
      "[1] \"/Users/wintermute/Library/CloudStorage/GoogleDrive-wintermute.backup@gmail.com/My Drive/MacbookPro/GoogleDrive/UCL/PaulGroup/MolecularDynamics/Gromacs/FabA33/DataAnalysisAll200323/DCCM170423/ConvertDCD140623/54DCD140623\"\n",
      "[1] \"/Users/wintermute/Library/CloudStorage/GoogleDrive-wintermute.backup@gmail.com/My Drive/MacbookPro/GoogleDrive/UCL/PaulGroup/MolecularDynamics/Gromacs/FabA33/DataAnalysisAll200323/DCCM170423/ConvertDCD140623/54DCD140623\"\n",
      "[1] \"/Users/wintermute/Library/CloudStorage/GoogleDrive-wintermute.backup@gmail.com/My Drive/MacbookPro/GoogleDrive/UCL/PaulGroup/MolecularDynamics/Gromacs/FabA33/DataAnalysisAll200323/DCCM170423/ConvertDCD140623/54DCD140623\"\n",
      "[1] \"/Users/wintermute/Library/CloudStorage/GoogleDrive-wintermute.backup@gmail.com/My Drive/MacbookPro/GoogleDrive/UCL/PaulGroup/MolecularDynamics/Gromacs/FabA33/DataAnalysisAll200323/DCCM170423/ConvertDCD140623/54DCD140623\"\n",
      "[1] \"/Users/wintermute/Library/CloudStorage/GoogleDrive-wintermute.backup@gmail.com/My Drive/MacbookPro/GoogleDrive/UCL/PaulGroup/MolecularDynamics/Gromacs/FabA33/DataAnalysisAll200323/DCCM170423/ConvertDCD140623/54DCD140623\"\n",
      "[1] \"/Users/wintermute/Library/CloudStorage/GoogleDrive-wintermute.backup@gmail.com/My Drive/MacbookPro/GoogleDrive/UCL/PaulGroup/MolecularDynamics/Gromacs/FabA33/DataAnalysisAll200323/DCCM170423/ConvertDCD140623/54DCD140623\"\n",
      "[1] \"/Users/wintermute/Library/CloudStorage/GoogleDrive-wintermute.backup@gmail.com/My Drive/MacbookPro/GoogleDrive/UCL/PaulGroup/MolecularDynamics/Gromacs/FabA33/DataAnalysisAll200323/DCCM170423/ConvertDCD140623/54DCD140623\"\n",
      "[1] \"/Users/wintermute/Library/CloudStorage/GoogleDrive-wintermute.backup@gmail.com/My Drive/MacbookPro/GoogleDrive/UCL/PaulGroup/MolecularDynamics/Gromacs/FabA33/DataAnalysisAll200323/DCCM170423/ConvertDCD140623/54DCD140623\"\n",
      "[1] \"/Users/wintermute/Library/CloudStorage/GoogleDrive-wintermute.backup@gmail.com/My Drive/MacbookPro/GoogleDrive/UCL/PaulGroup/MolecularDynamics/Gromacs/FabA33/DataAnalysisAll200323/DCCM170423/ConvertDCD140623/54DCD140623\"\n",
      "[1] \"/Users/wintermute/Library/CloudStorage/GoogleDrive-wintermute.backup@gmail.com/My Drive/MacbookPro/GoogleDrive/UCL/PaulGroup/MolecularDynamics/Gromacs/FabA33/DataAnalysisAll200323/DCCM170423/ConvertDCD140623/54DCD140623\"\n",
      "[1] \"/Users/wintermute/Library/CloudStorage/GoogleDrive-wintermute.backup@gmail.com/My Drive/MacbookPro/GoogleDrive/UCL/PaulGroup/MolecularDynamics/Gromacs/FabA33/DataAnalysisAll200323/DCCM170423/ConvertDCD140623/54DCD140623\"\n",
      "[1] \"/Users/wintermute/Library/CloudStorage/GoogleDrive-wintermute.backup@gmail.com/My Drive/MacbookPro/GoogleDrive/UCL/PaulGroup/MolecularDynamics/Gromacs/FabA33/DataAnalysisAll200323/DCCM170423/ConvertDCD140623/54DCD140623\"\n",
      "[1] \"/Users/wintermute/Library/CloudStorage/GoogleDrive-wintermute.backup@gmail.com/My Drive/MacbookPro/GoogleDrive/UCL/PaulGroup/MolecularDynamics/Gromacs/FabA33/DataAnalysisAll200323/DCCM170423/ConvertDCD140623/54DCD140623\"\n",
      "[1] \"/Users/wintermute/Library/CloudStorage/GoogleDrive-wintermute.backup@gmail.com/My Drive/MacbookPro/GoogleDrive/UCL/PaulGroup/MolecularDynamics/Gromacs/FabA33/DataAnalysisAll200323/DCCM170423/ConvertDCD140623/54DCD140623\"\n",
      "[1] \"/Users/wintermute/Library/CloudStorage/GoogleDrive-wintermute.backup@gmail.com/My Drive/MacbookPro/GoogleDrive/UCL/PaulGroup/MolecularDynamics/Gromacs/FabA33/DataAnalysisAll200323/DCCM170423/ConvertDCD140623/54DCD140623\"\n",
      "[1] \"/Users/wintermute/Library/CloudStorage/GoogleDrive-wintermute.backup@gmail.com/My Drive/MacbookPro/GoogleDrive/UCL/PaulGroup/MolecularDynamics/Gromacs/FabA33/DataAnalysisAll200323/DCCM170423/ConvertDCD140623/54DCD140623\"\n",
      "[1] \"/Users/wintermute/Library/CloudStorage/GoogleDrive-wintermute.backup@gmail.com/My Drive/MacbookPro/GoogleDrive/UCL/PaulGroup/MolecularDynamics/Gromacs/FabA33/DataAnalysisAll200323/DCCM170423/ConvertDCD140623/54DCD140623\"\n",
      "[1] \"/Users/wintermute/Library/CloudStorage/GoogleDrive-wintermute.backup@gmail.com/My Drive/MacbookPro/GoogleDrive/UCL/PaulGroup/MolecularDynamics/Gromacs/FabA33/DataAnalysisAll200323/DCCM170423/ConvertDCD140623/54DCD140623\"\n",
      "[1] \"/Users/wintermute/Library/CloudStorage/GoogleDrive-wintermute.backup@gmail.com/My Drive/MacbookPro/GoogleDrive/UCL/PaulGroup/MolecularDynamics/Gromacs/FabA33/DataAnalysisAll200323/DCCM170423/ConvertDCD140623/54DCD140623\"\n",
      "[1] \"/Users/wintermute/Library/CloudStorage/GoogleDrive-wintermute.backup@gmail.com/My Drive/MacbookPro/GoogleDrive/UCL/PaulGroup/MolecularDynamics/Gromacs/FabA33/DataAnalysisAll200323/DCCM170423/ConvertDCD140623/54DCD140623\"\n",
      "[1] \"/Users/wintermute/Library/CloudStorage/GoogleDrive-wintermute.backup@gmail.com/My Drive/MacbookPro/GoogleDrive/UCL/PaulGroup/MolecularDynamics/Gromacs/FabA33/DataAnalysisAll200323/DCCM170423/ConvertDCD140623/54DCD140623\"\n",
      "[1] \"/Users/wintermute/Library/CloudStorage/GoogleDrive-wintermute.backup@gmail.com/My Drive/MacbookPro/GoogleDrive/UCL/PaulGroup/MolecularDynamics/Gromacs/FabA33/DataAnalysisAll200323/DCCM170423/ConvertDCD140623/54DCD140623\"\n",
      "[1] \"/Users/wintermute/Library/CloudStorage/GoogleDrive-wintermute.backup@gmail.com/My Drive/MacbookPro/GoogleDrive/UCL/PaulGroup/MolecularDynamics/Gromacs/FabA33/DataAnalysisAll200323/DCCM170423/ConvertDCD140623/54DCD140623\"\n",
      "[1] \"/Users/wintermute/Library/CloudStorage/GoogleDrive-wintermute.backup@gmail.com/My Drive/MacbookPro/GoogleDrive/UCL/PaulGroup/MolecularDynamics/Gromacs/FabA33/DataAnalysisAll200323/DCCM170423/ConvertDCD140623/54DCD140623\"\n",
      "[1] \"/Users/wintermute/Library/CloudStorage/GoogleDrive-wintermute.backup@gmail.com/My Drive/MacbookPro/GoogleDrive/UCL/PaulGroup/MolecularDynamics/Gromacs/FabA33/DataAnalysisAll200323/DCCM170423/ConvertDCD140623/54DCD140623\"\n",
      "[1] \"/Users/wintermute/Library/CloudStorage/GoogleDrive-wintermute.backup@gmail.com/My Drive/MacbookPro/GoogleDrive/UCL/PaulGroup/MolecularDynamics/Gromacs/FabA33/DataAnalysisAll200323/DCCM170423/ConvertDCD140623/54DCD140623\"\n",
      "[1] \"/Users/wintermute/Library/CloudStorage/GoogleDrive-wintermute.backup@gmail.com/My Drive/MacbookPro/GoogleDrive/UCL/PaulGroup/MolecularDynamics/Gromacs/FabA33/DataAnalysisAll200323/DCCM170423/ConvertDCD140623/54DCD140623\"\n",
      "[1] \"/Users/wintermute/Library/CloudStorage/GoogleDrive-wintermute.backup@gmail.com/My Drive/MacbookPro/GoogleDrive/UCL/PaulGroup/MolecularDynamics/Gromacs/FabA33/DataAnalysisAll200323/DCCM170423/ConvertDCD140623/54DCD140623\"\n",
      "[1] \"/Users/wintermute/Library/CloudStorage/GoogleDrive-wintermute.backup@gmail.com/My Drive/MacbookPro/GoogleDrive/UCL/PaulGroup/MolecularDynamics/Gromacs/FabA33/DataAnalysisAll200323/DCCM170423/ConvertDCD140623/54DCD140623\"\n",
      "[1] \"/Users/wintermute/Library/CloudStorage/GoogleDrive-wintermute.backup@gmail.com/My Drive/MacbookPro/GoogleDrive/UCL/PaulGroup/MolecularDynamics/Gromacs/FabA33/DataAnalysisAll200323/DCCM170423/ConvertDCD140623/54DCD140623\"\n",
      "[1] \"/Users/wintermute/Library/CloudStorage/GoogleDrive-wintermute.backup@gmail.com/My Drive/MacbookPro/GoogleDrive/UCL/PaulGroup/MolecularDynamics/Gromacs/FabA33/DataAnalysisAll200323/DCCM170423/ConvertDCD140623/54DCD140623\"\n",
      "[1] \"/Users/wintermute/Library/CloudStorage/GoogleDrive-wintermute.backup@gmail.com/My Drive/MacbookPro/GoogleDrive/UCL/PaulGroup/MolecularDynamics/Gromacs/FabA33/DataAnalysisAll200323/DCCM170423/ConvertDCD140623/54DCD140623\"\n",
      "[1] \"/Users/wintermute/Library/CloudStorage/GoogleDrive-wintermute.backup@gmail.com/My Drive/MacbookPro/GoogleDrive/UCL/PaulGroup/MolecularDynamics/Gromacs/FabA33/DataAnalysisAll200323/DCCM170423/ConvertDCD140623/54DCD140623\"\n",
      "[1] \"/Users/wintermute/Library/CloudStorage/GoogleDrive-wintermute.backup@gmail.com/My Drive/MacbookPro/GoogleDrive/UCL/PaulGroup/MolecularDynamics/Gromacs/FabA33/DataAnalysisAll200323/DCCM170423/ConvertDCD140623/54DCD140623\"\n",
      "[1] \"/Users/wintermute/Library/CloudStorage/GoogleDrive-wintermute.backup@gmail.com/My Drive/MacbookPro/GoogleDrive/UCL/PaulGroup/MolecularDynamics/Gromacs/FabA33/DataAnalysisAll200323/DCCM170423/ConvertDCD140623/54DCD140623\"\n",
      "[1] \"/Users/wintermute/Library/CloudStorage/GoogleDrive-wintermute.backup@gmail.com/My Drive/MacbookPro/GoogleDrive/UCL/PaulGroup/MolecularDynamics/Gromacs/FabA33/DataAnalysisAll200323/DCCM170423/ConvertDCD140623/54DCD140623\"\n",
      "[1] \"/Users/wintermute/Library/CloudStorage/GoogleDrive-wintermute.backup@gmail.com/My Drive/MacbookPro/GoogleDrive/UCL/PaulGroup/MolecularDynamics/Gromacs/FabA33/DataAnalysisAll200323/DCCM170423/ConvertDCD140623/54DCD140623\"\n",
      "[1] \"/Users/wintermute/Library/CloudStorage/GoogleDrive-wintermute.backup@gmail.com/My Drive/MacbookPro/GoogleDrive/UCL/PaulGroup/MolecularDynamics/Gromacs/FabA33/DataAnalysisAll200323/DCCM170423/ConvertDCD140623/54DCD140623\"\n",
      "[1] \"/Users/wintermute/Library/CloudStorage/GoogleDrive-wintermute.backup@gmail.com/My Drive/MacbookPro/GoogleDrive/UCL/PaulGroup/MolecularDynamics/Gromacs/FabA33/DataAnalysisAll200323/DCCM170423/ConvertDCD140623/54DCD140623\"\n",
      "[1] \"/Users/wintermute/Library/CloudStorage/GoogleDrive-wintermute.backup@gmail.com/My Drive/MacbookPro/GoogleDrive/UCL/PaulGroup/MolecularDynamics/Gromacs/FabA33/DataAnalysisAll200323/DCCM170423/ConvertDCD140623/54DCD140623\"\n",
      "[1] \"/Users/wintermute/Library/CloudStorage/GoogleDrive-wintermute.backup@gmail.com/My Drive/MacbookPro/GoogleDrive/UCL/PaulGroup/MolecularDynamics/Gromacs/FabA33/DataAnalysisAll200323/DCCM170423/ConvertDCD140623/54DCD140623\"\n",
      "[1] \"/Users/wintermute/Library/CloudStorage/GoogleDrive-wintermute.backup@gmail.com/My Drive/MacbookPro/GoogleDrive/UCL/PaulGroup/MolecularDynamics/Gromacs/FabA33/DataAnalysisAll200323/DCCM170423/ConvertDCD140623/54DCD140623\"\n",
      "[1] \"/Users/wintermute/Library/CloudStorage/GoogleDrive-wintermute.backup@gmail.com/My Drive/MacbookPro/GoogleDrive/UCL/PaulGroup/MolecularDynamics/Gromacs/FabA33/DataAnalysisAll200323/DCCM170423/ConvertDCD140623/54DCD140623\"\n",
      "[1] \"/Users/wintermute/Library/CloudStorage/GoogleDrive-wintermute.backup@gmail.com/My Drive/MacbookPro/GoogleDrive/UCL/PaulGroup/MolecularDynamics/Gromacs/FabA33/DataAnalysisAll200323/DCCM170423/ConvertDCD140623/54DCD140623\"\n",
      "[1] \"/Users/wintermute/Library/CloudStorage/GoogleDrive-wintermute.backup@gmail.com/My Drive/MacbookPro/GoogleDrive/UCL/PaulGroup/MolecularDynamics/Gromacs/FabA33/DataAnalysisAll200323/DCCM170423/ConvertDCD140623/54DCD140623\"\n",
      "[1] \"/Users/wintermute/Library/CloudStorage/GoogleDrive-wintermute.backup@gmail.com/My Drive/MacbookPro/GoogleDrive/UCL/PaulGroup/MolecularDynamics/Gromacs/FabA33/DataAnalysisAll200323/DCCM170423/ConvertDCD140623/54DCD140623\"\n",
      "[1] \"/Users/wintermute/Library/CloudStorage/GoogleDrive-wintermute.backup@gmail.com/My Drive/MacbookPro/GoogleDrive/UCL/PaulGroup/MolecularDynamics/Gromacs/FabA33/DataAnalysisAll200323/DCCM170423/ConvertDCD140623/54DCD140623\"\n",
      "[1] \"/Users/wintermute/Library/CloudStorage/GoogleDrive-wintermute.backup@gmail.com/My Drive/MacbookPro/GoogleDrive/UCL/PaulGroup/MolecularDynamics/Gromacs/FabA33/DataAnalysisAll200323/DCCM170423/ConvertDCD140623/54DCD140623\"\n",
      "[1] \"/Users/wintermute/Library/CloudStorage/GoogleDrive-wintermute.backup@gmail.com/My Drive/MacbookPro/GoogleDrive/UCL/PaulGroup/MolecularDynamics/Gromacs/FabA33/DataAnalysisAll200323/DCCM170423/ConvertDCD140623/54DCD140623\"\n",
      "[1] \"/Users/wintermute/Library/CloudStorage/GoogleDrive-wintermute.backup@gmail.com/My Drive/MacbookPro/GoogleDrive/UCL/PaulGroup/MolecularDynamics/Gromacs/FabA33/DataAnalysisAll200323/DCCM170423/ConvertDCD140623/54DCD140623\"\n",
      "[1] \"/Users/wintermute/Library/CloudStorage/GoogleDrive-wintermute.backup@gmail.com/My Drive/MacbookPro/GoogleDrive/UCL/PaulGroup/MolecularDynamics/Gromacs/FabA33/DataAnalysisAll200323/DCCM170423/ConvertDCD140623/54DCD140623\"\n",
      "[1] \"/Users/wintermute/Library/CloudStorage/GoogleDrive-wintermute.backup@gmail.com/My Drive/MacbookPro/GoogleDrive/UCL/PaulGroup/MolecularDynamics/Gromacs/FabA33/DataAnalysisAll200323/DCCM170423/ConvertDCD140623/54DCD140623\"\n",
      "[1] \"/Users/wintermute/Library/CloudStorage/GoogleDrive-wintermute.backup@gmail.com/My Drive/MacbookPro/GoogleDrive/UCL/PaulGroup/MolecularDynamics/Gromacs/FabA33/DataAnalysisAll200323/DCCM170423/ConvertDCD140623/54DCD140623\"\n",
      "[1] \"/Users/wintermute/Library/CloudStorage/GoogleDrive-wintermute.backup@gmail.com/My Drive/MacbookPro/GoogleDrive/UCL/PaulGroup/MolecularDynamics/Gromacs/FabA33/DataAnalysisAll200323/DCCM170423/ConvertDCD140623/54DCD140623\"\n"
     ]
    }
   ],
   "source": [
    "# just to test how to get filename without extensison\n",
    "# reference: https://stackoverflow.com/questions/29113973/get-filename-without-extension-in-r\n",
    "\n",
    "filepath <- getwd()\n",
    "files <- list.files()\n",
    "\n",
    "for (i in files) {\n",
    "    #print(file.path(filepath, paste0(toString(i),\".png\")))\n",
    "    f <- tools::file_path_sans_ext(filepath)\n",
    "    print(f)\n",
    "}"
   ]
  },
  {
   "cell_type": "code",
   "execution_count": 12,
   "id": "40125165",
   "metadata": {
    "ExecuteTime": {
     "end_time": "2023-06-14T12:48:02.997436Z",
     "start_time": "2023-06-14T12:48:02.975Z"
    },
    "code_folding": []
   },
   "outputs": [
    {
     "data": {
      "text/html": [
       "'ABCD'"
      ],
      "text/latex": [
       "'ABCD'"
      ],
      "text/markdown": [
       "'ABCD'"
      ],
      "text/plain": [
       "[1] \"ABCD\""
      ]
     },
     "metadata": {},
     "output_type": "display_data"
    }
   ],
   "source": [
    "# just to test how to get filename without extensison\n",
    "# reference: https://stackoverflow.com/questions/29113973/get-filename-without-extension-in-r\n",
    "\n",
    "tools::file_path_sans_ext(\"ABCD.csv\")"
   ]
  },
  {
   "cell_type": "code",
   "execution_count": 14,
   "id": "798a48ed",
   "metadata": {
    "ExecuteTime": {
     "end_time": "2023-06-14T12:53:37.308650Z",
     "start_time": "2023-06-14T12:53:37.288Z"
    }
   },
   "outputs": [],
   "source": [
    "i = '7_296_250_r1_md_0_1.dcd'"
   ]
  },
  {
   "cell_type": "code",
   "execution_count": 24,
   "id": "dea22cc1",
   "metadata": {
    "ExecuteTime": {
     "end_time": "2023-06-30T13:17:22.198390Z",
     "start_time": "2023-06-30T13:17:22.173Z"
    }
   },
   "outputs": [
    {
     "data": {
      "text/html": [
       "<strong>pdf:</strong> 2"
      ],
      "text/latex": [
       "\\textbf{pdf:} 2"
      ],
      "text/markdown": [
       "**pdf:** 2"
      ],
      "text/plain": [
       "pdf \n",
       "  2 "
      ]
     },
     "metadata": {},
     "output_type": "display_data"
    }
   ],
   "source": [
    "png(file = file.path(filepath, paste0(tools::file_path_sans_ext(i), \".png\")))\n",
    "\n",
    "dev.off() "
   ]
  },
  {
   "cell_type": "code",
   "execution_count": 15,
   "id": "47bff71a",
   "metadata": {
    "ExecuteTime": {
     "end_time": "2023-06-30T13:09:56.757756Z",
     "start_time": "2023-06-30T13:09:56.700Z"
    }
   },
   "outputs": [],
   "source": [
    "pdb <- read.pdb(\"Fab.pdb\")"
   ]
  },
  {
   "cell_type": "code",
   "execution_count": 26,
   "id": "9c07cda1",
   "metadata": {
    "ExecuteTime": {
     "end_time": "2023-06-30T13:41:52.521239Z",
     "start_time": "2023-06-30T13:20:49.810Z"
    }
   },
   "outputs": [
    {
     "name": "stderr",
     "output_type": "stream",
     "text": [
      "Warning message in dcd.header(trj, verbose):\n",
      "“Check DCD header data is correct, particulary natom”\n"
     ]
    },
    {
     "name": "stdout",
     "output_type": "stream",
     "text": [
      " NATOM = 6598 \n",
      " NFRAME= 1002 \n",
      " ISTART= 0 \n",
      " last  = 1002 \n",
      " nstep = 1002 \n",
      " nfile = 1002 \n",
      " NSAVE = 1 \n",
      " NDEGF = 0 \n",
      " version 24 \n",
      "  |======================================================================| 100%\n"
     ]
    },
    {
     "name": "stderr",
     "output_type": "stream",
     "text": [
      "Warning message in dcd.header(trj, verbose):\n",
      "“Check DCD header data is correct, particulary natom”\n"
     ]
    },
    {
     "name": "stdout",
     "output_type": "stream",
     "text": [
      " NATOM = 6598 \n",
      " NFRAME= 1002 \n",
      " ISTART= 0 \n",
      " last  = 1002 \n",
      " nstep = 1002 \n",
      " nfile = 1002 \n",
      " NSAVE = 1 \n",
      " NDEGF = 0 \n",
      " version 24 \n",
      "  |======================================================================| 100%\n"
     ]
    },
    {
     "name": "stderr",
     "output_type": "stream",
     "text": [
      "Warning message in dcd.header(trj, verbose):\n",
      "“Check DCD header data is correct, particulary natom”\n"
     ]
    },
    {
     "name": "stdout",
     "output_type": "stream",
     "text": [
      " NATOM = 6598 \n",
      " NFRAME= 1002 \n",
      " ISTART= 0 \n",
      " last  = 1002 \n",
      " nstep = 1002 \n",
      " nfile = 1002 \n",
      " NSAVE = 1 \n",
      " NDEGF = 0 \n",
      " version 24 \n",
      "  |======================================================================| 100%\n"
     ]
    },
    {
     "name": "stderr",
     "output_type": "stream",
     "text": [
      "Warning message in dcd.header(trj, verbose):\n",
      "“Check DCD header data is correct, particulary natom”\n"
     ]
    },
    {
     "name": "stdout",
     "output_type": "stream",
     "text": [
      " NATOM = 6598 \n",
      " NFRAME= 1002 \n",
      " ISTART= 0 \n",
      " last  = 1002 \n",
      " nstep = 1002 \n",
      " nfile = 1002 \n",
      " NSAVE = 1 \n",
      " NDEGF = 0 \n",
      " version 24 \n",
      "  |======================================================================| 100%\n"
     ]
    },
    {
     "name": "stderr",
     "output_type": "stream",
     "text": [
      "Warning message in dcd.header(trj, verbose):\n",
      "“Check DCD header data is correct, particulary natom”\n"
     ]
    },
    {
     "name": "stdout",
     "output_type": "stream",
     "text": [
      " NATOM = 6598 \n",
      " NFRAME= 1002 \n",
      " ISTART= 0 \n",
      " last  = 1002 \n",
      " nstep = 1002 \n",
      " nfile = 1002 \n",
      " NSAVE = 1 \n",
      " NDEGF = 0 \n",
      " version 24 \n",
      "  |======================================================================| 100%\n"
     ]
    },
    {
     "name": "stderr",
     "output_type": "stream",
     "text": [
      "Warning message in dcd.header(trj, verbose):\n",
      "“Check DCD header data is correct, particulary natom”\n"
     ]
    },
    {
     "name": "stdout",
     "output_type": "stream",
     "text": [
      " NATOM = 6598 \n",
      " NFRAME= 1002 \n",
      " ISTART= 0 \n",
      " last  = 1002 \n",
      " nstep = 1002 \n",
      " nfile = 1002 \n",
      " NSAVE = 1 \n",
      " NDEGF = 0 \n",
      " version 24 \n",
      "  |======================================================================| 100%\n"
     ]
    },
    {
     "name": "stderr",
     "output_type": "stream",
     "text": [
      "Warning message in dcd.header(trj, verbose):\n",
      "“Check DCD header data is correct, particulary natom”\n"
     ]
    },
    {
     "name": "stdout",
     "output_type": "stream",
     "text": [
      " NATOM = 6598 \n",
      " NFRAME= 1002 \n",
      " ISTART= 0 \n",
      " last  = 1002 \n",
      " nstep = 1002 \n",
      " nfile = 1002 \n",
      " NSAVE = 1 \n",
      " NDEGF = 0 \n",
      " version 24 \n",
      "  |======================================================================| 100%\n"
     ]
    },
    {
     "name": "stderr",
     "output_type": "stream",
     "text": [
      "Warning message in dcd.header(trj, verbose):\n",
      "“Check DCD header data is correct, particulary natom”\n"
     ]
    },
    {
     "name": "stdout",
     "output_type": "stream",
     "text": [
      " NATOM = 6598 \n",
      " NFRAME= 1002 \n",
      " ISTART= 0 \n",
      " last  = 1002 \n",
      " nstep = 1002 \n",
      " nfile = 1002 \n",
      " NSAVE = 1 \n",
      " NDEGF = 0 \n",
      " version 24 \n",
      "  |======================================================================| 100%\n"
     ]
    },
    {
     "name": "stderr",
     "output_type": "stream",
     "text": [
      "Warning message in dcd.header(trj, verbose):\n",
      "“Check DCD header data is correct, particulary natom”\n"
     ]
    },
    {
     "name": "stdout",
     "output_type": "stream",
     "text": [
      " NATOM = 6598 \n",
      " NFRAME= 1002 \n",
      " ISTART= 0 \n",
      " last  = 1002 \n",
      " nstep = 1002 \n",
      " nfile = 1002 \n",
      " NSAVE = 1 \n",
      " NDEGF = 0 \n",
      " version 24 \n",
      "  |======================================================================| 100%\n"
     ]
    },
    {
     "name": "stderr",
     "output_type": "stream",
     "text": [
      "Warning message in dcd.header(trj, verbose):\n",
      "“Check DCD header data is correct, particulary natom”\n"
     ]
    },
    {
     "name": "stdout",
     "output_type": "stream",
     "text": [
      " NATOM = 6598 \n",
      " NFRAME= 1002 \n",
      " ISTART= 0 \n",
      " last  = 1002 \n",
      " nstep = 1002 \n",
      " nfile = 1002 \n",
      " NSAVE = 1 \n",
      " NDEGF = 0 \n",
      " version 24 \n",
      "  |======================================================================| 100%\n"
     ]
    },
    {
     "name": "stderr",
     "output_type": "stream",
     "text": [
      "Warning message in dcd.header(trj, verbose):\n",
      "“Check DCD header data is correct, particulary natom”\n"
     ]
    },
    {
     "name": "stdout",
     "output_type": "stream",
     "text": [
      " NATOM = 6598 \n",
      " NFRAME= 1002 \n",
      " ISTART= 0 \n",
      " last  = 1002 \n",
      " nstep = 1002 \n",
      " nfile = 1002 \n",
      " NSAVE = 1 \n",
      " NDEGF = 0 \n",
      " version 24 \n",
      "  |======================================================================| 100%\n"
     ]
    },
    {
     "name": "stderr",
     "output_type": "stream",
     "text": [
      "Warning message in dcd.header(trj, verbose):\n",
      "“Check DCD header data is correct, particulary natom”\n"
     ]
    },
    {
     "name": "stdout",
     "output_type": "stream",
     "text": [
      " NATOM = 6598 \n",
      " NFRAME= 1002 \n",
      " ISTART= 0 \n",
      " last  = 1002 \n",
      " nstep = 1002 \n",
      " nfile = 1002 \n",
      " NSAVE = 1 \n",
      " NDEGF = 0 \n",
      " version 24 \n",
      "  |======================================================================| 100%\n"
     ]
    },
    {
     "name": "stderr",
     "output_type": "stream",
     "text": [
      "Warning message in dcd.header(trj, verbose):\n",
      "“Check DCD header data is correct, particulary natom”\n"
     ]
    },
    {
     "name": "stdout",
     "output_type": "stream",
     "text": [
      " NATOM = 6598 \n",
      " NFRAME= 1002 \n",
      " ISTART= 0 \n",
      " last  = 1002 \n",
      " nstep = 1002 \n",
      " nfile = 1002 \n",
      " NSAVE = 1 \n",
      " NDEGF = 0 \n",
      " version 24 \n",
      "  |======================================================================| 100%\n"
     ]
    },
    {
     "name": "stderr",
     "output_type": "stream",
     "text": [
      "Warning message in dcd.header(trj, verbose):\n",
      "“Check DCD header data is correct, particulary natom”\n"
     ]
    },
    {
     "name": "stdout",
     "output_type": "stream",
     "text": [
      " NATOM = 6598 \n",
      " NFRAME= 1002 \n",
      " ISTART= 0 \n",
      " last  = 1002 \n",
      " nstep = 1002 \n",
      " nfile = 1002 \n",
      " NSAVE = 1 \n",
      " NDEGF = 0 \n",
      " version 24 \n",
      "  |======================================================================| 100%\n"
     ]
    },
    {
     "name": "stderr",
     "output_type": "stream",
     "text": [
      "Warning message in dcd.header(trj, verbose):\n",
      "“Check DCD header data is correct, particulary natom”\n"
     ]
    },
    {
     "name": "stdout",
     "output_type": "stream",
     "text": [
      " NATOM = 6598 \n",
      " NFRAME= 1002 \n",
      " ISTART= 0 \n",
      " last  = 1002 \n",
      " nstep = 1002 \n",
      " nfile = 1002 \n",
      " NSAVE = 1 \n",
      " NDEGF = 0 \n",
      " version 24 \n",
      "  |======================================================================| 100%\n"
     ]
    },
    {
     "name": "stderr",
     "output_type": "stream",
     "text": [
      "Warning message in dcd.header(trj, verbose):\n",
      "“Check DCD header data is correct, particulary natom”\n"
     ]
    },
    {
     "name": "stdout",
     "output_type": "stream",
     "text": [
      " NATOM = 6598 \n",
      " NFRAME= 1002 \n",
      " ISTART= 0 \n",
      " last  = 1002 \n",
      " nstep = 1002 \n",
      " nfile = 1002 \n",
      " NSAVE = 1 \n",
      " NDEGF = 0 \n",
      " version 24 \n",
      "  |======================================================================| 100%\n"
     ]
    },
    {
     "name": "stderr",
     "output_type": "stream",
     "text": [
      "Warning message in dcd.header(trj, verbose):\n",
      "“Check DCD header data is correct, particulary natom”\n"
     ]
    },
    {
     "name": "stdout",
     "output_type": "stream",
     "text": [
      " NATOM = 6598 \n",
      " NFRAME= 1002 \n",
      " ISTART= 0 \n",
      " last  = 1002 \n",
      " nstep = 1002 \n",
      " nfile = 1002 \n",
      " NSAVE = 1 \n",
      " NDEGF = 0 \n",
      " version 24 \n",
      "  |======================================================================| 100%\n"
     ]
    },
    {
     "name": "stderr",
     "output_type": "stream",
     "text": [
      "Warning message in dcd.header(trj, verbose):\n",
      "“Check DCD header data is correct, particulary natom”\n"
     ]
    },
    {
     "name": "stdout",
     "output_type": "stream",
     "text": [
      " NATOM = 6598 \n",
      " NFRAME= 1002 \n",
      " ISTART= 0 \n",
      " last  = 1002 \n",
      " nstep = 1002 \n",
      " nfile = 1002 \n",
      " NSAVE = 1 \n",
      " NDEGF = 0 \n",
      " version 24 \n",
      "  |======================================================================| 100%\n"
     ]
    },
    {
     "name": "stderr",
     "output_type": "stream",
     "text": [
      "Warning message in dcd.header(trj, verbose):\n",
      "“Check DCD header data is correct, particulary natom”\n"
     ]
    },
    {
     "name": "stdout",
     "output_type": "stream",
     "text": [
      " NATOM = 6598 \n",
      " NFRAME= 1002 \n",
      " ISTART= 0 \n",
      " last  = 1002 \n",
      " nstep = 1002 \n",
      " nfile = 1002 \n",
      " NSAVE = 1 \n",
      " NDEGF = 0 \n",
      " version 24 \n",
      "  |======================================================================| 100%\n"
     ]
    },
    {
     "name": "stderr",
     "output_type": "stream",
     "text": [
      "Warning message in dcd.header(trj, verbose):\n",
      "“Check DCD header data is correct, particulary natom”\n"
     ]
    },
    {
     "name": "stdout",
     "output_type": "stream",
     "text": [
      " NATOM = 6598 \n",
      " NFRAME= 1002 \n",
      " ISTART= 0 \n",
      " last  = 1002 \n",
      " nstep = 1002 \n",
      " nfile = 1002 \n",
      " NSAVE = 1 \n",
      " NDEGF = 0 \n",
      " version 24 \n",
      "  |======================================================================| 100%\n"
     ]
    },
    {
     "name": "stderr",
     "output_type": "stream",
     "text": [
      "Warning message in dcd.header(trj, verbose):\n",
      "“Check DCD header data is correct, particulary natom”\n"
     ]
    },
    {
     "name": "stdout",
     "output_type": "stream",
     "text": [
      " NATOM = 6598 \n",
      " NFRAME= 1002 \n",
      " ISTART= 0 \n",
      " last  = 1002 \n",
      " nstep = 1002 \n",
      " nfile = 1002 \n",
      " NSAVE = 1 \n",
      " NDEGF = 0 \n",
      " version 24 \n",
      "  |======================================================================| 100%\n"
     ]
    },
    {
     "name": "stderr",
     "output_type": "stream",
     "text": [
      "Warning message in dcd.header(trj, verbose):\n",
      "“Check DCD header data is correct, particulary natom”\n"
     ]
    },
    {
     "name": "stdout",
     "output_type": "stream",
     "text": [
      " NATOM = 6598 \n",
      " NFRAME= 1002 \n",
      " ISTART= 0 \n",
      " last  = 1002 \n",
      " nstep = 1002 \n",
      " nfile = 1002 \n",
      " NSAVE = 1 \n",
      " NDEGF = 0 \n",
      " version 24 \n",
      "  |======================================================================| 100%\n"
     ]
    },
    {
     "name": "stderr",
     "output_type": "stream",
     "text": [
      "Warning message in dcd.header(trj, verbose):\n",
      "“Check DCD header data is correct, particulary natom”\n"
     ]
    },
    {
     "name": "stdout",
     "output_type": "stream",
     "text": [
      " NATOM = 6598 \n",
      " NFRAME= 1002 \n",
      " ISTART= 0 \n",
      " last  = 1002 \n",
      " nstep = 1002 \n",
      " nfile = 1002 \n",
      " NSAVE = 1 \n",
      " NDEGF = 0 \n",
      " version 24 \n",
      "  |======================================================================| 100%\n"
     ]
    },
    {
     "name": "stderr",
     "output_type": "stream",
     "text": [
      "Warning message in dcd.header(trj, verbose):\n",
      "“Check DCD header data is correct, particulary natom”\n"
     ]
    },
    {
     "name": "stdout",
     "output_type": "stream",
     "text": [
      " NATOM = 6598 \n",
      " NFRAME= 1002 \n",
      " ISTART= 0 \n",
      " last  = 1002 \n",
      " nstep = 1002 \n",
      " nfile = 1002 \n",
      " NSAVE = 1 \n",
      " NDEGF = 0 \n",
      " version 24 \n",
      "  |======================================================================| 100%\n"
     ]
    },
    {
     "name": "stderr",
     "output_type": "stream",
     "text": [
      "Warning message in dcd.header(trj, verbose):\n",
      "“Check DCD header data is correct, particulary natom”\n"
     ]
    },
    {
     "name": "stdout",
     "output_type": "stream",
     "text": [
      " NATOM = 6598 \n",
      " NFRAME= 1002 \n",
      " ISTART= 0 \n",
      " last  = 1002 \n",
      " nstep = 1002 \n",
      " nfile = 1002 \n",
      " NSAVE = 1 \n",
      " NDEGF = 0 \n",
      " version 24 \n",
      "  |======================================================================| 100%\n"
     ]
    },
    {
     "name": "stderr",
     "output_type": "stream",
     "text": [
      "Warning message in dcd.header(trj, verbose):\n",
      "“Check DCD header data is correct, particulary natom”\n"
     ]
    },
    {
     "name": "stdout",
     "output_type": "stream",
     "text": [
      " NATOM = 6598 \n",
      " NFRAME= 1002 \n",
      " ISTART= 0 \n",
      " last  = 1002 \n",
      " nstep = 1002 \n",
      " nfile = 1002 \n",
      " NSAVE = 1 \n",
      " NDEGF = 0 \n",
      " version 24 \n",
      "  |======================================================================| 100%\n"
     ]
    },
    {
     "name": "stderr",
     "output_type": "stream",
     "text": [
      "Warning message in dcd.header(trj, verbose):\n",
      "“Check DCD header data is correct, particulary natom”\n"
     ]
    },
    {
     "name": "stdout",
     "output_type": "stream",
     "text": [
      " NATOM = 6598 \n",
      " NFRAME= 1002 \n",
      " ISTART= 0 \n",
      " last  = 1002 \n",
      " nstep = 1002 \n",
      " nfile = 1002 \n",
      " NSAVE = 1 \n",
      " NDEGF = 0 \n",
      " version 24 \n",
      "  |======================================================================| 100%\n"
     ]
    },
    {
     "name": "stderr",
     "output_type": "stream",
     "text": [
      "Warning message in dcd.header(trj, verbose):\n",
      "“Check DCD header data is correct, particulary natom”\n"
     ]
    },
    {
     "name": "stdout",
     "output_type": "stream",
     "text": [
      " NATOM = 6598 \n",
      " NFRAME= 1002 \n",
      " ISTART= 0 \n",
      " last  = 1002 \n",
      " nstep = 1002 \n",
      " nfile = 1002 \n",
      " NSAVE = 1 \n",
      " NDEGF = 0 \n",
      " version 24 \n",
      "  |======================================================================| 100%\n"
     ]
    },
    {
     "name": "stderr",
     "output_type": "stream",
     "text": [
      "Warning message in dcd.header(trj, verbose):\n",
      "“Check DCD header data is correct, particulary natom”\n"
     ]
    },
    {
     "name": "stdout",
     "output_type": "stream",
     "text": [
      " NATOM = 6598 \n",
      " NFRAME= 1002 \n",
      " ISTART= 0 \n",
      " last  = 1002 \n",
      " nstep = 1002 \n",
      " nfile = 1002 \n",
      " NSAVE = 1 \n",
      " NDEGF = 0 \n",
      " version 24 \n",
      "  |======================================================================| 100%\n"
     ]
    },
    {
     "name": "stderr",
     "output_type": "stream",
     "text": [
      "Warning message in dcd.header(trj, verbose):\n",
      "“Check DCD header data is correct, particulary natom”\n"
     ]
    },
    {
     "name": "stdout",
     "output_type": "stream",
     "text": [
      " NATOM = 6598 \n",
      " NFRAME= 1002 \n",
      " ISTART= 0 \n",
      " last  = 1002 \n",
      " nstep = 1002 \n",
      " nfile = 1002 \n",
      " NSAVE = 1 \n",
      " NDEGF = 0 \n",
      " version 24 \n",
      "  |======================================================================| 100%\n"
     ]
    },
    {
     "name": "stderr",
     "output_type": "stream",
     "text": [
      "Warning message in dcd.header(trj, verbose):\n",
      "“Check DCD header data is correct, particulary natom”\n"
     ]
    },
    {
     "name": "stdout",
     "output_type": "stream",
     "text": [
      " NATOM = 6598 \n",
      " NFRAME= 1002 \n",
      " ISTART= 0 \n",
      " last  = 1002 \n",
      " nstep = 1002 \n",
      " nfile = 1002 \n",
      " NSAVE = 1 \n",
      " NDEGF = 0 \n",
      " version 24 \n",
      "  |======================================================================| 100%\n"
     ]
    },
    {
     "name": "stderr",
     "output_type": "stream",
     "text": [
      "Warning message in dcd.header(trj, verbose):\n",
      "“Check DCD header data is correct, particulary natom”\n"
     ]
    },
    {
     "name": "stdout",
     "output_type": "stream",
     "text": [
      " NATOM = 6598 \n",
      " NFRAME= 1002 \n",
      " ISTART= 0 \n",
      " last  = 1002 \n",
      " nstep = 1002 \n",
      " nfile = 1002 \n",
      " NSAVE = 1 \n",
      " NDEGF = 0 \n",
      " version 24 \n",
      "  |======================================================================| 100%\n"
     ]
    },
    {
     "name": "stderr",
     "output_type": "stream",
     "text": [
      "Warning message in dcd.header(trj, verbose):\n",
      "“Check DCD header data is correct, particulary natom”\n"
     ]
    },
    {
     "name": "stdout",
     "output_type": "stream",
     "text": [
      " NATOM = 6598 \n",
      " NFRAME= 1002 \n",
      " ISTART= 0 \n",
      " last  = 1002 \n",
      " nstep = 1002 \n",
      " nfile = 1002 \n",
      " NSAVE = 1 \n",
      " NDEGF = 0 \n",
      " version 24 \n",
      "  |======================================================================| 100%\n"
     ]
    },
    {
     "name": "stderr",
     "output_type": "stream",
     "text": [
      "Warning message in dcd.header(trj, verbose):\n",
      "“Check DCD header data is correct, particulary natom”\n"
     ]
    },
    {
     "name": "stdout",
     "output_type": "stream",
     "text": [
      " NATOM = 6598 \n",
      " NFRAME= 1002 \n",
      " ISTART= 0 \n",
      " last  = 1002 \n",
      " nstep = 1002 \n",
      " nfile = 1002 \n",
      " NSAVE = 1 \n",
      " NDEGF = 0 \n",
      " version 24 \n",
      "  |======================================================================| 100%\n"
     ]
    },
    {
     "name": "stderr",
     "output_type": "stream",
     "text": [
      "Warning message in dcd.header(trj, verbose):\n",
      "“Check DCD header data is correct, particulary natom”\n"
     ]
    },
    {
     "name": "stdout",
     "output_type": "stream",
     "text": [
      " NATOM = 6598 \n",
      " NFRAME= 1002 \n",
      " ISTART= 0 \n",
      " last  = 1002 \n",
      " nstep = 1002 \n",
      " nfile = 1002 \n",
      " NSAVE = 1 \n",
      " NDEGF = 0 \n",
      " version 24 \n",
      "  |======================================================================| 100%\n"
     ]
    },
    {
     "name": "stderr",
     "output_type": "stream",
     "text": [
      "Warning message in dcd.header(trj, verbose):\n",
      "“Check DCD header data is correct, particulary natom”\n"
     ]
    },
    {
     "name": "stdout",
     "output_type": "stream",
     "text": [
      " NATOM = 6598 \n",
      " NFRAME= 1002 \n",
      " ISTART= 0 \n",
      " last  = 1002 \n",
      " nstep = 1002 \n",
      " nfile = 1002 \n",
      " NSAVE = 1 \n",
      " NDEGF = 0 \n",
      " version 24 \n",
      "  |======================================================================| 100%\n"
     ]
    },
    {
     "name": "stderr",
     "output_type": "stream",
     "text": [
      "Warning message in dcd.header(trj, verbose):\n",
      "“Check DCD header data is correct, particulary natom”\n"
     ]
    },
    {
     "name": "stdout",
     "output_type": "stream",
     "text": [
      " NATOM = 6598 \n",
      " NFRAME= 1002 \n",
      " ISTART= 0 \n",
      " last  = 1002 \n",
      " nstep = 1002 \n",
      " nfile = 1002 \n",
      " NSAVE = 1 \n",
      " NDEGF = 0 \n",
      " version 24 \n",
      "  |======================================================================| 100%\n"
     ]
    },
    {
     "name": "stderr",
     "output_type": "stream",
     "text": [
      "Warning message in dcd.header(trj, verbose):\n",
      "“Check DCD header data is correct, particulary natom”\n"
     ]
    },
    {
     "name": "stdout",
     "output_type": "stream",
     "text": [
      " NATOM = 6598 \n",
      " NFRAME= 1002 \n",
      " ISTART= 0 \n",
      " last  = 1002 \n",
      " nstep = 1002 \n",
      " nfile = 1002 \n",
      " NSAVE = 1 \n",
      " NDEGF = 0 \n",
      " version 24 \n",
      "  |======================================================================| 100%\n"
     ]
    },
    {
     "name": "stderr",
     "output_type": "stream",
     "text": [
      "Warning message in dcd.header(trj, verbose):\n",
      "“Check DCD header data is correct, particulary natom”\n"
     ]
    },
    {
     "name": "stdout",
     "output_type": "stream",
     "text": [
      " NATOM = 6598 \n",
      " NFRAME= 1002 \n",
      " ISTART= 0 \n",
      " last  = 1002 \n",
      " nstep = 1002 \n",
      " nfile = 1002 \n",
      " NSAVE = 1 \n",
      " NDEGF = 0 \n",
      " version 24 \n",
      "  |======================================================================| 100%\n"
     ]
    },
    {
     "name": "stderr",
     "output_type": "stream",
     "text": [
      "Warning message in dcd.header(trj, verbose):\n",
      "“Check DCD header data is correct, particulary natom”\n"
     ]
    },
    {
     "name": "stdout",
     "output_type": "stream",
     "text": [
      " NATOM = 6598 \n",
      " NFRAME= 1002 \n",
      " ISTART= 0 \n",
      " last  = 1002 \n",
      " nstep = 1002 \n",
      " nfile = 1002 \n",
      " NSAVE = 1 \n",
      " NDEGF = 0 \n",
      " version 24 \n",
      "  |======================================================================| 100%\n"
     ]
    },
    {
     "name": "stderr",
     "output_type": "stream",
     "text": [
      "Warning message in dcd.header(trj, verbose):\n",
      "“Check DCD header data is correct, particulary natom”\n"
     ]
    },
    {
     "name": "stdout",
     "output_type": "stream",
     "text": [
      " NATOM = 6598 \n",
      " NFRAME= 1002 \n",
      " ISTART= 0 \n",
      " last  = 1002 \n",
      " nstep = 1002 \n",
      " nfile = 1002 \n",
      " NSAVE = 1 \n",
      " NDEGF = 0 \n",
      " version 24 \n",
      "  |======================================================================| 100%\n"
     ]
    },
    {
     "name": "stderr",
     "output_type": "stream",
     "text": [
      "Warning message in dcd.header(trj, verbose):\n",
      "“Check DCD header data is correct, particulary natom”\n"
     ]
    },
    {
     "name": "stdout",
     "output_type": "stream",
     "text": [
      " NATOM = 6598 \n",
      " NFRAME= 1002 \n",
      " ISTART= 0 \n",
      " last  = 1002 \n",
      " nstep = 1002 \n",
      " nfile = 1002 \n",
      " NSAVE = 1 \n",
      " NDEGF = 0 \n",
      " version 24 \n",
      "  |======================================================================| 100%\n"
     ]
    },
    {
     "name": "stderr",
     "output_type": "stream",
     "text": [
      "Warning message in dcd.header(trj, verbose):\n",
      "“Check DCD header data is correct, particulary natom”\n"
     ]
    },
    {
     "name": "stdout",
     "output_type": "stream",
     "text": [
      " NATOM = 6598 \n",
      " NFRAME= 1002 \n",
      " ISTART= 0 \n",
      " last  = 1002 \n",
      " nstep = 1002 \n",
      " nfile = 1002 \n",
      " NSAVE = 1 \n",
      " NDEGF = 0 \n",
      " version 24 \n",
      "  |======================================================================| 100%\n"
     ]
    },
    {
     "name": "stderr",
     "output_type": "stream",
     "text": [
      "Warning message in dcd.header(trj, verbose):\n",
      "“Check DCD header data is correct, particulary natom”\n"
     ]
    },
    {
     "name": "stdout",
     "output_type": "stream",
     "text": [
      " NATOM = 6598 \n",
      " NFRAME= 1002 \n",
      " ISTART= 0 \n",
      " last  = 1002 \n",
      " nstep = 1002 \n",
      " nfile = 1002 \n",
      " NSAVE = 1 \n",
      " NDEGF = 0 \n",
      " version 24 \n",
      "  |======================================================================| 100%\n"
     ]
    },
    {
     "name": "stderr",
     "output_type": "stream",
     "text": [
      "Warning message in dcd.header(trj, verbose):\n",
      "“Check DCD header data is correct, particulary natom”\n"
     ]
    },
    {
     "name": "stdout",
     "output_type": "stream",
     "text": [
      " NATOM = 6598 \n",
      " NFRAME= 1002 \n",
      " ISTART= 0 \n",
      " last  = 1002 \n",
      " nstep = 1002 \n",
      " nfile = 1002 \n",
      " NSAVE = 1 \n",
      " NDEGF = 0 \n",
      " version 24 \n",
      "  |======================================================================| 100%\n"
     ]
    },
    {
     "name": "stderr",
     "output_type": "stream",
     "text": [
      "Warning message in dcd.header(trj, verbose):\n",
      "“Check DCD header data is correct, particulary natom”\n"
     ]
    },
    {
     "name": "stdout",
     "output_type": "stream",
     "text": [
      " NATOM = 6598 \n",
      " NFRAME= 1002 \n",
      " ISTART= 0 \n",
      " last  = 1002 \n",
      " nstep = 1002 \n",
      " nfile = 1002 \n",
      " NSAVE = 1 \n",
      " NDEGF = 0 \n",
      " version 24 \n",
      "  |======================================================================| 100%\n"
     ]
    },
    {
     "name": "stderr",
     "output_type": "stream",
     "text": [
      "Warning message in dcd.header(trj, verbose):\n",
      "“Check DCD header data is correct, particulary natom”\n"
     ]
    },
    {
     "name": "stdout",
     "output_type": "stream",
     "text": [
      " NATOM = 6598 \n",
      " NFRAME= 1002 \n",
      " ISTART= 0 \n",
      " last  = 1002 \n",
      " nstep = 1002 \n",
      " nfile = 1002 \n",
      " NSAVE = 1 \n",
      " NDEGF = 0 \n",
      " version 24 \n",
      "  |======================================================================| 100%\n"
     ]
    },
    {
     "name": "stderr",
     "output_type": "stream",
     "text": [
      "Warning message in dcd.header(trj, verbose):\n",
      "“Check DCD header data is correct, particulary natom”\n"
     ]
    },
    {
     "name": "stdout",
     "output_type": "stream",
     "text": [
      " NATOM = 6598 \n",
      " NFRAME= 1002 \n",
      " ISTART= 0 \n",
      " last  = 1002 \n",
      " nstep = 1002 \n",
      " nfile = 1002 \n",
      " NSAVE = 1 \n",
      " NDEGF = 0 \n",
      " version 24 \n",
      "  |======================================================================| 100%\n"
     ]
    },
    {
     "name": "stderr",
     "output_type": "stream",
     "text": [
      "Warning message in dcd.header(trj, verbose):\n",
      "“Check DCD header data is correct, particulary natom”\n"
     ]
    },
    {
     "name": "stdout",
     "output_type": "stream",
     "text": [
      " NATOM = 6598 \n",
      " NFRAME= 1002 \n",
      " ISTART= 0 \n",
      " last  = 1002 \n",
      " nstep = 1002 \n",
      " nfile = 1002 \n",
      " NSAVE = 1 \n",
      " NDEGF = 0 \n",
      " version 24 \n",
      "  |======================================================================| 100%\n"
     ]
    },
    {
     "name": "stderr",
     "output_type": "stream",
     "text": [
      "Warning message in dcd.header(trj, verbose):\n",
      "“Check DCD header data is correct, particulary natom”\n"
     ]
    },
    {
     "name": "stdout",
     "output_type": "stream",
     "text": [
      " NATOM = 6598 \n",
      " NFRAME= 1002 \n",
      " ISTART= 0 \n",
      " last  = 1002 \n",
      " nstep = 1002 \n",
      " nfile = 1002 \n",
      " NSAVE = 1 \n",
      " NDEGF = 0 \n",
      " version 24 \n",
      "  |======================================================================| 100%\n"
     ]
    },
    {
     "name": "stderr",
     "output_type": "stream",
     "text": [
      "Warning message in dcd.header(trj, verbose):\n",
      "“Check DCD header data is correct, particulary natom”\n"
     ]
    },
    {
     "name": "stdout",
     "output_type": "stream",
     "text": [
      " NATOM = 6598 \n",
      " NFRAME= 1002 \n",
      " ISTART= 0 \n",
      " last  = 1002 \n",
      " nstep = 1002 \n",
      " nfile = 1002 \n",
      " NSAVE = 1 \n",
      " NDEGF = 0 \n",
      " version 24 \n",
      "  |======================================================================| 100%\n"
     ]
    },
    {
     "name": "stderr",
     "output_type": "stream",
     "text": [
      "Warning message in dcd.header(trj, verbose):\n",
      "“Check DCD header data is correct, particulary natom”\n"
     ]
    },
    {
     "name": "stdout",
     "output_type": "stream",
     "text": [
      " NATOM = 6598 \n",
      " NFRAME= 1002 \n",
      " ISTART= 0 \n",
      " last  = 1002 \n",
      " nstep = 1002 \n",
      " nfile = 1002 \n",
      " NSAVE = 1 \n",
      " NDEGF = 0 \n",
      " version 24 \n",
      "  |======================================================================| 100%\n"
     ]
    },
    {
     "name": "stderr",
     "output_type": "stream",
     "text": [
      "Warning message in dcd.header(trj, verbose):\n",
      "“Check DCD header data is correct, particulary natom”\n"
     ]
    },
    {
     "name": "stdout",
     "output_type": "stream",
     "text": [
      " NATOM = 6598 \n",
      " NFRAME= 1002 \n",
      " ISTART= 0 \n",
      " last  = 1002 \n",
      " nstep = 1002 \n",
      " nfile = 1002 \n",
      " NSAVE = 1 \n",
      " NDEGF = 0 \n",
      " version 24 \n",
      "  |======================================================================| 100%\n"
     ]
    },
    {
     "name": "stderr",
     "output_type": "stream",
     "text": [
      "Warning message in dcd.header(trj, verbose):\n",
      "“Check DCD header data is correct, particulary natom”\n"
     ]
    },
    {
     "name": "stdout",
     "output_type": "stream",
     "text": [
      " NATOM = 6598 \n",
      " NFRAME= 1002 \n",
      " ISTART= 0 \n",
      " last  = 1002 \n",
      " nstep = 1002 \n",
      " nfile = 1002 \n",
      " NSAVE = 1 \n",
      " NDEGF = 0 \n",
      " version 24 \n",
      "  |======================================================================| 100%\n"
     ]
    },
    {
     "name": "stderr",
     "output_type": "stream",
     "text": [
      "Warning message in dcd.header(trj, verbose):\n",
      "“Check DCD header data is correct, particulary natom”\n"
     ]
    },
    {
     "name": "stdout",
     "output_type": "stream",
     "text": [
      " NATOM = 6598 \n",
      " NFRAME= 1002 \n",
      " ISTART= 0 \n",
      " last  = 1002 \n",
      " nstep = 1002 \n",
      " nfile = 1002 \n",
      " NSAVE = 1 \n",
      " NDEGF = 0 \n",
      " version 24 \n",
      "  |======================================================================| 100%\n"
     ]
    },
    {
     "name": "stderr",
     "output_type": "stream",
     "text": [
      "Warning message in dcd.header(trj, verbose):\n",
      "“Check DCD header data is correct, particulary natom”\n"
     ]
    },
    {
     "name": "stdout",
     "output_type": "stream",
     "text": [
      " NATOM = 6598 \n",
      " NFRAME= 1002 \n",
      " ISTART= 0 \n",
      " last  = 1002 \n",
      " nstep = 1002 \n",
      " nfile = 1002 \n",
      " NSAVE = 1 \n",
      " NDEGF = 0 \n",
      " version 24 \n",
      "  |======================================================================| 100%\n"
     ]
    },
    {
     "name": "stderr",
     "output_type": "stream",
     "text": [
      "Warning message in dcd.header(trj, verbose):\n",
      "“Check DCD header data is correct, particulary natom”\n"
     ]
    },
    {
     "name": "stdout",
     "output_type": "stream",
     "text": [
      " NATOM = 6598 \n",
      " NFRAME= 1002 \n",
      " ISTART= 0 \n",
      " last  = 1002 \n",
      " nstep = 1002 \n",
      " nfile = 1002 \n",
      " NSAVE = 1 \n",
      " NDEGF = 0 \n",
      " version 24 \n",
      "  |======================================================================| 100%\n"
     ]
    },
    {
     "name": "stderr",
     "output_type": "stream",
     "text": [
      "Warning message in dcd.header(trj, verbose):\n",
      "“Check DCD header data is correct, particulary natom”\n"
     ]
    },
    {
     "name": "stdout",
     "output_type": "stream",
     "text": [
      " NATOM = 6598 \n",
      " NFRAME= 1002 \n",
      " ISTART= 0 \n",
      " last  = 1002 \n",
      " nstep = 1002 \n",
      " nfile = 1002 \n",
      " NSAVE = 1 \n",
      " NDEGF = 0 \n",
      " version 24 \n",
      "  |======================================================================| 100%\n"
     ]
    },
    {
     "name": "stderr",
     "output_type": "stream",
     "text": [
      "Warning message in dcd.header(trj, verbose):\n",
      "“Check DCD header data is correct, particulary natom”\n"
     ]
    },
    {
     "name": "stdout",
     "output_type": "stream",
     "text": [
      " NATOM = 6598 \n",
      " NFRAME= 1002 \n",
      " ISTART= 0 \n",
      " last  = 1002 \n",
      " nstep = 1002 \n",
      " nfile = 1002 \n",
      " NSAVE = 1 \n",
      " NDEGF = 0 \n",
      " version 24 \n",
      "  |======================================================================| 100%\n"
     ]
    },
    {
     "name": "stderr",
     "output_type": "stream",
     "text": [
      "Warning message in dcd.header(trj, verbose):\n",
      "“Check DCD header data is correct, particulary natom”\n"
     ]
    },
    {
     "name": "stdout",
     "output_type": "stream",
     "text": [
      " NATOM = 6598 \n",
      " NFRAME= 1002 \n",
      " ISTART= 0 \n",
      " last  = 1002 \n",
      " nstep = 1002 \n",
      " nfile = 1002 \n",
      " NSAVE = 1 \n",
      " NDEGF = 0 \n",
      " version 24 \n",
      "  |======================================================================| 100%\n"
     ]
    },
    {
     "name": "stderr",
     "output_type": "stream",
     "text": [
      "Warning message in dcd.header(trj, verbose):\n",
      "“Check DCD header data is correct, particulary natom”\n"
     ]
    },
    {
     "name": "stdout",
     "output_type": "stream",
     "text": [
      " NATOM = 6598 \n",
      " NFRAME= 1002 \n",
      " ISTART= 0 \n",
      " last  = 1002 \n",
      " nstep = 1002 \n",
      " nfile = 1002 \n",
      " NSAVE = 1 \n",
      " NDEGF = 0 \n",
      " version 24 \n",
      "  |======================================================================| 100%\n"
     ]
    },
    {
     "name": "stderr",
     "output_type": "stream",
     "text": [
      "Warning message in dcd.header(trj, verbose):\n",
      "“Check DCD header data is correct, particulary natom”\n"
     ]
    },
    {
     "name": "stdout",
     "output_type": "stream",
     "text": [
      " NATOM = 6598 \n",
      " NFRAME= 1002 \n",
      " ISTART= 0 \n",
      " last  = 1002 \n",
      " nstep = 1002 \n",
      " nfile = 1002 \n",
      " NSAVE = 1 \n",
      " NDEGF = 0 \n",
      " version 24 \n",
      "  |======================================================================| 100%\n"
     ]
    },
    {
     "name": "stderr",
     "output_type": "stream",
     "text": [
      "Warning message in dcd.header(trj, verbose):\n",
      "“Check DCD header data is correct, particulary natom”\n"
     ]
    },
    {
     "name": "stdout",
     "output_type": "stream",
     "text": [
      " NATOM = 6598 \n",
      " NFRAME= 1002 \n",
      " ISTART= 0 \n",
      " last  = 1002 \n",
      " nstep = 1002 \n",
      " nfile = 1002 \n",
      " NSAVE = 1 \n",
      " NDEGF = 0 \n",
      " version 24 \n",
      "  |======================================================================| 100%\n"
     ]
    },
    {
     "name": "stderr",
     "output_type": "stream",
     "text": [
      "Warning message in dcd.header(trj, verbose):\n",
      "“Check DCD header data is correct, particulary natom”\n"
     ]
    },
    {
     "name": "stdout",
     "output_type": "stream",
     "text": [
      " NATOM = 6598 \n",
      " NFRAME= 1002 \n",
      " ISTART= 0 \n",
      " last  = 1002 \n",
      " nstep = 1002 \n",
      " nfile = 1002 \n",
      " NSAVE = 1 \n",
      " NDEGF = 0 \n",
      " version 24 \n",
      "  |======================================================================| 100%\n"
     ]
    },
    {
     "name": "stderr",
     "output_type": "stream",
     "text": [
      "Warning message in dcd.header(trj, verbose):\n",
      "“Check DCD header data is correct, particulary natom”\n"
     ]
    },
    {
     "name": "stdout",
     "output_type": "stream",
     "text": [
      " NATOM = 6598 \n",
      " NFRAME= 1002 \n",
      " ISTART= 0 \n",
      " last  = 1002 \n",
      " nstep = 1002 \n",
      " nfile = 1002 \n",
      " NSAVE = 1 \n",
      " NDEGF = 0 \n",
      " version 24 \n",
      "  |======================================================================| 100%\n"
     ]
    },
    {
     "name": "stderr",
     "output_type": "stream",
     "text": [
      "Warning message in dcd.header(trj, verbose):\n",
      "“Check DCD header data is correct, particulary natom”\n"
     ]
    },
    {
     "name": "stdout",
     "output_type": "stream",
     "text": [
      " NATOM = 6598 \n",
      " NFRAME= 1002 \n",
      " ISTART= 0 \n",
      " last  = 1002 \n",
      " nstep = 1002 \n",
      " nfile = 1002 \n",
      " NSAVE = 1 \n",
      " NDEGF = 0 \n",
      " version 24 \n",
      "  |======================================================================| 100%\n"
     ]
    },
    {
     "name": "stderr",
     "output_type": "stream",
     "text": [
      "Warning message in dcd.header(trj, verbose):\n",
      "“Check DCD header data is correct, particulary natom”\n"
     ]
    },
    {
     "name": "stdout",
     "output_type": "stream",
     "text": [
      " NATOM = 6598 \n",
      " NFRAME= 1002 \n",
      " ISTART= 0 \n",
      " last  = 1002 \n",
      " nstep = 1002 \n",
      " nfile = 1002 \n",
      " NSAVE = 1 \n",
      " NDEGF = 0 \n",
      " version 24 \n",
      "  |======================================================================| 100%\n"
     ]
    },
    {
     "name": "stderr",
     "output_type": "stream",
     "text": [
      "Warning message in dcd.header(trj, verbose):\n",
      "“Check DCD header data is correct, particulary natom”\n"
     ]
    },
    {
     "name": "stdout",
     "output_type": "stream",
     "text": [
      " NATOM = 6598 \n",
      " NFRAME= 1002 \n",
      " ISTART= 0 \n",
      " last  = 1002 \n",
      " nstep = 1002 \n",
      " nfile = 1002 \n",
      " NSAVE = 1 \n",
      " NDEGF = 0 \n",
      " version 24 \n",
      "  |======================================================================| 100%\n"
     ]
    },
    {
     "name": "stderr",
     "output_type": "stream",
     "text": [
      "Warning message in dcd.header(trj, verbose):\n",
      "“Check DCD header data is correct, particulary natom”\n"
     ]
    },
    {
     "name": "stdout",
     "output_type": "stream",
     "text": [
      " NATOM = 6598 \n",
      " NFRAME= 1002 \n",
      " ISTART= 0 \n",
      " last  = 1002 \n",
      " nstep = 1002 \n",
      " nfile = 1002 \n",
      " NSAVE = 1 \n",
      " NDEGF = 0 \n",
      " version 24 \n",
      "  |======================================================================| 100%\n"
     ]
    },
    {
     "name": "stderr",
     "output_type": "stream",
     "text": [
      "Warning message in dcd.header(trj, verbose):\n",
      "“Check DCD header data is correct, particulary natom”\n"
     ]
    },
    {
     "name": "stdout",
     "output_type": "stream",
     "text": [
      " NATOM = 6598 \n",
      " NFRAME= 1002 \n",
      " ISTART= 0 \n",
      " last  = 1002 \n",
      " nstep = 1002 \n",
      " nfile = 1002 \n",
      " NSAVE = 1 \n",
      " NDEGF = 0 \n",
      " version 24 \n",
      "  |======================================================================| 100%\n"
     ]
    },
    {
     "name": "stderr",
     "output_type": "stream",
     "text": [
      "Warning message in dcd.header(trj, verbose):\n",
      "“Check DCD header data is correct, particulary natom”\n"
     ]
    },
    {
     "name": "stdout",
     "output_type": "stream",
     "text": [
      " NATOM = 6598 \n",
      " NFRAME= 1002 \n",
      " ISTART= 0 \n",
      " last  = 1002 \n",
      " nstep = 1002 \n",
      " nfile = 1002 \n",
      " NSAVE = 1 \n",
      " NDEGF = 0 \n",
      " version 24 \n",
      "  |======================================================================| 100%\n"
     ]
    },
    {
     "name": "stderr",
     "output_type": "stream",
     "text": [
      "Warning message in dcd.header(trj, verbose):\n",
      "“Check DCD header data is correct, particulary natom”\n"
     ]
    },
    {
     "name": "stdout",
     "output_type": "stream",
     "text": [
      " NATOM = 6598 \n",
      " NFRAME= 1002 \n",
      " ISTART= 0 \n",
      " last  = 1002 \n",
      " nstep = 1002 \n",
      " nfile = 1002 \n",
      " NSAVE = 1 \n",
      " NDEGF = 0 \n",
      " version 24 \n",
      "  |======================================================================| 100%\n"
     ]
    },
    {
     "name": "stderr",
     "output_type": "stream",
     "text": [
      "Warning message in dcd.header(trj, verbose):\n",
      "“Check DCD header data is correct, particulary natom”\n"
     ]
    },
    {
     "name": "stdout",
     "output_type": "stream",
     "text": [
      " NATOM = 6598 \n",
      " NFRAME= 1002 \n",
      " ISTART= 0 \n",
      " last  = 1002 \n",
      " nstep = 1002 \n",
      " nfile = 1002 \n",
      " NSAVE = 1 \n",
      " NDEGF = 0 \n",
      " version 24 \n",
      "  |======================================================================| 100%\n"
     ]
    },
    {
     "name": "stderr",
     "output_type": "stream",
     "text": [
      "Warning message in dcd.header(trj, verbose):\n",
      "“Check DCD header data is correct, particulary natom”\n"
     ]
    },
    {
     "name": "stdout",
     "output_type": "stream",
     "text": [
      " NATOM = 6598 \n",
      " NFRAME= 1002 \n",
      " ISTART= 0 \n",
      " last  = 1002 \n",
      " nstep = 1002 \n",
      " nfile = 1002 \n",
      " NSAVE = 1 \n",
      " NDEGF = 0 \n",
      " version 24 \n",
      "  |======================================================================| 100%\n"
     ]
    },
    {
     "name": "stderr",
     "output_type": "stream",
     "text": [
      "Warning message in dcd.header(trj, verbose):\n",
      "“Check DCD header data is correct, particulary natom”\n"
     ]
    },
    {
     "name": "stdout",
     "output_type": "stream",
     "text": [
      " NATOM = 6598 \n",
      " NFRAME= 1002 \n",
      " ISTART= 0 \n",
      " last  = 1002 \n",
      " nstep = 1002 \n",
      " nfile = 1002 \n",
      " NSAVE = 1 \n",
      " NDEGF = 0 \n",
      " version 24 \n",
      "  |======================================================================| 100%\n"
     ]
    },
    {
     "name": "stderr",
     "output_type": "stream",
     "text": [
      "Warning message in dcd.header(trj, verbose):\n",
      "“Check DCD header data is correct, particulary natom”\n"
     ]
    },
    {
     "name": "stdout",
     "output_type": "stream",
     "text": [
      " NATOM = 6598 \n",
      " NFRAME= 1002 \n",
      " ISTART= 0 \n",
      " last  = 1002 \n",
      " nstep = 1002 \n",
      " nfile = 1002 \n",
      " NSAVE = 1 \n",
      " NDEGF = 0 \n",
      " version 24 \n",
      "  |======================================================================| 100%\n"
     ]
    },
    {
     "name": "stderr",
     "output_type": "stream",
     "text": [
      "Warning message in dcd.header(trj, verbose):\n",
      "“Check DCD header data is correct, particulary natom”\n"
     ]
    },
    {
     "name": "stdout",
     "output_type": "stream",
     "text": [
      " NATOM = 6598 \n",
      " NFRAME= 1002 \n",
      " ISTART= 0 \n",
      " last  = 1002 \n",
      " nstep = 1002 \n",
      " nfile = 1002 \n",
      " NSAVE = 1 \n",
      " NDEGF = 0 \n",
      " version 24 \n",
      "  |======================================================================| 100%\n"
     ]
    },
    {
     "name": "stderr",
     "output_type": "stream",
     "text": [
      "Warning message in dcd.header(trj, verbose):\n",
      "“Check DCD header data is correct, particulary natom”\n"
     ]
    },
    {
     "name": "stdout",
     "output_type": "stream",
     "text": [
      " NATOM = 6598 \n",
      " NFRAME= 1002 \n",
      " ISTART= 0 \n",
      " last  = 1002 \n",
      " nstep = 1002 \n",
      " nfile = 1002 \n",
      " NSAVE = 1 \n",
      " NDEGF = 0 \n",
      " version 24 \n",
      "  |======================================================================| 100%\n"
     ]
    },
    {
     "name": "stderr",
     "output_type": "stream",
     "text": [
      "Warning message in dcd.header(trj, verbose):\n",
      "“Check DCD header data is correct, particulary natom”\n"
     ]
    },
    {
     "name": "stdout",
     "output_type": "stream",
     "text": [
      " NATOM = 6598 \n",
      " NFRAME= 1002 \n",
      " ISTART= 0 \n",
      " last  = 1002 \n",
      " nstep = 1002 \n",
      " nfile = 1002 \n",
      " NSAVE = 1 \n",
      " NDEGF = 0 \n",
      " version 24 \n",
      "  |======================================================================| 100%\n"
     ]
    },
    {
     "name": "stderr",
     "output_type": "stream",
     "text": [
      "Warning message in dcd.header(trj, verbose):\n",
      "“Check DCD header data is correct, particulary natom”\n"
     ]
    },
    {
     "name": "stdout",
     "output_type": "stream",
     "text": [
      " NATOM = 6598 \n",
      " NFRAME= 1002 \n",
      " ISTART= 0 \n",
      " last  = 1002 \n",
      " nstep = 1002 \n",
      " nfile = 1002 \n",
      " NSAVE = 1 \n",
      " NDEGF = 0 \n",
      " version 24 \n",
      "  |======================================================================| 100%\n"
     ]
    },
    {
     "name": "stderr",
     "output_type": "stream",
     "text": [
      "Warning message in dcd.header(trj, verbose):\n",
      "“Check DCD header data is correct, particulary natom”\n"
     ]
    },
    {
     "name": "stdout",
     "output_type": "stream",
     "text": [
      " NATOM = 6598 \n",
      " NFRAME= 1002 \n",
      " ISTART= 0 \n",
      " last  = 1002 \n",
      " nstep = 1002 \n",
      " nfile = 1002 \n",
      " NSAVE = 1 \n",
      " NDEGF = 0 \n",
      " version 24 \n",
      "  |======================================================================| 100%\n"
     ]
    },
    {
     "name": "stderr",
     "output_type": "stream",
     "text": [
      "Warning message in dcd.header(trj, verbose):\n",
      "“Check DCD header data is correct, particulary natom”\n"
     ]
    },
    {
     "name": "stdout",
     "output_type": "stream",
     "text": [
      " NATOM = 6598 \n",
      " NFRAME= 1002 \n",
      " ISTART= 0 \n",
      " last  = 1002 \n",
      " nstep = 1002 \n",
      " nfile = 1002 \n",
      " NSAVE = 1 \n",
      " NDEGF = 0 \n",
      " version 24 \n",
      "  |======================================================================| 100%\n"
     ]
    },
    {
     "name": "stderr",
     "output_type": "stream",
     "text": [
      "Warning message in dcd.header(trj, verbose):\n",
      "“Check DCD header data is correct, particulary natom”\n"
     ]
    },
    {
     "name": "stdout",
     "output_type": "stream",
     "text": [
      " NATOM = 6598 \n",
      " NFRAME= 1002 \n",
      " ISTART= 0 \n",
      " last  = 1002 \n",
      " nstep = 1002 \n",
      " nfile = 1002 \n",
      " NSAVE = 1 \n",
      " NDEGF = 0 \n",
      " version 24 \n",
      "  |======================================================================| 100%\n"
     ]
    },
    {
     "name": "stderr",
     "output_type": "stream",
     "text": [
      "Warning message in dcd.header(trj, verbose):\n",
      "“Check DCD header data is correct, particulary natom”\n"
     ]
    },
    {
     "name": "stdout",
     "output_type": "stream",
     "text": [
      " NATOM = 6598 \n",
      " NFRAME= 1002 \n",
      " ISTART= 0 \n",
      " last  = 1002 \n",
      " nstep = 1002 \n",
      " nfile = 1002 \n",
      " NSAVE = 1 \n",
      " NDEGF = 0 \n",
      " version 24 \n",
      "  |======================================================================| 100%\n"
     ]
    },
    {
     "name": "stderr",
     "output_type": "stream",
     "text": [
      "Warning message in dcd.header(trj, verbose):\n",
      "“Check DCD header data is correct, particulary natom”\n"
     ]
    },
    {
     "name": "stdout",
     "output_type": "stream",
     "text": [
      " NATOM = 6598 \n",
      " NFRAME= 1002 \n",
      " ISTART= 0 \n",
      " last  = 1002 \n",
      " nstep = 1002 \n",
      " nfile = 1002 \n",
      " NSAVE = 1 \n",
      " NDEGF = 0 \n",
      " version 24 \n",
      "  |======================================================================| 100%\n"
     ]
    },
    {
     "name": "stderr",
     "output_type": "stream",
     "text": [
      "Warning message in dcd.header(trj, verbose):\n",
      "“Check DCD header data is correct, particulary natom”\n"
     ]
    },
    {
     "name": "stdout",
     "output_type": "stream",
     "text": [
      " NATOM = 6598 \n",
      " NFRAME= 1002 \n",
      " ISTART= 0 \n",
      " last  = 1002 \n",
      " nstep = 1002 \n",
      " nfile = 1002 \n",
      " NSAVE = 1 \n",
      " NDEGF = 0 \n",
      " version 24 \n",
      "  |======================================================================| 100%\n"
     ]
    },
    {
     "name": "stderr",
     "output_type": "stream",
     "text": [
      "Warning message in dcd.header(trj, verbose):\n",
      "“Check DCD header data is correct, particulary natom”\n"
     ]
    },
    {
     "name": "stdout",
     "output_type": "stream",
     "text": [
      " NATOM = 6598 \n",
      " NFRAME= 1002 \n",
      " ISTART= 0 \n",
      " last  = 1002 \n",
      " nstep = 1002 \n",
      " nfile = 1002 \n",
      " NSAVE = 1 \n",
      " NDEGF = 0 \n",
      " version 24 \n",
      "  |======================================================================| 100%\n"
     ]
    },
    {
     "name": "stderr",
     "output_type": "stream",
     "text": [
      "Warning message in dcd.header(trj, verbose):\n",
      "“Check DCD header data is correct, particulary natom”\n"
     ]
    },
    {
     "name": "stdout",
     "output_type": "stream",
     "text": [
      " NATOM = 6598 \n",
      " NFRAME= 1002 \n",
      " ISTART= 0 \n",
      " last  = 1002 \n",
      " nstep = 1002 \n",
      " nfile = 1002 \n",
      " NSAVE = 1 \n",
      " NDEGF = 0 \n",
      " version 24 \n",
      "  |======================================================================| 100%\n"
     ]
    },
    {
     "name": "stderr",
     "output_type": "stream",
     "text": [
      "Warning message in dcd.header(trj, verbose):\n",
      "“Check DCD header data is correct, particulary natom”\n"
     ]
    },
    {
     "name": "stdout",
     "output_type": "stream",
     "text": [
      " NATOM = 6598 \n",
      " NFRAME= 1002 \n",
      " ISTART= 0 \n",
      " last  = 1002 \n",
      " nstep = 1002 \n",
      " nfile = 1002 \n",
      " NSAVE = 1 \n",
      " NDEGF = 0 \n",
      " version 24 \n",
      "  |======================================================================| 100%\n"
     ]
    },
    {
     "name": "stderr",
     "output_type": "stream",
     "text": [
      "Warning message in dcd.header(trj, verbose):\n",
      "“Check DCD header data is correct, particulary natom”\n"
     ]
    },
    {
     "name": "stdout",
     "output_type": "stream",
     "text": [
      " NATOM = 6598 \n",
      " NFRAME= 1002 \n",
      " ISTART= 0 \n",
      " last  = 1002 \n",
      " nstep = 1002 \n",
      " nfile = 1002 \n",
      " NSAVE = 1 \n",
      " NDEGF = 0 \n",
      " version 24 \n",
      "  |======================================================================| 100%\n"
     ]
    },
    {
     "name": "stderr",
     "output_type": "stream",
     "text": [
      "Warning message in dcd.header(trj, verbose):\n",
      "“Check DCD header data is correct, particulary natom”\n"
     ]
    },
    {
     "name": "stdout",
     "output_type": "stream",
     "text": [
      " NATOM = 6598 \n",
      " NFRAME= 1002 \n",
      " ISTART= 0 \n",
      " last  = 1002 \n",
      " nstep = 1002 \n",
      " nfile = 1002 \n",
      " NSAVE = 1 \n",
      " NDEGF = 0 \n",
      " version 24 \n",
      "  |======================================================================| 100%\n"
     ]
    },
    {
     "name": "stderr",
     "output_type": "stream",
     "text": [
      "Warning message in dcd.header(trj, verbose):\n",
      "“Check DCD header data is correct, particulary natom”\n"
     ]
    },
    {
     "name": "stdout",
     "output_type": "stream",
     "text": [
      " NATOM = 6598 \n",
      " NFRAME= 1002 \n",
      " ISTART= 0 \n",
      " last  = 1002 \n",
      " nstep = 1002 \n",
      " nfile = 1002 \n",
      " NSAVE = 1 \n",
      " NDEGF = 0 \n",
      " version 24 \n",
      "  |======================================================================| 100%\n"
     ]
    },
    {
     "name": "stderr",
     "output_type": "stream",
     "text": [
      "Warning message in dcd.header(trj, verbose):\n",
      "“Check DCD header data is correct, particulary natom”\n"
     ]
    },
    {
     "name": "stdout",
     "output_type": "stream",
     "text": [
      " NATOM = 6598 \n",
      " NFRAME= 1002 \n",
      " ISTART= 0 \n",
      " last  = 1002 \n",
      " nstep = 1002 \n",
      " nfile = 1002 \n",
      " NSAVE = 1 \n",
      " NDEGF = 0 \n",
      " version 24 \n",
      "  |======================================================================| 100%\n"
     ]
    },
    {
     "name": "stderr",
     "output_type": "stream",
     "text": [
      "Warning message in dcd.header(trj, verbose):\n",
      "“Check DCD header data is correct, particulary natom”\n"
     ]
    },
    {
     "name": "stdout",
     "output_type": "stream",
     "text": [
      " NATOM = 6598 \n",
      " NFRAME= 1002 \n",
      " ISTART= 0 \n",
      " last  = 1002 \n",
      " nstep = 1002 \n",
      " nfile = 1002 \n",
      " NSAVE = 1 \n",
      " NDEGF = 0 \n",
      " version 24 \n",
      "  |======================================================================| 100%\n"
     ]
    },
    {
     "name": "stderr",
     "output_type": "stream",
     "text": [
      "Warning message in dcd.header(trj, verbose):\n",
      "“Check DCD header data is correct, particulary natom”\n"
     ]
    },
    {
     "name": "stdout",
     "output_type": "stream",
     "text": [
      " NATOM = 6598 \n",
      " NFRAME= 1002 \n",
      " ISTART= 0 \n",
      " last  = 1002 \n",
      " nstep = 1002 \n",
      " nfile = 1002 \n",
      " NSAVE = 1 \n",
      " NDEGF = 0 \n",
      " version 24 \n",
      "  |======================================================================| 100%\n"
     ]
    },
    {
     "name": "stderr",
     "output_type": "stream",
     "text": [
      "Warning message in dcd.header(trj, verbose):\n",
      "“Check DCD header data is correct, particulary natom”\n"
     ]
    },
    {
     "name": "stdout",
     "output_type": "stream",
     "text": [
      " NATOM = 6598 \n",
      " NFRAME= 1002 \n",
      " ISTART= 0 \n",
      " last  = 1002 \n",
      " nstep = 1002 \n",
      " nfile = 1002 \n",
      " NSAVE = 1 \n",
      " NDEGF = 0 \n",
      " version 24 \n",
      "  |======================================================================| 100%\n"
     ]
    },
    {
     "name": "stderr",
     "output_type": "stream",
     "text": [
      "Warning message in dcd.header(trj, verbose):\n",
      "“Check DCD header data is correct, particulary natom”\n"
     ]
    },
    {
     "name": "stdout",
     "output_type": "stream",
     "text": [
      " NATOM = 6598 \n",
      " NFRAME= 1002 \n",
      " ISTART= 0 \n",
      " last  = 1002 \n",
      " nstep = 1002 \n",
      " nfile = 1002 \n",
      " NSAVE = 1 \n",
      " NDEGF = 0 \n",
      " version 24 \n",
      "  |======================================================================| 100%\n"
     ]
    },
    {
     "name": "stderr",
     "output_type": "stream",
     "text": [
      "Warning message in dcd.header(trj, verbose):\n",
      "“Check DCD header data is correct, particulary natom”\n"
     ]
    },
    {
     "name": "stdout",
     "output_type": "stream",
     "text": [
      " NATOM = 6598 \n",
      " NFRAME= 1002 \n",
      " ISTART= 0 \n",
      " last  = 1002 \n",
      " nstep = 1002 \n",
      " nfile = 1002 \n",
      " NSAVE = 1 \n",
      " NDEGF = 0 \n",
      " version 24 \n",
      "  |======================================================================| 100%\n"
     ]
    },
    {
     "name": "stderr",
     "output_type": "stream",
     "text": [
      "Warning message in dcd.header(trj, verbose):\n",
      "“Check DCD header data is correct, particulary natom”\n"
     ]
    },
    {
     "name": "stdout",
     "output_type": "stream",
     "text": [
      " NATOM = 6598 \n",
      " NFRAME= 1002 \n",
      " ISTART= 0 \n",
      " last  = 1002 \n",
      " nstep = 1002 \n",
      " nfile = 1002 \n",
      " NSAVE = 1 \n",
      " NDEGF = 0 \n",
      " version 24 \n",
      "  |======================================================================| 100%\n"
     ]
    },
    {
     "name": "stderr",
     "output_type": "stream",
     "text": [
      "Warning message in dcd.header(trj, verbose):\n",
      "“Check DCD header data is correct, particulary natom”\n"
     ]
    },
    {
     "name": "stdout",
     "output_type": "stream",
     "text": [
      " NATOM = 6598 \n",
      " NFRAME= 1002 \n",
      " ISTART= 0 \n",
      " last  = 1002 \n",
      " nstep = 1002 \n",
      " nfile = 1002 \n",
      " NSAVE = 1 \n",
      " NDEGF = 0 \n",
      " version 24 \n",
      "  |======================================================================| 100%\n"
     ]
    },
    {
     "name": "stderr",
     "output_type": "stream",
     "text": [
      "Warning message in dcd.header(trj, verbose):\n",
      "“Check DCD header data is correct, particulary natom”\n"
     ]
    },
    {
     "name": "stdout",
     "output_type": "stream",
     "text": [
      " NATOM = 6598 \n",
      " NFRAME= 1002 \n",
      " ISTART= 0 \n",
      " last  = 1002 \n",
      " nstep = 1002 \n",
      " nfile = 1002 \n",
      " NSAVE = 1 \n",
      " NDEGF = 0 \n",
      " version 24 \n",
      "  |======================================================================| 100%\n"
     ]
    },
    {
     "name": "stderr",
     "output_type": "stream",
     "text": [
      "Warning message in dcd.header(trj, verbose):\n",
      "“Check DCD header data is correct, particulary natom”\n"
     ]
    },
    {
     "name": "stdout",
     "output_type": "stream",
     "text": [
      " NATOM = 6598 \n",
      " NFRAME= 1002 \n",
      " ISTART= 0 \n",
      " last  = 1002 \n",
      " nstep = 1002 \n",
      " nfile = 1002 \n",
      " NSAVE = 1 \n",
      " NDEGF = 0 \n",
      " version 24 \n",
      "  |======================================================================| 100%\n"
     ]
    },
    {
     "name": "stderr",
     "output_type": "stream",
     "text": [
      "Warning message in dcd.header(trj, verbose):\n",
      "“Check DCD header data is correct, particulary natom”\n"
     ]
    },
    {
     "name": "stdout",
     "output_type": "stream",
     "text": [
      " NATOM = 6598 \n",
      " NFRAME= 1002 \n",
      " ISTART= 0 \n",
      " last  = 1002 \n",
      " nstep = 1002 \n",
      " nfile = 1002 \n",
      " NSAVE = 1 \n",
      " NDEGF = 0 \n",
      " version 24 \n",
      "  |======================================================================| 100%\n"
     ]
    },
    {
     "name": "stderr",
     "output_type": "stream",
     "text": [
      "Warning message in dcd.header(trj, verbose):\n",
      "“Check DCD header data is correct, particulary natom”\n"
     ]
    },
    {
     "name": "stdout",
     "output_type": "stream",
     "text": [
      " NATOM = 6598 \n",
      " NFRAME= 1002 \n",
      " ISTART= 0 \n",
      " last  = 1002 \n",
      " nstep = 1002 \n",
      " nfile = 1002 \n",
      " NSAVE = 1 \n",
      " NDEGF = 0 \n",
      " version 24 \n",
      "  |======================================================================| 100%\n"
     ]
    },
    {
     "name": "stderr",
     "output_type": "stream",
     "text": [
      "Warning message in dcd.header(trj, verbose):\n",
      "“Check DCD header data is correct, particulary natom”\n"
     ]
    },
    {
     "name": "stdout",
     "output_type": "stream",
     "text": [
      " NATOM = 6598 \n",
      " NFRAME= 1002 \n",
      " ISTART= 0 \n",
      " last  = 1002 \n",
      " nstep = 1002 \n",
      " nfile = 1002 \n",
      " NSAVE = 1 \n",
      " NDEGF = 0 \n",
      " version 24 \n",
      "  |======================================================================| 100%\n"
     ]
    },
    {
     "name": "stderr",
     "output_type": "stream",
     "text": [
      "Warning message in dcd.header(trj, verbose):\n",
      "“Check DCD header data is correct, particulary natom”\n"
     ]
    },
    {
     "name": "stdout",
     "output_type": "stream",
     "text": [
      " NATOM = 6598 \n",
      " NFRAME= 1002 \n",
      " ISTART= 0 \n",
      " last  = 1002 \n",
      " nstep = 1002 \n",
      " nfile = 1002 \n",
      " NSAVE = 1 \n",
      " NDEGF = 0 \n",
      " version 24 \n",
      "  |======================================================================| 100%\n"
     ]
    },
    {
     "name": "stderr",
     "output_type": "stream",
     "text": [
      "Warning message in dcd.header(trj, verbose):\n",
      "“Check DCD header data is correct, particulary natom”\n"
     ]
    },
    {
     "name": "stdout",
     "output_type": "stream",
     "text": [
      " NATOM = 6598 \n",
      " NFRAME= 1002 \n",
      " ISTART= 0 \n",
      " last  = 1002 \n",
      " nstep = 1002 \n",
      " nfile = 1002 \n",
      " NSAVE = 1 \n",
      " NDEGF = 0 \n",
      " version 24 \n",
      "  |======================================================================| 100%\n"
     ]
    },
    {
     "name": "stderr",
     "output_type": "stream",
     "text": [
      "Warning message in dcd.header(trj, verbose):\n",
      "“Check DCD header data is correct, particulary natom”\n"
     ]
    },
    {
     "name": "stdout",
     "output_type": "stream",
     "text": [
      " NATOM = 6598 \n",
      " NFRAME= 1002 \n",
      " ISTART= 0 \n",
      " last  = 1002 \n",
      " nstep = 1002 \n",
      " nfile = 1002 \n",
      " NSAVE = 1 \n",
      " NDEGF = 0 \n",
      " version 24 \n",
      "  |======================================================================| 100%\n"
     ]
    },
    {
     "name": "stderr",
     "output_type": "stream",
     "text": [
      "Warning message in dcd.header(trj, verbose):\n",
      "“Check DCD header data is correct, particulary natom”\n"
     ]
    },
    {
     "name": "stdout",
     "output_type": "stream",
     "text": [
      " NATOM = 6598 \n",
      " NFRAME= 1002 \n",
      " ISTART= 0 \n",
      " last  = 1002 \n",
      " nstep = 1002 \n",
      " nfile = 1002 \n",
      " NSAVE = 1 \n",
      " NDEGF = 0 \n",
      " version 24 \n",
      "  |======================================================================| 100%\n"
     ]
    },
    {
     "name": "stderr",
     "output_type": "stream",
     "text": [
      "Warning message in dcd.header(trj, verbose):\n",
      "“Check DCD header data is correct, particulary natom”\n"
     ]
    },
    {
     "name": "stdout",
     "output_type": "stream",
     "text": [
      " NATOM = 6598 \n",
      " NFRAME= 1002 \n",
      " ISTART= 0 \n",
      " last  = 1002 \n",
      " nstep = 1002 \n",
      " nfile = 1002 \n",
      " NSAVE = 1 \n",
      " NDEGF = 0 \n",
      " version 24 \n",
      "  |======================================================================| 100%\n"
     ]
    },
    {
     "name": "stderr",
     "output_type": "stream",
     "text": [
      "Warning message in dcd.header(trj, verbose):\n",
      "“Check DCD header data is correct, particulary natom”\n"
     ]
    },
    {
     "name": "stdout",
     "output_type": "stream",
     "text": [
      " NATOM = 6598 \n",
      " NFRAME= 1002 \n",
      " ISTART= 0 \n",
      " last  = 1002 \n",
      " nstep = 1002 \n",
      " nfile = 1002 \n",
      " NSAVE = 1 \n",
      " NDEGF = 0 \n",
      " version 24 \n",
      "  |======================================================================| 100%\n"
     ]
    },
    {
     "name": "stderr",
     "output_type": "stream",
     "text": [
      "Warning message in dcd.header(trj, verbose):\n",
      "“Check DCD header data is correct, particulary natom”\n"
     ]
    },
    {
     "name": "stdout",
     "output_type": "stream",
     "text": [
      " NATOM = 6598 \n",
      " NFRAME= 1002 \n",
      " ISTART= 0 \n",
      " last  = 1002 \n",
      " nstep = 1002 \n",
      " nfile = 1002 \n",
      " NSAVE = 1 \n",
      " NDEGF = 0 \n",
      " version 24 \n",
      "  |======================================================================| 100%\n"
     ]
    },
    {
     "name": "stderr",
     "output_type": "stream",
     "text": [
      "Warning message in dcd.header(trj, verbose):\n",
      "“Check DCD header data is correct, particulary natom”\n"
     ]
    },
    {
     "name": "stdout",
     "output_type": "stream",
     "text": [
      " NATOM = 6598 \n",
      " NFRAME= 1002 \n",
      " ISTART= 0 \n",
      " last  = 1002 \n",
      " nstep = 1002 \n",
      " nfile = 1002 \n",
      " NSAVE = 1 \n",
      " NDEGF = 0 \n",
      " version 24 \n",
      "  |======================================================================| 100%\n"
     ]
    },
    {
     "name": "stderr",
     "output_type": "stream",
     "text": [
      "Warning message in dcd.header(trj, verbose):\n",
      "“Check DCD header data is correct, particulary natom”\n"
     ]
    },
    {
     "name": "stdout",
     "output_type": "stream",
     "text": [
      " NATOM = 6598 \n",
      " NFRAME= 1002 \n",
      " ISTART= 0 \n",
      " last  = 1002 \n",
      " nstep = 1002 \n",
      " nfile = 1002 \n",
      " NSAVE = 1 \n",
      " NDEGF = 0 \n",
      " version 24 \n",
      "  |======================================================================| 100%\n"
     ]
    },
    {
     "name": "stderr",
     "output_type": "stream",
     "text": [
      "Warning message in dcd.header(trj, verbose):\n",
      "“Check DCD header data is correct, particulary natom”\n"
     ]
    },
    {
     "name": "stdout",
     "output_type": "stream",
     "text": [
      " NATOM = 6598 \n",
      " NFRAME= 1002 \n",
      " ISTART= 0 \n",
      " last  = 1002 \n",
      " nstep = 1002 \n",
      " nfile = 1002 \n",
      " NSAVE = 1 \n",
      " NDEGF = 0 \n",
      " version 24 \n",
      "  |======================================================================| 100%\n"
     ]
    },
    {
     "name": "stderr",
     "output_type": "stream",
     "text": [
      "Warning message in dcd.header(trj, verbose):\n",
      "“Check DCD header data is correct, particulary natom”\n"
     ]
    },
    {
     "name": "stdout",
     "output_type": "stream",
     "text": [
      " NATOM = 6598 \n",
      " NFRAME= 1002 \n",
      " ISTART= 0 \n",
      " last  = 1002 \n",
      " nstep = 1002 \n",
      " nfile = 1002 \n",
      " NSAVE = 1 \n",
      " NDEGF = 0 \n",
      " version 24 \n",
      "  |======================================================================| 100%\n"
     ]
    },
    {
     "name": "stderr",
     "output_type": "stream",
     "text": [
      "Warning message in dcd.header(trj, verbose):\n",
      "“Check DCD header data is correct, particulary natom”\n"
     ]
    },
    {
     "name": "stdout",
     "output_type": "stream",
     "text": [
      " NATOM = 6598 \n",
      " NFRAME= 1002 \n",
      " ISTART= 0 \n",
      " last  = 1002 \n",
      " nstep = 1002 \n",
      " nfile = 1002 \n",
      " NSAVE = 1 \n",
      " NDEGF = 0 \n",
      " version 24 \n",
      "  |======================================================================| 100%\n"
     ]
    },
    {
     "name": "stderr",
     "output_type": "stream",
     "text": [
      "Warning message in dcd.header(trj, verbose):\n",
      "“Check DCD header data is correct, particulary natom”\n"
     ]
    },
    {
     "name": "stdout",
     "output_type": "stream",
     "text": [
      " NATOM = 6598 \n",
      " NFRAME= 1002 \n",
      " ISTART= 0 \n",
      " last  = 1002 \n",
      " nstep = 1002 \n",
      " nfile = 1002 \n",
      " NSAVE = 1 \n",
      " NDEGF = 0 \n",
      " version 24 \n",
      "  |======================================================================| 100%\n"
     ]
    },
    {
     "name": "stderr",
     "output_type": "stream",
     "text": [
      "Warning message in dcd.header(trj, verbose):\n",
      "“Check DCD header data is correct, particulary natom”\n"
     ]
    },
    {
     "name": "stdout",
     "output_type": "stream",
     "text": [
      " NATOM = 6598 \n",
      " NFRAME= 1002 \n",
      " ISTART= 0 \n",
      " last  = 1002 \n",
      " nstep = 1002 \n",
      " nfile = 1002 \n",
      " NSAVE = 1 \n",
      " NDEGF = 0 \n",
      " version 24 \n",
      "  |======================================================================| 100%\n"
     ]
    },
    {
     "name": "stderr",
     "output_type": "stream",
     "text": [
      "Warning message in dcd.header(trj, verbose):\n",
      "“Check DCD header data is correct, particulary natom”\n"
     ]
    },
    {
     "name": "stdout",
     "output_type": "stream",
     "text": [
      " NATOM = 6598 \n",
      " NFRAME= 1002 \n",
      " ISTART= 0 \n",
      " last  = 1002 \n",
      " nstep = 1002 \n",
      " nfile = 1002 \n",
      " NSAVE = 1 \n",
      " NDEGF = 0 \n",
      " version 24 \n",
      "  |======================================================================| 100%\n"
     ]
    },
    {
     "name": "stderr",
     "output_type": "stream",
     "text": [
      "Warning message in dcd.header(trj, verbose):\n",
      "“Check DCD header data is correct, particulary natom”\n"
     ]
    },
    {
     "name": "stdout",
     "output_type": "stream",
     "text": [
      " NATOM = 6598 \n",
      " NFRAME= 1002 \n",
      " ISTART= 0 \n",
      " last  = 1002 \n",
      " nstep = 1002 \n",
      " nfile = 1002 \n",
      " NSAVE = 1 \n",
      " NDEGF = 0 \n",
      " version 24 \n",
      "  |======================================================================| 100%\n"
     ]
    },
    {
     "name": "stderr",
     "output_type": "stream",
     "text": [
      "Warning message in dcd.header(trj, verbose):\n",
      "“Check DCD header data is correct, particulary natom”\n"
     ]
    },
    {
     "name": "stdout",
     "output_type": "stream",
     "text": [
      " NATOM = 6598 \n",
      " NFRAME= 1002 \n",
      " ISTART= 0 \n",
      " last  = 1002 \n",
      " nstep = 1002 \n",
      " nfile = 1002 \n",
      " NSAVE = 1 \n",
      " NDEGF = 0 \n",
      " version 24 \n",
      "  |======================================================================| 100%\n"
     ]
    },
    {
     "name": "stderr",
     "output_type": "stream",
     "text": [
      "Warning message in dcd.header(trj, verbose):\n",
      "“Check DCD header data is correct, particulary natom”\n"
     ]
    },
    {
     "name": "stdout",
     "output_type": "stream",
     "text": [
      " NATOM = 6598 \n",
      " NFRAME= 1002 \n",
      " ISTART= 0 \n",
      " last  = 1002 \n",
      " nstep = 1002 \n",
      " nfile = 1002 \n",
      " NSAVE = 1 \n",
      " NDEGF = 0 \n",
      " version 24 \n",
      "  |======================================================================| 100%\n"
     ]
    },
    {
     "name": "stderr",
     "output_type": "stream",
     "text": [
      "Warning message in dcd.header(trj, verbose):\n",
      "“Check DCD header data is correct, particulary natom”\n"
     ]
    },
    {
     "name": "stdout",
     "output_type": "stream",
     "text": [
      " NATOM = 6598 \n",
      " NFRAME= 1002 \n",
      " ISTART= 0 \n",
      " last  = 1002 \n",
      " nstep = 1002 \n",
      " nfile = 1002 \n",
      " NSAVE = 1 \n",
      " NDEGF = 0 \n",
      " version 24 \n",
      "  |======================================================================| 100%\n"
     ]
    },
    {
     "name": "stderr",
     "output_type": "stream",
     "text": [
      "Warning message in dcd.header(trj, verbose):\n",
      "“Check DCD header data is correct, particulary natom”\n"
     ]
    },
    {
     "name": "stdout",
     "output_type": "stream",
     "text": [
      " NATOM = 6598 \n",
      " NFRAME= 1002 \n",
      " ISTART= 0 \n",
      " last  = 1002 \n",
      " nstep = 1002 \n",
      " nfile = 1002 \n",
      " NSAVE = 1 \n",
      " NDEGF = 0 \n",
      " version 24 \n",
      "  |======================================================================| 100%\n"
     ]
    },
    {
     "name": "stderr",
     "output_type": "stream",
     "text": [
      "Warning message in dcd.header(trj, verbose):\n",
      "“Check DCD header data is correct, particulary natom”\n"
     ]
    },
    {
     "name": "stdout",
     "output_type": "stream",
     "text": [
      " NATOM = 6598 \n",
      " NFRAME= 1002 \n",
      " ISTART= 0 \n",
      " last  = 1002 \n",
      " nstep = 1002 \n",
      " nfile = 1002 \n",
      " NSAVE = 1 \n",
      " NDEGF = 0 \n",
      " version 24 \n",
      "  |======================================================================| 100%\n"
     ]
    },
    {
     "name": "stderr",
     "output_type": "stream",
     "text": [
      "Warning message in dcd.header(trj, verbose):\n",
      "“Check DCD header data is correct, particulary natom”\n"
     ]
    },
    {
     "name": "stdout",
     "output_type": "stream",
     "text": [
      " NATOM = 6598 \n",
      " NFRAME= 1002 \n",
      " ISTART= 0 \n",
      " last  = 1002 \n",
      " nstep = 1002 \n",
      " nfile = 1002 \n",
      " NSAVE = 1 \n",
      " NDEGF = 0 \n",
      " version 24 \n",
      "  |======================================================================| 100%\n"
     ]
    },
    {
     "name": "stderr",
     "output_type": "stream",
     "text": [
      "Warning message in dcd.header(trj, verbose):\n",
      "“Check DCD header data is correct, particulary natom”\n"
     ]
    },
    {
     "name": "stdout",
     "output_type": "stream",
     "text": [
      " NATOM = 6598 \n",
      " NFRAME= 1002 \n",
      " ISTART= 0 \n",
      " last  = 1002 \n",
      " nstep = 1002 \n",
      " nfile = 1002 \n",
      " NSAVE = 1 \n",
      " NDEGF = 0 \n",
      " version 24 \n",
      "  |======================================================================| 100%\n"
     ]
    },
    {
     "name": "stderr",
     "output_type": "stream",
     "text": [
      "Warning message in dcd.header(trj, verbose):\n",
      "“Check DCD header data is correct, particulary natom”\n"
     ]
    },
    {
     "name": "stdout",
     "output_type": "stream",
     "text": [
      " NATOM = 6598 \n",
      " NFRAME= 1002 \n",
      " ISTART= 0 \n",
      " last  = 1002 \n",
      " nstep = 1002 \n",
      " nfile = 1002 \n",
      " NSAVE = 1 \n",
      " NDEGF = 0 \n",
      " version 24 \n",
      "  |======================================================================| 100%\n"
     ]
    },
    {
     "name": "stderr",
     "output_type": "stream",
     "text": [
      "Warning message in dcd.header(trj, verbose):\n",
      "“Check DCD header data is correct, particulary natom”\n"
     ]
    },
    {
     "name": "stdout",
     "output_type": "stream",
     "text": [
      " NATOM = 6598 \n",
      " NFRAME= 1002 \n",
      " ISTART= 0 \n",
      " last  = 1002 \n",
      " nstep = 1002 \n",
      " nfile = 1002 \n",
      " NSAVE = 1 \n",
      " NDEGF = 0 \n",
      " version 24 \n",
      "  |======================================================================| 100%\n"
     ]
    },
    {
     "name": "stderr",
     "output_type": "stream",
     "text": [
      "Warning message in dcd.header(trj, verbose):\n",
      "“Check DCD header data is correct, particulary natom”\n"
     ]
    },
    {
     "name": "stdout",
     "output_type": "stream",
     "text": [
      " NATOM = 6598 \n",
      " NFRAME= 1002 \n",
      " ISTART= 0 \n",
      " last  = 1002 \n",
      " nstep = 1002 \n",
      " nfile = 1002 \n",
      " NSAVE = 1 \n",
      " NDEGF = 0 \n",
      " version 24 \n",
      "  |======================================================================| 100%\n"
     ]
    },
    {
     "name": "stderr",
     "output_type": "stream",
     "text": [
      "Warning message in dcd.header(trj, verbose):\n",
      "“Check DCD header data is correct, particulary natom”\n"
     ]
    },
    {
     "name": "stdout",
     "output_type": "stream",
     "text": [
      " NATOM = 6598 \n",
      " NFRAME= 1002 \n",
      " ISTART= 0 \n",
      " last  = 1002 \n",
      " nstep = 1002 \n",
      " nfile = 1002 \n",
      " NSAVE = 1 \n",
      " NDEGF = 0 \n",
      " version 24 \n",
      "  |======================================================================| 100%\n"
     ]
    },
    {
     "name": "stderr",
     "output_type": "stream",
     "text": [
      "Warning message in dcd.header(trj, verbose):\n",
      "“Check DCD header data is correct, particulary natom”\n"
     ]
    },
    {
     "name": "stdout",
     "output_type": "stream",
     "text": [
      " NATOM = 6598 \n",
      " NFRAME= 1002 \n",
      " ISTART= 0 \n",
      " last  = 1002 \n",
      " nstep = 1002 \n",
      " nfile = 1002 \n",
      " NSAVE = 1 \n",
      " NDEGF = 0 \n",
      " version 24 \n",
      "  |======================================================================| 100%\n"
     ]
    },
    {
     "name": "stderr",
     "output_type": "stream",
     "text": [
      "Warning message in dcd.header(trj, verbose):\n",
      "“Check DCD header data is correct, particulary natom”\n"
     ]
    },
    {
     "name": "stdout",
     "output_type": "stream",
     "text": [
      " NATOM = 6598 \n",
      " NFRAME= 1002 \n",
      " ISTART= 0 \n",
      " last  = 1002 \n",
      " nstep = 1002 \n",
      " nfile = 1002 \n",
      " NSAVE = 1 \n",
      " NDEGF = 0 \n",
      " version 24 \n",
      "  |======================================================================| 100%\n"
     ]
    },
    {
     "name": "stderr",
     "output_type": "stream",
     "text": [
      "Warning message in dcd.header(trj, verbose):\n",
      "“Check DCD header data is correct, particulary natom”\n"
     ]
    },
    {
     "name": "stdout",
     "output_type": "stream",
     "text": [
      " NATOM = 6598 \n",
      " NFRAME= 1002 \n",
      " ISTART= 0 \n",
      " last  = 1002 \n",
      " nstep = 1002 \n",
      " nfile = 1002 \n",
      " NSAVE = 1 \n",
      " NDEGF = 0 \n",
      " version 24 \n",
      "  |======================================================================| 100%\n"
     ]
    },
    {
     "name": "stderr",
     "output_type": "stream",
     "text": [
      "Warning message in dcd.header(trj, verbose):\n",
      "“Check DCD header data is correct, particulary natom”\n"
     ]
    },
    {
     "name": "stdout",
     "output_type": "stream",
     "text": [
      " NATOM = 6598 \n",
      " NFRAME= 1002 \n",
      " ISTART= 0 \n",
      " last  = 1002 \n",
      " nstep = 1002 \n",
      " nfile = 1002 \n",
      " NSAVE = 1 \n",
      " NDEGF = 0 \n",
      " version 24 \n",
      "  |======================================================================| 100%\n"
     ]
    },
    {
     "name": "stderr",
     "output_type": "stream",
     "text": [
      "Warning message in dcd.header(trj, verbose):\n",
      "“Check DCD header data is correct, particulary natom”\n"
     ]
    },
    {
     "name": "stdout",
     "output_type": "stream",
     "text": [
      " NATOM = 6598 \n",
      " NFRAME= 1002 \n",
      " ISTART= 0 \n",
      " last  = 1002 \n",
      " nstep = 1002 \n",
      " nfile = 1002 \n",
      " NSAVE = 1 \n",
      " NDEGF = 0 \n",
      " version 24 \n",
      "  |======================================================================| 100%\n"
     ]
    },
    {
     "name": "stderr",
     "output_type": "stream",
     "text": [
      "Warning message in dcd.header(trj, verbose):\n",
      "“Check DCD header data is correct, particulary natom”\n"
     ]
    },
    {
     "name": "stdout",
     "output_type": "stream",
     "text": [
      " NATOM = 6598 \n",
      " NFRAME= 1002 \n",
      " ISTART= 0 \n",
      " last  = 1002 \n",
      " nstep = 1002 \n",
      " nfile = 1002 \n",
      " NSAVE = 1 \n",
      " NDEGF = 0 \n",
      " version 24 \n",
      "  |======================================================================| 100%\n"
     ]
    },
    {
     "name": "stderr",
     "output_type": "stream",
     "text": [
      "Warning message in dcd.header(trj, verbose):\n",
      "“Check DCD header data is correct, particulary natom”\n"
     ]
    },
    {
     "name": "stdout",
     "output_type": "stream",
     "text": [
      " NATOM = 6598 \n",
      " NFRAME= 1002 \n",
      " ISTART= 0 \n",
      " last  = 1002 \n",
      " nstep = 1002 \n",
      " nfile = 1002 \n",
      " NSAVE = 1 \n",
      " NDEGF = 0 \n",
      " version 24 \n",
      "  |======================================================================| 100%\n"
     ]
    },
    {
     "name": "stderr",
     "output_type": "stream",
     "text": [
      "Warning message in dcd.header(trj, verbose):\n",
      "“Check DCD header data is correct, particulary natom”\n"
     ]
    },
    {
     "name": "stdout",
     "output_type": "stream",
     "text": [
      " NATOM = 6598 \n",
      " NFRAME= 1002 \n",
      " ISTART= 0 \n",
      " last  = 1002 \n",
      " nstep = 1002 \n",
      " nfile = 1002 \n",
      " NSAVE = 1 \n",
      " NDEGF = 0 \n",
      " version 24 \n",
      "  |======================================================================| 100%\n"
     ]
    },
    {
     "name": "stderr",
     "output_type": "stream",
     "text": [
      "Warning message in dcd.header(trj, verbose):\n",
      "“Check DCD header data is correct, particulary natom”\n"
     ]
    },
    {
     "name": "stdout",
     "output_type": "stream",
     "text": [
      " NATOM = 6598 \n",
      " NFRAME= 1002 \n",
      " ISTART= 0 \n",
      " last  = 1002 \n",
      " nstep = 1002 \n",
      " nfile = 1002 \n",
      " NSAVE = 1 \n",
      " NDEGF = 0 \n",
      " version 24 \n",
      "  |======================================================================| 100%\n"
     ]
    },
    {
     "name": "stderr",
     "output_type": "stream",
     "text": [
      "Warning message in dcd.header(trj, verbose):\n",
      "“Check DCD header data is correct, particulary natom”\n"
     ]
    },
    {
     "name": "stdout",
     "output_type": "stream",
     "text": [
      " NATOM = 6598 \n",
      " NFRAME= 1002 \n",
      " ISTART= 0 \n",
      " last  = 1002 \n",
      " nstep = 1002 \n",
      " nfile = 1002 \n",
      " NSAVE = 1 \n",
      " NDEGF = 0 \n",
      " version 24 \n",
      "  |======================================================================| 100%\n"
     ]
    },
    {
     "name": "stderr",
     "output_type": "stream",
     "text": [
      "Warning message in dcd.header(trj, verbose):\n",
      "“Check DCD header data is correct, particulary natom”\n"
     ]
    },
    {
     "name": "stdout",
     "output_type": "stream",
     "text": [
      " NATOM = 6598 \n",
      " NFRAME= 1002 \n",
      " ISTART= 0 \n",
      " last  = 1002 \n",
      " nstep = 1002 \n",
      " nfile = 1002 \n",
      " NSAVE = 1 \n",
      " NDEGF = 0 \n",
      " version 24 \n",
      "  |======================================================================| 100%\n"
     ]
    },
    {
     "name": "stderr",
     "output_type": "stream",
     "text": [
      "Warning message in dcd.header(trj, verbose):\n",
      "“Check DCD header data is correct, particulary natom”\n"
     ]
    },
    {
     "name": "stdout",
     "output_type": "stream",
     "text": [
      " NATOM = 6598 \n",
      " NFRAME= 1002 \n",
      " ISTART= 0 \n",
      " last  = 1002 \n",
      " nstep = 1002 \n",
      " nfile = 1002 \n",
      " NSAVE = 1 \n",
      " NDEGF = 0 \n",
      " version 24 \n",
      "  |======================================================================| 100%\n"
     ]
    },
    {
     "name": "stderr",
     "output_type": "stream",
     "text": [
      "Warning message in dcd.header(trj, verbose):\n",
      "“Check DCD header data is correct, particulary natom”\n"
     ]
    },
    {
     "name": "stdout",
     "output_type": "stream",
     "text": [
      " NATOM = 6598 \n",
      " NFRAME= 1002 \n",
      " ISTART= 0 \n",
      " last  = 1002 \n",
      " nstep = 1002 \n",
      " nfile = 1002 \n",
      " NSAVE = 1 \n",
      " NDEGF = 0 \n",
      " version 24 \n",
      "  |======================================================================| 100%\n"
     ]
    },
    {
     "name": "stderr",
     "output_type": "stream",
     "text": [
      "Warning message in dcd.header(trj, verbose):\n",
      "“Check DCD header data is correct, particulary natom”\n"
     ]
    },
    {
     "name": "stdout",
     "output_type": "stream",
     "text": [
      " NATOM = 6598 \n",
      " NFRAME= 1002 \n",
      " ISTART= 0 \n",
      " last  = 1002 \n",
      " nstep = 1002 \n",
      " nfile = 1002 \n",
      " NSAVE = 1 \n",
      " NDEGF = 0 \n",
      " version 24 \n",
      "  |======================================================================| 100%\n"
     ]
    },
    {
     "name": "stderr",
     "output_type": "stream",
     "text": [
      "Warning message in dcd.header(trj, verbose):\n",
      "“Check DCD header data is correct, particulary natom”\n"
     ]
    },
    {
     "name": "stdout",
     "output_type": "stream",
     "text": [
      " NATOM = 6598 \n",
      " NFRAME= 1002 \n",
      " ISTART= 0 \n",
      " last  = 1002 \n",
      " nstep = 1002 \n",
      " nfile = 1002 \n",
      " NSAVE = 1 \n",
      " NDEGF = 0 \n",
      " version 24 \n",
      "  |======================================================================| 100%\n"
     ]
    },
    {
     "name": "stderr",
     "output_type": "stream",
     "text": [
      "Warning message in dcd.header(trj, verbose):\n",
      "“Check DCD header data is correct, particulary natom”\n"
     ]
    },
    {
     "name": "stdout",
     "output_type": "stream",
     "text": [
      " NATOM = 6598 \n",
      " NFRAME= 1002 \n",
      " ISTART= 0 \n",
      " last  = 1002 \n",
      " nstep = 1002 \n",
      " nfile = 1002 \n",
      " NSAVE = 1 \n",
      " NDEGF = 0 \n",
      " version 24 \n",
      "  |======================================================================| 100%\n"
     ]
    },
    {
     "name": "stderr",
     "output_type": "stream",
     "text": [
      "Warning message in dcd.header(trj, verbose):\n",
      "“Check DCD header data is correct, particulary natom”\n"
     ]
    },
    {
     "name": "stdout",
     "output_type": "stream",
     "text": [
      " NATOM = 6598 \n",
      " NFRAME= 1002 \n",
      " ISTART= 0 \n",
      " last  = 1002 \n",
      " nstep = 1002 \n",
      " nfile = 1002 \n",
      " NSAVE = 1 \n",
      " NDEGF = 0 \n",
      " version 24 \n",
      "  |======================================================================| 100%\n"
     ]
    },
    {
     "name": "stderr",
     "output_type": "stream",
     "text": [
      "Warning message in dcd.header(trj, verbose):\n",
      "“Check DCD header data is correct, particulary natom”\n"
     ]
    },
    {
     "name": "stdout",
     "output_type": "stream",
     "text": [
      " NATOM = 6598 \n",
      " NFRAME= 1002 \n",
      " ISTART= 0 \n",
      " last  = 1002 \n",
      " nstep = 1002 \n",
      " nfile = 1002 \n",
      " NSAVE = 1 \n",
      " NDEGF = 0 \n",
      " version 24 \n",
      "  |======================================================================| 100%\n"
     ]
    },
    {
     "name": "stderr",
     "output_type": "stream",
     "text": [
      "Warning message in dcd.header(trj, verbose):\n",
      "“Check DCD header data is correct, particulary natom”\n"
     ]
    },
    {
     "name": "stdout",
     "output_type": "stream",
     "text": [
      " NATOM = 6598 \n",
      " NFRAME= 1002 \n",
      " ISTART= 0 \n",
      " last  = 1002 \n",
      " nstep = 1002 \n",
      " nfile = 1002 \n",
      " NSAVE = 1 \n",
      " NDEGF = 0 \n",
      " version 24 \n",
      "  |======================================================================| 100%\n"
     ]
    },
    {
     "name": "stderr",
     "output_type": "stream",
     "text": [
      "Warning message in dcd.header(trj, verbose):\n",
      "“Check DCD header data is correct, particulary natom”\n"
     ]
    },
    {
     "name": "stdout",
     "output_type": "stream",
     "text": [
      " NATOM = 6598 \n",
      " NFRAME= 1002 \n",
      " ISTART= 0 \n",
      " last  = 1002 \n",
      " nstep = 1002 \n",
      " nfile = 1002 \n",
      " NSAVE = 1 \n",
      " NDEGF = 0 \n",
      " version 24 \n",
      "  |======================================================================| 100%\n"
     ]
    },
    {
     "name": "stderr",
     "output_type": "stream",
     "text": [
      "Warning message in dcd.header(trj, verbose):\n",
      "“Check DCD header data is correct, particulary natom”\n"
     ]
    },
    {
     "name": "stdout",
     "output_type": "stream",
     "text": [
      " NATOM = 6598 \n",
      " NFRAME= 1002 \n",
      " ISTART= 0 \n",
      " last  = 1002 \n",
      " nstep = 1002 \n",
      " nfile = 1002 \n",
      " NSAVE = 1 \n",
      " NDEGF = 0 \n",
      " version 24 \n",
      "  |======================================================================| 100%\n"
     ]
    },
    {
     "name": "stderr",
     "output_type": "stream",
     "text": [
      "Warning message in dcd.header(trj, verbose):\n",
      "“Check DCD header data is correct, particulary natom”\n"
     ]
    },
    {
     "name": "stdout",
     "output_type": "stream",
     "text": [
      " NATOM = 6598 \n",
      " NFRAME= 1002 \n",
      " ISTART= 0 \n",
      " last  = 1002 \n",
      " nstep = 1002 \n",
      " nfile = 1002 \n",
      " NSAVE = 1 \n",
      " NDEGF = 0 \n",
      " version 24 \n",
      "  |======================================================================| 100%\n"
     ]
    },
    {
     "name": "stderr",
     "output_type": "stream",
     "text": [
      "Warning message in dcd.header(trj, verbose):\n",
      "“Check DCD header data is correct, particulary natom”\n"
     ]
    },
    {
     "name": "stdout",
     "output_type": "stream",
     "text": [
      " NATOM = 6598 \n",
      " NFRAME= 1002 \n",
      " ISTART= 0 \n",
      " last  = 1002 \n",
      " nstep = 1002 \n",
      " nfile = 1002 \n",
      " NSAVE = 1 \n",
      " NDEGF = 0 \n",
      " version 24 \n",
      "  |======================================================================| 100%\n"
     ]
    },
    {
     "name": "stderr",
     "output_type": "stream",
     "text": [
      "Warning message in dcd.header(trj, verbose):\n",
      "“Check DCD header data is correct, particulary natom”\n"
     ]
    },
    {
     "name": "stdout",
     "output_type": "stream",
     "text": [
      " NATOM = 6598 \n",
      " NFRAME= 1002 \n",
      " ISTART= 0 \n",
      " last  = 1002 \n",
      " nstep = 1002 \n",
      " nfile = 1002 \n",
      " NSAVE = 1 \n",
      " NDEGF = 0 \n",
      " version 24 \n",
      "  |======================================================================| 100%\n"
     ]
    },
    {
     "name": "stderr",
     "output_type": "stream",
     "text": [
      "Warning message in dcd.header(trj, verbose):\n",
      "“Check DCD header data is correct, particulary natom”\n"
     ]
    },
    {
     "name": "stdout",
     "output_type": "stream",
     "text": [
      " NATOM = 6598 \n",
      " NFRAME= 1002 \n",
      " ISTART= 0 \n",
      " last  = 1002 \n",
      " nstep = 1002 \n",
      " nfile = 1002 \n",
      " NSAVE = 1 \n",
      " NDEGF = 0 \n",
      " version 24 \n",
      "  |======================================================================| 100%\n"
     ]
    },
    {
     "name": "stderr",
     "output_type": "stream",
     "text": [
      "Warning message in dcd.header(trj, verbose):\n",
      "“Check DCD header data is correct, particulary natom”\n"
     ]
    },
    {
     "name": "stdout",
     "output_type": "stream",
     "text": [
      " NATOM = 6598 \n",
      " NFRAME= 1002 \n",
      " ISTART= 0 \n",
      " last  = 1002 \n",
      " nstep = 1002 \n",
      " nfile = 1002 \n",
      " NSAVE = 1 \n",
      " NDEGF = 0 \n",
      " version 24 \n",
      "  |======================================================================| 100%\n"
     ]
    },
    {
     "name": "stderr",
     "output_type": "stream",
     "text": [
      "Warning message in dcd.header(trj, verbose):\n",
      "“Check DCD header data is correct, particulary natom”\n"
     ]
    },
    {
     "name": "stdout",
     "output_type": "stream",
     "text": [
      " NATOM = 6598 \n",
      " NFRAME= 1002 \n",
      " ISTART= 0 \n",
      " last  = 1002 \n",
      " nstep = 1002 \n",
      " nfile = 1002 \n",
      " NSAVE = 1 \n",
      " NDEGF = 0 \n",
      " version 24 \n",
      "  |======================================================================| 100%\n"
     ]
    },
    {
     "name": "stderr",
     "output_type": "stream",
     "text": [
      "Warning message in dcd.header(trj, verbose):\n",
      "“Check DCD header data is correct, particulary natom”\n"
     ]
    },
    {
     "name": "stdout",
     "output_type": "stream",
     "text": [
      " NATOM = 6598 \n",
      " NFRAME= 1002 \n",
      " ISTART= 0 \n",
      " last  = 1002 \n",
      " nstep = 1002 \n",
      " nfile = 1002 \n",
      " NSAVE = 1 \n",
      " NDEGF = 0 \n",
      " version 24 \n",
      "  |======================================================================| 100%\n"
     ]
    },
    {
     "name": "stderr",
     "output_type": "stream",
     "text": [
      "Warning message in dcd.header(trj, verbose):\n",
      "“Check DCD header data is correct, particulary natom”\n"
     ]
    },
    {
     "name": "stdout",
     "output_type": "stream",
     "text": [
      " NATOM = 6598 \n",
      " NFRAME= 1002 \n",
      " ISTART= 0 \n",
      " last  = 1002 \n",
      " nstep = 1002 \n",
      " nfile = 1002 \n",
      " NSAVE = 1 \n",
      " NDEGF = 0 \n",
      " version 24 \n",
      "  |======================================================================| 100%\n"
     ]
    },
    {
     "name": "stderr",
     "output_type": "stream",
     "text": [
      "Warning message in dcd.header(trj, verbose):\n",
      "“Check DCD header data is correct, particulary natom”\n"
     ]
    },
    {
     "name": "stdout",
     "output_type": "stream",
     "text": [
      " NATOM = 6598 \n",
      " NFRAME= 1002 \n",
      " ISTART= 0 \n",
      " last  = 1002 \n",
      " nstep = 1002 \n",
      " nfile = 1002 \n",
      " NSAVE = 1 \n",
      " NDEGF = 0 \n",
      " version 24 \n",
      "  |======================================================================| 100%\n"
     ]
    },
    {
     "name": "stderr",
     "output_type": "stream",
     "text": [
      "Warning message in dcd.header(trj, verbose):\n",
      "“Check DCD header data is correct, particulary natom”\n"
     ]
    },
    {
     "name": "stdout",
     "output_type": "stream",
     "text": [
      " NATOM = 6598 \n",
      " NFRAME= 1002 \n",
      " ISTART= 0 \n",
      " last  = 1002 \n",
      " nstep = 1002 \n",
      " nfile = 1002 \n",
      " NSAVE = 1 \n",
      " NDEGF = 0 \n",
      " version 24 \n",
      "  |======================================================================| 100%\n"
     ]
    },
    {
     "name": "stderr",
     "output_type": "stream",
     "text": [
      "Warning message in dcd.header(trj, verbose):\n",
      "“Check DCD header data is correct, particulary natom”\n"
     ]
    },
    {
     "name": "stdout",
     "output_type": "stream",
     "text": [
      " NATOM = 6598 \n",
      " NFRAME= 1002 \n",
      " ISTART= 0 \n",
      " last  = 1002 \n",
      " nstep = 1002 \n",
      " nfile = 1002 \n",
      " NSAVE = 1 \n",
      " NDEGF = 0 \n",
      " version 24 \n",
      "  |======================================================================| 100%\n"
     ]
    },
    {
     "name": "stderr",
     "output_type": "stream",
     "text": [
      "Warning message in dcd.header(trj, verbose):\n",
      "“Check DCD header data is correct, particulary natom”\n"
     ]
    },
    {
     "name": "stdout",
     "output_type": "stream",
     "text": [
      " NATOM = 6598 \n",
      " NFRAME= 1002 \n",
      " ISTART= 0 \n",
      " last  = 1002 \n",
      " nstep = 1002 \n",
      " nfile = 1002 \n",
      " NSAVE = 1 \n",
      " NDEGF = 0 \n",
      " version 24 \n",
      "  |======================================================================| 100%\n",
      " NATOM = 6598 \n",
      " NFRAME= 1002 \n",
      " ISTART= 0 \n",
      " last  = 1002 \n",
      " nstep = 1002 \n",
      " nfile = 1002 \n",
      " NSAVE = 1 \n",
      " NDEGF = 0 \n",
      " version 24 \n",
      "  |======================================================================| 100%\n"
     ]
    },
    {
     "name": "stderr",
     "output_type": "stream",
     "text": [
      "Warning message in dcd.header(trj, verbose):\n",
      "“Check DCD header data is correct, particulary natom”\n"
     ]
    },
    {
     "name": "stdout",
     "output_type": "stream",
     "text": [
      " NATOM = 6598 \n",
      " NFRAME= 1002 \n",
      " ISTART= 0 \n",
      " last  = 1002 \n",
      " nstep = 1002 \n",
      " nfile = 1002 \n",
      " NSAVE = 1 \n",
      " NDEGF = 0 \n",
      " version 24 \n",
      "  |======================================================================| 100%\n"
     ]
    },
    {
     "name": "stderr",
     "output_type": "stream",
     "text": [
      "Warning message in dcd.header(trj, verbose):\n",
      "“Check DCD header data is correct, particulary natom”\n"
     ]
    },
    {
     "name": "stdout",
     "output_type": "stream",
     "text": [
      " NATOM = 6598 \n",
      " NFRAME= 1002 \n",
      " ISTART= 0 \n",
      " last  = 1002 \n",
      " nstep = 1002 \n",
      " nfile = 1002 \n",
      " NSAVE = 1 \n",
      " NDEGF = 0 \n",
      " version 24 \n",
      "  |======================================================================| 100%\n"
     ]
    },
    {
     "name": "stderr",
     "output_type": "stream",
     "text": [
      "Warning message in dcd.header(trj, verbose):\n",
      "“Check DCD header data is correct, particulary natom”\n"
     ]
    },
    {
     "name": "stdout",
     "output_type": "stream",
     "text": [
      " NATOM = 6598 \n",
      " NFRAME= 1002 \n",
      " ISTART= 0 \n",
      " last  = 1002 \n",
      " nstep = 1002 \n",
      " nfile = 1002 \n",
      " NSAVE = 1 \n",
      " NDEGF = 0 \n",
      " version 24 \n",
      "  |======================================================================| 100%\n"
     ]
    },
    {
     "name": "stderr",
     "output_type": "stream",
     "text": [
      "Warning message in dcd.header(trj, verbose):\n",
      "“Check DCD header data is correct, particulary natom”\n"
     ]
    },
    {
     "name": "stdout",
     "output_type": "stream",
     "text": [
      " NATOM = 6598 \n",
      " NFRAME= 1002 \n",
      " ISTART= 0 \n",
      " last  = 1002 \n",
      " nstep = 1002 \n",
      " nfile = 1002 \n",
      " NSAVE = 1 \n",
      " NDEGF = 0 \n",
      " version 24 \n",
      "  |======================================================================| 100%\n"
     ]
    },
    {
     "name": "stderr",
     "output_type": "stream",
     "text": [
      "Warning message in dcd.header(trj, verbose):\n",
      "“Check DCD header data is correct, particulary natom”\n"
     ]
    },
    {
     "name": "stdout",
     "output_type": "stream",
     "text": [
      " NATOM = 6598 \n",
      " NFRAME= 1002 \n",
      " ISTART= 0 \n",
      " last  = 1002 \n",
      " nstep = 1002 \n",
      " nfile = 1002 \n",
      " NSAVE = 1 \n",
      " NDEGF = 0 \n",
      " version 24 \n",
      "  |======================================================================| 100%\n"
     ]
    },
    {
     "name": "stderr",
     "output_type": "stream",
     "text": [
      "Warning message in dcd.header(trj, verbose):\n",
      "“Check DCD header data is correct, particulary natom”\n"
     ]
    },
    {
     "name": "stdout",
     "output_type": "stream",
     "text": [
      " NATOM = 6598 \n",
      " NFRAME= 1002 \n",
      " ISTART= 0 \n",
      " last  = 1002 \n",
      " nstep = 1002 \n",
      " nfile = 1002 \n",
      " NSAVE = 1 \n",
      " NDEGF = 0 \n",
      " version 24 \n",
      "  |======================================================================| 100%\n"
     ]
    },
    {
     "name": "stderr",
     "output_type": "stream",
     "text": [
      "Warning message in dcd.header(trj, verbose):\n",
      "“Check DCD header data is correct, particulary natom”\n"
     ]
    },
    {
     "name": "stdout",
     "output_type": "stream",
     "text": [
      " NATOM = 6598 \n",
      " NFRAME= 1002 \n",
      " ISTART= 0 \n",
      " last  = 1002 \n",
      " nstep = 1002 \n",
      " nfile = 1002 \n",
      " NSAVE = 1 \n",
      " NDEGF = 0 \n",
      " version 24 \n",
      "  |======================================================================| 100%\n"
     ]
    },
    {
     "name": "stderr",
     "output_type": "stream",
     "text": [
      "Warning message in dcd.header(trj, verbose):\n",
      "“Check DCD header data is correct, particulary natom”\n"
     ]
    },
    {
     "name": "stdout",
     "output_type": "stream",
     "text": [
      " NATOM = 6598 \n",
      " NFRAME= 1002 \n",
      " ISTART= 0 \n",
      " last  = 1002 \n",
      " nstep = 1002 \n",
      " nfile = 1002 \n",
      " NSAVE = 1 \n",
      " NDEGF = 0 \n",
      " version 24 \n",
      "  |======================================================================| 100%\n"
     ]
    },
    {
     "name": "stderr",
     "output_type": "stream",
     "text": [
      "Warning message in dcd.header(trj, verbose):\n",
      "“Check DCD header data is correct, particulary natom”\n"
     ]
    },
    {
     "name": "stdout",
     "output_type": "stream",
     "text": [
      " NATOM = 6598 \n",
      " NFRAME= 1002 \n",
      " ISTART= 0 \n",
      " last  = 1002 \n",
      " nstep = 1002 \n",
      " nfile = 1002 \n",
      " NSAVE = 1 \n",
      " NDEGF = 0 \n",
      " version 24 \n",
      "  |======================================================================| 100%\n"
     ]
    },
    {
     "name": "stderr",
     "output_type": "stream",
     "text": [
      "Warning message in dcd.header(trj, verbose):\n",
      "“Check DCD header data is correct, particulary natom”\n"
     ]
    },
    {
     "name": "stdout",
     "output_type": "stream",
     "text": [
      " NATOM = 6598 \n",
      " NFRAME= 1002 \n",
      " ISTART= 0 \n",
      " last  = 1002 \n",
      " nstep = 1002 \n",
      " nfile = 1002 \n",
      " NSAVE = 1 \n",
      " NDEGF = 0 \n",
      " version 24 \n",
      "  |======================================================================| 100%\n"
     ]
    },
    {
     "name": "stderr",
     "output_type": "stream",
     "text": [
      "Warning message in dcd.header(trj, verbose):\n",
      "“Check DCD header data is correct, particulary natom”\n"
     ]
    },
    {
     "name": "stdout",
     "output_type": "stream",
     "text": [
      " NATOM = 6598 \n",
      " NFRAME= 1002 \n",
      " ISTART= 0 \n",
      " last  = 1002 \n",
      " nstep = 1002 \n",
      " nfile = 1002 \n",
      " NSAVE = 1 \n",
      " NDEGF = 0 \n",
      " version 24 \n",
      "  |======================================================================| 100%\n"
     ]
    },
    {
     "name": "stderr",
     "output_type": "stream",
     "text": [
      "Warning message in dcd.header(trj, verbose):\n",
      "“Check DCD header data is correct, particulary natom”\n"
     ]
    },
    {
     "name": "stdout",
     "output_type": "stream",
     "text": [
      " NATOM = 6598 \n",
      " NFRAME= 1002 \n",
      " ISTART= 0 \n",
      " last  = 1002 \n",
      " nstep = 1002 \n",
      " nfile = 1002 \n",
      " NSAVE = 1 \n",
      " NDEGF = 0 \n",
      " version 24 \n",
      "  |======================================================================| 100%\n"
     ]
    },
    {
     "name": "stderr",
     "output_type": "stream",
     "text": [
      "Warning message in dcd.header(trj, verbose):\n",
      "“Check DCD header data is correct, particulary natom”\n"
     ]
    },
    {
     "name": "stdout",
     "output_type": "stream",
     "text": [
      " NATOM = 6598 \n",
      " NFRAME= 1002 \n",
      " ISTART= 0 \n",
      " last  = 1002 \n",
      " nstep = 1002 \n",
      " nfile = 1002 \n",
      " NSAVE = 1 \n",
      " NDEGF = 0 \n",
      " version 24 \n",
      "  |======================================================================| 100%\n"
     ]
    },
    {
     "name": "stderr",
     "output_type": "stream",
     "text": [
      "Warning message in dcd.header(trj, verbose):\n",
      "“Check DCD header data is correct, particulary natom”\n"
     ]
    },
    {
     "name": "stdout",
     "output_type": "stream",
     "text": [
      " NATOM = 6598 \n",
      " NFRAME= 1002 \n",
      " ISTART= 0 \n",
      " last  = 1002 \n",
      " nstep = 1002 \n",
      " nfile = 1002 \n",
      " NSAVE = 1 \n",
      " NDEGF = 0 \n",
      " version 24 \n",
      "  |======================================================================| 100%\n"
     ]
    },
    {
     "name": "stderr",
     "output_type": "stream",
     "text": [
      "Warning message in dcd.header(trj, verbose):\n",
      "“Check DCD header data is correct, particulary natom”\n"
     ]
    },
    {
     "name": "stdout",
     "output_type": "stream",
     "text": [
      " NATOM = 6598 \n",
      " NFRAME= 1002 \n",
      " ISTART= 0 \n",
      " last  = 1002 \n",
      " nstep = 1002 \n",
      " nfile = 1002 \n",
      " NSAVE = 1 \n",
      " NDEGF = 0 \n",
      " version 24 \n",
      "  |======================================================================| 100%\n"
     ]
    },
    {
     "name": "stderr",
     "output_type": "stream",
     "text": [
      "Warning message in dcd.header(trj, verbose):\n",
      "“Check DCD header data is correct, particulary natom”\n"
     ]
    },
    {
     "name": "stdout",
     "output_type": "stream",
     "text": [
      " NATOM = 6598 \n",
      " NFRAME= 1002 \n",
      " ISTART= 0 \n",
      " last  = 1002 \n",
      " nstep = 1002 \n",
      " nfile = 1002 \n",
      " NSAVE = 1 \n",
      " NDEGF = 0 \n",
      " version 24 \n",
      "  |======================================================================| 100%\n"
     ]
    },
    {
     "name": "stderr",
     "output_type": "stream",
     "text": [
      "Warning message in dcd.header(trj, verbose):\n",
      "“Check DCD header data is correct, particulary natom”\n"
     ]
    },
    {
     "name": "stdout",
     "output_type": "stream",
     "text": [
      " NATOM = 6598 \n",
      " NFRAME= 1002 \n",
      " ISTART= 0 \n",
      " last  = 1002 \n",
      " nstep = 1002 \n",
      " nfile = 1002 \n",
      " NSAVE = 1 \n",
      " NDEGF = 0 \n",
      " version 24 \n",
      "  |======================================================================| 100%\n"
     ]
    },
    {
     "name": "stderr",
     "output_type": "stream",
     "text": [
      "Warning message in dcd.header(trj, verbose):\n",
      "“Check DCD header data is correct, particulary natom”\n"
     ]
    },
    {
     "name": "stdout",
     "output_type": "stream",
     "text": [
      " NATOM = 6598 \n",
      " NFRAME= 1002 \n",
      " ISTART= 0 \n",
      " last  = 1002 \n",
      " nstep = 1002 \n",
      " nfile = 1002 \n",
      " NSAVE = 1 \n",
      " NDEGF = 0 \n",
      " version 24 \n",
      "  |======================================================================| 100%\n"
     ]
    },
    {
     "name": "stderr",
     "output_type": "stream",
     "text": [
      "Warning message in dcd.header(trj, verbose):\n",
      "“Check DCD header data is correct, particulary natom”\n"
     ]
    },
    {
     "name": "stdout",
     "output_type": "stream",
     "text": [
      " NATOM = 6598 \n",
      " NFRAME= 1002 \n",
      " ISTART= 0 \n",
      " last  = 1002 \n",
      " nstep = 1002 \n",
      " nfile = 1002 \n",
      " NSAVE = 1 \n",
      " NDEGF = 0 \n",
      " version 24 \n",
      "  |======================================================================| 100%\n"
     ]
    },
    {
     "name": "stderr",
     "output_type": "stream",
     "text": [
      "Warning message in dcd.header(trj, verbose):\n",
      "“Check DCD header data is correct, particulary natom”\n"
     ]
    },
    {
     "name": "stdout",
     "output_type": "stream",
     "text": [
      " NATOM = 6598 \n",
      " NFRAME= 1002 \n",
      " ISTART= 0 \n",
      " last  = 1002 \n",
      " nstep = 1002 \n",
      " nfile = 1002 \n",
      " NSAVE = 1 \n",
      " NDEGF = 0 \n",
      " version 24 \n",
      "  |======================================================================| 100%\n"
     ]
    },
    {
     "name": "stderr",
     "output_type": "stream",
     "text": [
      "Warning message in dcd.header(trj, verbose):\n",
      "“Check DCD header data is correct, particulary natom”\n"
     ]
    },
    {
     "name": "stdout",
     "output_type": "stream",
     "text": [
      " NATOM = 6598 \n",
      " NFRAME= 1002 \n",
      " ISTART= 0 \n",
      " last  = 1002 \n",
      " nstep = 1002 \n",
      " nfile = 1002 \n",
      " NSAVE = 1 \n",
      " NDEGF = 0 \n",
      " version 24 \n",
      "  |======================================================================| 100%\n"
     ]
    },
    {
     "name": "stderr",
     "output_type": "stream",
     "text": [
      "Warning message in dcd.header(trj, verbose):\n",
      "“Check DCD header data is correct, particulary natom”\n"
     ]
    },
    {
     "name": "stdout",
     "output_type": "stream",
     "text": [
      " NATOM = 6598 \n",
      " NFRAME= 1002 \n",
      " ISTART= 0 \n",
      " last  = 1002 \n",
      " nstep = 1002 \n",
      " nfile = 1002 \n",
      " NSAVE = 1 \n",
      " NDEGF = 0 \n",
      " version 24 \n",
      "  |======================================================================| 100%\n"
     ]
    },
    {
     "name": "stderr",
     "output_type": "stream",
     "text": [
      "Warning message in dcd.header(trj, verbose):\n",
      "“Check DCD header data is correct, particulary natom”\n"
     ]
    },
    {
     "name": "stdout",
     "output_type": "stream",
     "text": [
      " NATOM = 6598 \n",
      " NFRAME= 1002 \n",
      " ISTART= 0 \n",
      " last  = 1002 \n",
      " nstep = 1002 \n",
      " nfile = 1002 \n",
      " NSAVE = 1 \n",
      " NDEGF = 0 \n",
      " version 24 \n",
      "  |======================================================================| 100%\n"
     ]
    },
    {
     "name": "stderr",
     "output_type": "stream",
     "text": [
      "Warning message in dcd.header(trj, verbose):\n",
      "“Check DCD header data is correct, particulary natom”\n"
     ]
    },
    {
     "name": "stdout",
     "output_type": "stream",
     "text": [
      " NATOM = 6598 \n",
      " NFRAME= 1002 \n",
      " ISTART= 0 \n",
      " last  = 1002 \n",
      " nstep = 1002 \n",
      " nfile = 1002 \n",
      " NSAVE = 1 \n",
      " NDEGF = 0 \n",
      " version 24 \n",
      "  |======================================================================| 100%\n"
     ]
    },
    {
     "name": "stderr",
     "output_type": "stream",
     "text": [
      "Warning message in dcd.header(trj, verbose):\n",
      "“Check DCD header data is correct, particulary natom”\n"
     ]
    },
    {
     "name": "stdout",
     "output_type": "stream",
     "text": [
      " NATOM = 6598 \n",
      " NFRAME= 1002 \n",
      " ISTART= 0 \n",
      " last  = 1002 \n",
      " nstep = 1002 \n",
      " nfile = 1002 \n",
      " NSAVE = 1 \n",
      " NDEGF = 0 \n",
      " version 24 \n",
      "  |======================================================================| 100%\n"
     ]
    },
    {
     "name": "stderr",
     "output_type": "stream",
     "text": [
      "Warning message in dcd.header(trj, verbose):\n",
      "“Check DCD header data is correct, particulary natom”\n"
     ]
    },
    {
     "name": "stdout",
     "output_type": "stream",
     "text": [
      " NATOM = 6598 \n",
      " NFRAME= 1002 \n",
      " ISTART= 0 \n",
      " last  = 1002 \n",
      " nstep = 1002 \n",
      " nfile = 1002 \n",
      " NSAVE = 1 \n",
      " NDEGF = 0 \n",
      " version 24 \n",
      "  |======================================================================| 100%\n"
     ]
    },
    {
     "name": "stderr",
     "output_type": "stream",
     "text": [
      "Warning message in dcd.header(trj, verbose):\n",
      "“Check DCD header data is correct, particulary natom”\n"
     ]
    },
    {
     "name": "stdout",
     "output_type": "stream",
     "text": [
      " NATOM = 6598 \n",
      " NFRAME= 1002 \n",
      " ISTART= 0 \n",
      " last  = 1002 \n",
      " nstep = 1002 \n",
      " nfile = 1002 \n",
      " NSAVE = 1 \n",
      " NDEGF = 0 \n",
      " version 24 \n",
      "  |======================================================================| 100%\n"
     ]
    },
    {
     "name": "stderr",
     "output_type": "stream",
     "text": [
      "Warning message in dcd.header(trj, verbose):\n",
      "“Check DCD header data is correct, particulary natom”\n"
     ]
    },
    {
     "name": "stdout",
     "output_type": "stream",
     "text": [
      " NATOM = 6598 \n",
      " NFRAME= 1002 \n",
      " ISTART= 0 \n",
      " last  = 1002 \n",
      " nstep = 1002 \n",
      " nfile = 1002 \n",
      " NSAVE = 1 \n",
      " NDEGF = 0 \n",
      " version 24 \n",
      "  |======================================================================| 100%\n"
     ]
    },
    {
     "name": "stderr",
     "output_type": "stream",
     "text": [
      "Warning message in dcd.header(trj, verbose):\n",
      "“Check DCD header data is correct, particulary natom”\n"
     ]
    },
    {
     "name": "stdout",
     "output_type": "stream",
     "text": [
      " NATOM = 6598 \n",
      " NFRAME= 1002 \n",
      " ISTART= 0 \n",
      " last  = 1002 \n",
      " nstep = 1002 \n",
      " nfile = 1002 \n",
      " NSAVE = 1 \n",
      " NDEGF = 0 \n",
      " version 24 \n",
      "  |======================================================================| 100%\n"
     ]
    },
    {
     "name": "stderr",
     "output_type": "stream",
     "text": [
      "Warning message in dcd.header(trj, verbose):\n",
      "“Check DCD header data is correct, particulary natom”\n"
     ]
    },
    {
     "name": "stdout",
     "output_type": "stream",
     "text": [
      " NATOM = 6598 \n",
      " NFRAME= 1002 \n",
      " ISTART= 0 \n",
      " last  = 1002 \n",
      " nstep = 1002 \n",
      " nfile = 1002 \n",
      " NSAVE = 1 \n",
      " NDEGF = 0 \n",
      " version 24 \n",
      "  |======================================================================| 100%\n"
     ]
    },
    {
     "name": "stderr",
     "output_type": "stream",
     "text": [
      "Warning message in dcd.header(trj, verbose):\n",
      "“Check DCD header data is correct, particulary natom”\n"
     ]
    },
    {
     "name": "stdout",
     "output_type": "stream",
     "text": [
      " NATOM = 6598 \n",
      " NFRAME= 1002 \n",
      " ISTART= 0 \n",
      " last  = 1002 \n",
      " nstep = 1002 \n",
      " nfile = 1002 \n",
      " NSAVE = 1 \n",
      " NDEGF = 0 \n",
      " version 24 \n",
      "  |======================================================================| 100%\n"
     ]
    },
    {
     "name": "stderr",
     "output_type": "stream",
     "text": [
      "Warning message in dcd.header(trj, verbose):\n",
      "“Check DCD header data is correct, particulary natom”\n"
     ]
    },
    {
     "name": "stdout",
     "output_type": "stream",
     "text": [
      " NATOM = 6598 \n",
      " NFRAME= 1002 \n",
      " ISTART= 0 \n",
      " last  = 1002 \n",
      " nstep = 1002 \n",
      " nfile = 1002 \n",
      " NSAVE = 1 \n",
      " NDEGF = 0 \n",
      " version 24 \n",
      "  |======================================================================| 100%\n"
     ]
    },
    {
     "name": "stderr",
     "output_type": "stream",
     "text": [
      "Warning message in dcd.header(trj, verbose):\n",
      "“Check DCD header data is correct, particulary natom”\n"
     ]
    },
    {
     "name": "stdout",
     "output_type": "stream",
     "text": [
      " NATOM = 6598 \n",
      " NFRAME= 1002 \n",
      " ISTART= 0 \n",
      " last  = 1002 \n",
      " nstep = 1002 \n",
      " nfile = 1002 \n",
      " NSAVE = 1 \n",
      " NDEGF = 0 \n",
      " version 24 \n",
      "  |======================================================================| 100%\n"
     ]
    },
    {
     "name": "stderr",
     "output_type": "stream",
     "text": [
      "Warning message in dcd.header(trj, verbose):\n",
      "“Check DCD header data is correct, particulary natom”\n"
     ]
    },
    {
     "name": "stdout",
     "output_type": "stream",
     "text": [
      " NATOM = 6598 \n",
      " NFRAME= 1002 \n",
      " ISTART= 0 \n",
      " last  = 1002 \n",
      " nstep = 1002 \n",
      " nfile = 1002 \n",
      " NSAVE = 1 \n",
      " NDEGF = 0 \n",
      " version 24 \n",
      "  |======================================================================| 100%\n"
     ]
    },
    {
     "name": "stderr",
     "output_type": "stream",
     "text": [
      "Warning message in dcd.header(trj, verbose):\n",
      "“Check DCD header data is correct, particulary natom”\n"
     ]
    },
    {
     "name": "stdout",
     "output_type": "stream",
     "text": [
      " NATOM = 6598 \n",
      " NFRAME= 1002 \n",
      " ISTART= 0 \n",
      " last  = 1002 \n",
      " nstep = 1002 \n",
      " nfile = 1002 \n",
      " NSAVE = 1 \n",
      " NDEGF = 0 \n",
      " version 24 \n",
      "  |======================================================================| 100%\n"
     ]
    },
    {
     "name": "stderr",
     "output_type": "stream",
     "text": [
      "Warning message in dcd.header(trj, verbose):\n",
      "“Check DCD header data is correct, particulary natom”\n"
     ]
    },
    {
     "name": "stdout",
     "output_type": "stream",
     "text": [
      " NATOM = 6598 \n",
      " NFRAME= 1002 \n",
      " ISTART= 0 \n",
      " last  = 1002 \n",
      " nstep = 1002 \n",
      " nfile = 1002 \n",
      " NSAVE = 1 \n",
      " NDEGF = 0 \n",
      " version 24 \n",
      "  |======================================================================| 100%\n"
     ]
    },
    {
     "name": "stderr",
     "output_type": "stream",
     "text": [
      "Warning message in dcd.header(trj, verbose):\n",
      "“Check DCD header data is correct, particulary natom”\n"
     ]
    },
    {
     "name": "stdout",
     "output_type": "stream",
     "text": [
      " NATOM = 6598 \n",
      " NFRAME= 1002 \n",
      " ISTART= 0 \n",
      " last  = 1002 \n",
      " nstep = 1002 \n",
      " nfile = 1002 \n",
      " NSAVE = 1 \n",
      " NDEGF = 0 \n",
      " version 24 \n",
      "  |======================================================================| 100%\n"
     ]
    },
    {
     "name": "stderr",
     "output_type": "stream",
     "text": [
      "Warning message in dcd.header(trj, verbose):\n",
      "“Check DCD header data is correct, particulary natom”\n"
     ]
    },
    {
     "name": "stdout",
     "output_type": "stream",
     "text": [
      " NATOM = 6598 \n",
      " NFRAME= 1002 \n",
      " ISTART= 0 \n",
      " last  = 1002 \n",
      " nstep = 1002 \n",
      " nfile = 1002 \n",
      " NSAVE = 1 \n",
      " NDEGF = 0 \n",
      " version 24 \n",
      "  |======================================================================| 100%\n"
     ]
    },
    {
     "ename": "ERROR",
     "evalue": "Error in dcd.header(trj, verbose): PROBLEM with endian detection\n",
     "output_type": "error",
     "traceback": [
      "Error in dcd.header(trj, verbose): PROBLEM with endian detection\nTraceback:\n",
      "1. read.dcd(i)",
      "2. dcd.header(trj, verbose)",
      "3. stop(\"PROBLEM with endian detection\")"
     ]
    }
   ],
   "source": [
    "# all the previous .png have to be deleted to run this cell \n",
    "\n",
    "filepath <- getwd()\n",
    "files <- list.files()\n",
    "\n",
    "for (i in files) {\n",
    "    \n",
    "    #read dcd file\n",
    "    trj <- read.dcd(i)\n",
    "    \n",
    "    #select alpha carbon\n",
    "    inds <- atom.select(pdb, elety='CA')\n",
    "\n",
    "   ## lsq fit of trj on pdb\n",
    "\n",
    "    xyz <- fit.xyz(pdb$xyz, trj, fixed.inds=inds$xyz, mobile.inds=inds$xyz)\n",
    "    \n",
    "    #Calculate the dynamic cross-correlation matrix.\n",
    "\n",
    "\n",
    "    cij <- dccm(xyz[,inds$xyz])\n",
    "    \n",
    "    #save as png image in specific directory with 600*350 resolution\n",
    "    #png(file = file.path(filepath, paste0(toString(i), \".png\")))\n",
    "    png(file = file.path(filepath, paste0(tools::file_path_sans_ext(i), \".png\")))\n",
    "    \n",
    "    \n",
    "    # customise title\n",
    "    title = tools::file_path_sans_ext(i)\n",
    "    \n",
    "    # a DCCM we want to save\n",
    "    plot(cij, main = title)\n",
    "    \n",
    "    \n",
    "    # a function call to save the file\n",
    "    dev.off()  \n",
    "  \n",
    "}\n",
    "\n",
    "# improvement for future use: maybe I can edit the png line a bit so that I could output all the plots into a specific directory"
   ]
  },
  {
   "cell_type": "code",
   "execution_count": null,
   "id": "fd1a0e6d",
   "metadata": {},
   "outputs": [],
   "source": []
  }
 ],
 "metadata": {
  "kernelspec": {
   "display_name": "R",
   "language": "R",
   "name": "ir"
  },
  "language_info": {
   "codemirror_mode": "r",
   "file_extension": ".r",
   "mimetype": "text/x-r-source",
   "name": "R",
   "pygments_lexer": "r",
   "version": "4.1.1"
  },
  "nbTranslate": {
   "displayLangs": [
    "*"
   ],
   "hotkey": "alt-t",
   "langInMainMenu": true,
   "sourceLang": "en",
   "targetLang": "fr",
   "useGoogleTranslate": true
  },
  "toc": {
   "base_numbering": 1,
   "nav_menu": {},
   "number_sections": true,
   "sideBar": true,
   "skip_h1_title": false,
   "title_cell": "Table of Contents",
   "title_sidebar": "Contents",
   "toc_cell": false,
   "toc_position": {},
   "toc_section_display": true,
   "toc_window_display": false
  }
 },
 "nbformat": 4,
 "nbformat_minor": 5
}
